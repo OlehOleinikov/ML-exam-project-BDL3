{
 "cells": [
  {
   "cell_type": "code",
   "execution_count": 1,
   "outputs": [],
   "source": [
    "import pandas as pd\n",
    "import numpy as np\n",
    "import seaborn as sns\n",
    "import matplotlib.pyplot as plt\n",
    "\n",
    "from io import BytesIO\n",
    "\n",
    "from docx import Document\n",
    "from docx.enum.style import WD_STYLE_TYPE\n",
    "from docx.shared import Pt, Cm\n",
    "from docx.enum.text import WD_PARAGRAPH_ALIGNMENT\n",
    "\n",
    "from loader_sas import LoaderSAS\n",
    "#from preprocessing import LazyDataStuart"
   ],
   "metadata": {
    "collapsed": false,
    "pycharm": {
     "name": "#%%\n"
    }
   }
  },
  {
   "cell_type": "code",
   "execution_count": 2,
   "outputs": [],
   "source": [
    "import matplotlib as mpl\n",
    "font_common = {'family': 'Liberation Sans',\n",
    "               'weight': 'bold',\n",
    "               'size': 25}\n",
    "mpl.rc('font', **font_common)"
   ],
   "metadata": {
    "collapsed": false,
    "pycharm": {
     "name": "#%%\n"
    }
   }
  },
  {
   "cell_type": "markdown",
   "source": [
    "# Запланований pipeline після загального ознайомлення з даними та задачею:\n",
    "\n",
    "## Дослідження даних, опрацювання, виділення нових фіч\n",
    "1. Детальніший огляд даних.\n",
    "- Оглянути основний датасет з вітриною клієнта (Типи даних, наявність місінгів, очевидних викидів, тощо)\n",
    "- Додаткові датасети (що можна виділити або викорстати)\n",
    "2. Визначити стратегію заповнення місінгів (розділити фічі на групи для пакетного опрацювання)\n",
    "3. Виділити категоріальні фічі для подальшого перетворення\n",
    "4. Розглянути можливості оптимізації через: скейлінг(для окремих моделей), кореляцію (дубльовані дані), балансування датасету, опрацювання викидів\n",
    "5. Виділити нові фічі з датасету додатків (Apps). Кількість унікальних додатків близько 700 можна спробувати використати всі дані:\n",
    "- наявність додатку у абонента\n",
    "- статистичні показники - без обробки\n",
    "- абсолютні, спробувати у відношенні, наприклад, до лайфтайму клієнта\n",
    "6. Виділити нові фічі з датасету сервісів (bnum). Унікальних близько 16 000, можна спробувати виділити нові групи, яких немає в головному датасеті. Наприклад, магазини техніки, послуги для більш молодих користувачів, ознака маргінальності (мікрокредити, казино, колектори), ознака заможності (доставки їжі, приватні клініки, замовлення таксі, використання платіжних систем, тощо).\n",
    "7. Поєднання отриманих фіч з основним датасетом."
   ],
   "metadata": {
    "collapsed": false,
    "pycharm": {
     "name": "#%% md\n"
    }
   }
  },
  {
   "cell_type": "markdown",
   "source": [
    "# Load data"
   ],
   "metadata": {
    "collapsed": false,
    "pycharm": {
     "name": "#%% md\n"
    }
   }
  },
  {
   "cell_type": "code",
   "execution_count": 2,
   "outputs": [
    {
     "name": "stdout",
     "output_type": "stream",
     "text": [
      "FILES SAS7DBAT IN DIR '.':\n",
      "\t 1 \t ./hash_school_device_model_t.sas7bdat \t 3.0078125  Mb\n",
      "\t 2 \t ./hash_school_device_model_t_fe.sas7bdat \t 1149.5078125  Mb\n",
      "\t 3 \t ./hash_school_device_test_dpi.sas7bdat \t 251.0078125  Mb\n",
      "\t 4 \t ./hash_school_device_model_fe.sas7bdat \t 1389.5078125  Mb\n",
      "\t 5 \t ./hash_school_device_b_num.sas7bdat \t 70.5078125  Mb\n",
      "\t 6 \t ./hash_school_device_dpi.sas7bdat \t 305.5078125  Mb\n",
      "\t 7 \t ./hash_school_device_b_num_test.sas7bdat \t 65.0078125  Mb\n"
     ]
    }
   ],
   "source": [
    "loader = LoaderSAS()\n",
    "loader.show_files(work_dir='.')"
   ],
   "metadata": {
    "collapsed": false,
    "pycharm": {
     "name": "#%%\n"
    }
   }
  },
  {
   "cell_type": "code",
   "execution_count": 4,
   "outputs": [
    {
     "name": "stdout",
     "output_type": "stream",
     "text": [
      "Loading hash_school_device_model_fe.sas7bdat (1389.5 Mb)...\n",
      "Loaded in 0:02:56 (7.9 Mb/sec), memory usage - 1.35 Gb\n"
     ]
    }
   ],
   "source": [
    "train_main_fe = loader.get_df('hash_school_device_model_fe.sas7bdat')"
   ],
   "metadata": {
    "collapsed": false,
    "pycharm": {
     "name": "#%%\n"
    }
   }
  },
  {
   "cell_type": "code",
   "execution_count": 53,
   "outputs": [
    {
     "name": "stdout",
     "output_type": "stream",
     "text": [
      "Loading hash_school_device_b_num.sas7bdat (70.5 Mb)...\n",
      "Loaded in 0:00:07 (9.2 Mb/sec), memory usage - 0.09 Gb\n"
     ]
    }
   ],
   "source": [
    "train_services = loader.get_df('hash_school_device_b_num.sas7bdat')"
   ],
   "metadata": {
    "collapsed": false,
    "pycharm": {
     "name": "#%%\n"
    }
   }
  },
  {
   "cell_type": "code",
   "execution_count": 24,
   "outputs": [
    {
     "name": "stdout",
     "output_type": "stream",
     "text": [
      "Loading hash_school_device_dpi.sas7bdat (305.5 Mb)...\n",
      "Loaded in 0:00:45 (6.7 Mb/sec), memory usage - 0.3 Gb\n"
     ]
    }
   ],
   "source": [
    "train_apps = loader.get_df('hash_school_device_dpi.sas7bdat')"
   ],
   "metadata": {
    "collapsed": false,
    "pycharm": {
     "name": "#%%\n"
    }
   }
  },
  {
   "cell_type": "code",
   "execution_count": 5,
   "outputs": [
    {
     "name": "stdout",
     "output_type": "stream",
     "text": [
      "Loading hash_school_device_model_t_fe.sas7bdat (1149.5 Mb)...\n",
      "Loaded in 0:02:25 (7.9 Mb/sec), memory usage - 1.11 Gb\n"
     ]
    }
   ],
   "source": [
    "test_main_fe = loader.get_df('hash_school_device_model_t_fe.sas7bdat')"
   ],
   "metadata": {
    "collapsed": false,
    "pycharm": {
     "name": "#%%\n"
    }
   }
  },
  {
   "cell_type": "code",
   "execution_count": 54,
   "outputs": [
    {
     "name": "stdout",
     "output_type": "stream",
     "text": [
      "Loading hash_school_device_b_num_test.sas7bdat (65.0 Mb)...\n",
      "Loaded in 0:00:07 (8.7 Mb/sec), memory usage - 0.09 Gb\n"
     ]
    }
   ],
   "source": [
    "test_services = loader.get_df('hash_school_device_b_num_test.sas7bdat')"
   ],
   "metadata": {
    "collapsed": false,
    "pycharm": {
     "name": "#%%\n"
    }
   }
  },
  {
   "cell_type": "code",
   "execution_count": 25,
   "outputs": [
    {
     "name": "stdout",
     "output_type": "stream",
     "text": [
      "Loading hash_school_device_test_dpi.sas7bdat (251.0 Mb)...\n",
      "Loaded in 0:00:37 (6.7 Mb/sec), memory usage - 0.24 Gb\n"
     ]
    }
   ],
   "source": [
    "test_apps = loader.get_df('hash_school_device_test_dpi.sas7bdat')"
   ],
   "metadata": {
    "collapsed": false,
    "pycharm": {
     "name": "#%%\n"
    }
   }
  },
  {
   "cell_type": "code",
   "execution_count": 3,
   "outputs": [
    {
     "name": "stdout",
     "output_type": "stream",
     "text": [
      "Loading hash_school_device_model_t.sas7bdat (3.0 Mb)...\n",
      "Loaded in 0:00:00 (5.9 Mb/sec), memory usage - 0.0 Gb\n"
     ]
    }
   ],
   "source": [
    "test_target = loader.get_df('hash_school_device_model_t.sas7bdat')"
   ],
   "metadata": {
    "collapsed": false,
    "pycharm": {
     "name": "#%%\n"
    }
   }
  },
  {
   "cell_type": "markdown",
   "source": [
    "# Train main features df"
   ],
   "metadata": {
    "collapsed": false,
    "pycharm": {
     "name": "#%% md\n"
    }
   }
  },
  {
   "cell_type": "markdown",
   "source": [
    "### Первинний огляд датасету"
   ],
   "metadata": {
    "collapsed": false,
    "pycharm": {
     "name": "#%% md\n"
    }
   }
  },
  {
   "cell_type": "code",
   "execution_count": 11,
   "outputs": [
    {
     "name": "stdout",
     "output_type": "stream",
     "text": [
      "model_fe:\n",
      "\trows - 205625\n",
      "\tcols - 878\n"
     ]
    }
   ],
   "source": [
    "print(f\"model_fe:\\n\\trows - {train_main_fe.shape[0]}\\n\\tcols - {train_main_fe.shape[1]}\")"
   ],
   "metadata": {
    "collapsed": false,
    "pycharm": {
     "name": "#%%\n"
    }
   }
  },
  {
   "cell_type": "code",
   "execution_count": 12,
   "outputs": [
    {
     "data": {
      "text/plain": "0.0    155763\n1.0     49862\nName: target, dtype: int64"
     },
     "execution_count": 12,
     "metadata": {},
     "output_type": "execute_result"
    }
   ],
   "source": [
    "# Перевірка збалансованості датасету\n",
    "train_main_fe['target'].value_counts()"
   ],
   "metadata": {
    "collapsed": false,
    "pycharm": {
     "name": "#%%\n"
    }
   }
  },
  {
   "cell_type": "code",
   "execution_count": 13,
   "outputs": [
    {
     "data": {
      "text/plain": "205625"
     },
     "execution_count": 13,
     "metadata": {},
     "output_type": "execute_result"
    }
   ],
   "source": [
    "# Перевірка цілісності даних відносно ідентифікатора клієнта\n",
    "train_main_fe['abon_id'].nunique()"
   ],
   "metadata": {
    "collapsed": false,
    "pycharm": {
     "name": "#%%\n"
    }
   }
  },
  {
   "cell_type": "code",
   "execution_count": null,
   "outputs": [],
   "source": [
    "train_main_fe['device_sim_count'].value_counts()"
   ],
   "metadata": {
    "collapsed": false,
    "pycharm": {
     "name": "#%%\n"
    }
   }
  },
  {
   "cell_type": "code",
   "execution_count": 5,
   "outputs": [
    {
     "data": {
      "text/plain": "                               0          1          2          3          4  \\\nabon_id                1215806.0  1215139.0  1236635.0  1205230.0  1019270.0   \ndevice_id               100001.0   100001.0   100001.0   100001.0   100001.0   \ntarget                       0.0        0.0        0.0        0.0        0.0   \nBalance_uah            -0.005008   0.129405   0.000212   3.929049   0.799395   \nTM_ID                  72.038647  72.038647  72.223109  72.223109  72.014152   \n...                          ...        ...        ...        ...        ...   \ndevice_type_tablet           0.0        0.0        0.0        0.0        0.0   \ndevice_type_nan              0.0        0.0        0.0        0.0        0.0   \ndevice_type_rus_other        1.0        1.0        1.0        1.0        1.0   \ndevice_sim_count             1.0        1.0        1.0        1.0        1.0   \ndevice_price                 NaN        NaN        NaN        NaN        NaN   \n\n                               5                6          7          8  \\\nabon_id                1016800.0        1514463.0  1406287.0  1303520.0   \ndevice_id               100001.0         100001.0   100001.0   100001.0   \ntarget                       1.0              0.0        1.0        1.0   \nBalance_uah             0.728297 -693596029.91064    2.04542   0.132472   \nTM_ID                  71.703516        71.834736  72.014152  72.014152   \n...                          ...              ...        ...        ...   \ndevice_type_tablet           0.0              0.0        0.0        0.0   \ndevice_type_nan              0.0              0.0        0.0        0.0   \ndevice_type_rus_other        1.0              1.0        1.0        1.0   \ndevice_sim_count             1.0              1.0        1.0        1.0   \ndevice_price                 NaN              NaN        NaN        NaN   \n\n                                9  \nabon_id                 1118461.0  \ndevice_id                100003.0  \ntarget                        0.0  \nBalance_uah            7112.46578  \nTM_ID                   71.721301  \n...                           ...  \ndevice_type_tablet            0.0  \ndevice_type_nan               0.0  \ndevice_type_rus_other         1.0  \ndevice_sim_count              1.0  \ndevice_price                  NaN  \n\n[878 rows x 10 columns]",
      "text/html": "<div>\n<style scoped>\n    .dataframe tbody tr th:only-of-type {\n        vertical-align: middle;\n    }\n\n    .dataframe tbody tr th {\n        vertical-align: top;\n    }\n\n    .dataframe thead th {\n        text-align: right;\n    }\n</style>\n<table border=\"1\" class=\"dataframe\">\n  <thead>\n    <tr style=\"text-align: right;\">\n      <th></th>\n      <th>0</th>\n      <th>1</th>\n      <th>2</th>\n      <th>3</th>\n      <th>4</th>\n      <th>5</th>\n      <th>6</th>\n      <th>7</th>\n      <th>8</th>\n      <th>9</th>\n    </tr>\n  </thead>\n  <tbody>\n    <tr>\n      <th>abon_id</th>\n      <td>1215806.0</td>\n      <td>1215139.0</td>\n      <td>1236635.0</td>\n      <td>1205230.0</td>\n      <td>1019270.0</td>\n      <td>1016800.0</td>\n      <td>1514463.0</td>\n      <td>1406287.0</td>\n      <td>1303520.0</td>\n      <td>1118461.0</td>\n    </tr>\n    <tr>\n      <th>device_id</th>\n      <td>100001.0</td>\n      <td>100001.0</td>\n      <td>100001.0</td>\n      <td>100001.0</td>\n      <td>100001.0</td>\n      <td>100001.0</td>\n      <td>100001.0</td>\n      <td>100001.0</td>\n      <td>100001.0</td>\n      <td>100003.0</td>\n    </tr>\n    <tr>\n      <th>target</th>\n      <td>0.0</td>\n      <td>0.0</td>\n      <td>0.0</td>\n      <td>0.0</td>\n      <td>0.0</td>\n      <td>1.0</td>\n      <td>0.0</td>\n      <td>1.0</td>\n      <td>1.0</td>\n      <td>0.0</td>\n    </tr>\n    <tr>\n      <th>Balance_uah</th>\n      <td>-0.005008</td>\n      <td>0.129405</td>\n      <td>0.000212</td>\n      <td>3.929049</td>\n      <td>0.799395</td>\n      <td>0.728297</td>\n      <td>-693596029.91064</td>\n      <td>2.04542</td>\n      <td>0.132472</td>\n      <td>7112.46578</td>\n    </tr>\n    <tr>\n      <th>TM_ID</th>\n      <td>72.038647</td>\n      <td>72.038647</td>\n      <td>72.223109</td>\n      <td>72.223109</td>\n      <td>72.014152</td>\n      <td>71.703516</td>\n      <td>71.834736</td>\n      <td>72.014152</td>\n      <td>72.014152</td>\n      <td>71.721301</td>\n    </tr>\n    <tr>\n      <th>...</th>\n      <td>...</td>\n      <td>...</td>\n      <td>...</td>\n      <td>...</td>\n      <td>...</td>\n      <td>...</td>\n      <td>...</td>\n      <td>...</td>\n      <td>...</td>\n      <td>...</td>\n    </tr>\n    <tr>\n      <th>device_type_tablet</th>\n      <td>0.0</td>\n      <td>0.0</td>\n      <td>0.0</td>\n      <td>0.0</td>\n      <td>0.0</td>\n      <td>0.0</td>\n      <td>0.0</td>\n      <td>0.0</td>\n      <td>0.0</td>\n      <td>0.0</td>\n    </tr>\n    <tr>\n      <th>device_type_nan</th>\n      <td>0.0</td>\n      <td>0.0</td>\n      <td>0.0</td>\n      <td>0.0</td>\n      <td>0.0</td>\n      <td>0.0</td>\n      <td>0.0</td>\n      <td>0.0</td>\n      <td>0.0</td>\n      <td>0.0</td>\n    </tr>\n    <tr>\n      <th>device_type_rus_other</th>\n      <td>1.0</td>\n      <td>1.0</td>\n      <td>1.0</td>\n      <td>1.0</td>\n      <td>1.0</td>\n      <td>1.0</td>\n      <td>1.0</td>\n      <td>1.0</td>\n      <td>1.0</td>\n      <td>1.0</td>\n    </tr>\n    <tr>\n      <th>device_sim_count</th>\n      <td>1.0</td>\n      <td>1.0</td>\n      <td>1.0</td>\n      <td>1.0</td>\n      <td>1.0</td>\n      <td>1.0</td>\n      <td>1.0</td>\n      <td>1.0</td>\n      <td>1.0</td>\n      <td>1.0</td>\n    </tr>\n    <tr>\n      <th>device_price</th>\n      <td>NaN</td>\n      <td>NaN</td>\n      <td>NaN</td>\n      <td>NaN</td>\n      <td>NaN</td>\n      <td>NaN</td>\n      <td>NaN</td>\n      <td>NaN</td>\n      <td>NaN</td>\n      <td>NaN</td>\n    </tr>\n  </tbody>\n</table>\n<p>878 rows × 10 columns</p>\n</div>"
     },
     "execution_count": 5,
     "metadata": {},
     "output_type": "execute_result"
    }
   ],
   "source": [
    "train_main_fe.head(10).transpose()"
   ],
   "metadata": {
    "collapsed": false,
    "pycharm": {
     "name": "#%%\n"
    }
   }
  },
  {
   "cell_type": "markdown",
   "source": [
    "### Виділення колонок з координатами та таргетом для створення фічі spatial в майбутньому"
   ],
   "metadata": {
    "collapsed": false,
    "pycharm": {
     "name": "#%% md\n"
    }
   }
  },
  {
   "cell_type": "code",
   "execution_count": 15,
   "outputs": [],
   "source": [
    "df_spatial = train_main_fe.loc[:][['target', 'loc_lat', 'loc_lon']].copy(deep=True)"
   ],
   "metadata": {
    "collapsed": false,
    "pycharm": {
     "name": "#%%\n"
    }
   }
  },
  {
   "cell_type": "code",
   "execution_count": 16,
   "outputs": [
    {
     "data": {
      "text/plain": "(205625, 3)"
     },
     "execution_count": 16,
     "metadata": {},
     "output_type": "execute_result"
    }
   ],
   "source": [
    "df_spatial.shape"
   ],
   "metadata": {
    "collapsed": false,
    "pycharm": {
     "name": "#%%\n"
    }
   }
  },
  {
   "cell_type": "code",
   "execution_count": 17,
   "outputs": [],
   "source": [
    "df_spatial.dropna(inplace=True)"
   ],
   "metadata": {
    "collapsed": false,
    "pycharm": {
     "name": "#%%\n"
    }
   }
  },
  {
   "cell_type": "code",
   "execution_count": 18,
   "outputs": [
    {
     "data": {
      "text/plain": "(200406, 3)"
     },
     "execution_count": 18,
     "metadata": {},
     "output_type": "execute_result"
    }
   ],
   "source": [
    "df_spatial.shape"
   ],
   "metadata": {
    "collapsed": false,
    "pycharm": {
     "name": "#%%\n"
    }
   }
  },
  {
   "cell_type": "code",
   "execution_count": 19,
   "outputs": [],
   "source": [
    "# df_spatial.to_pickle('spatial_df_wonan.pickle')"
   ],
   "metadata": {
    "collapsed": false,
    "pycharm": {
     "name": "#%%\n"
    }
   }
  },
  {
   "cell_type": "markdown",
   "source": [
    "# ten days later...\n",
    "*Тут було безліч спроб по різному відібрати колонки для опрацювання, визначити врахування змін на тестовий датасет, знайти узагальнені методи опрацювання. Вирішив винести усі напрацювання в окремий клас, інакше ноутбук ставав безкінечним....*"
   ],
   "metadata": {
    "collapsed": false,
    "pycharm": {
     "name": "#%% md\n"
    }
   }
  },
  {
   "cell_type": "code",
   "execution_count": 10,
   "outputs": [],
   "source": [
    "class LazyDataStuart:\n",
    "    def __init__(self,\n",
    "                 df_train_main: pd.DataFrame,\n",
    "                 target_name='target',\n",
    "                 protected_cols=None,\n",
    "                 feature_desc_file=None,\n",
    "                 useless_tresh=10,\n",
    "                 to_binary_tresh=0.005,\n",
    "                 quantile_border=(0.2, 0.8),\n",
    "                 outlier_quant_coef=2.0,\n",
    "                 outlier_strategy=None,\n",
    "                 high_corr_kill=0.98):\n",
    "\n",
    "        # Params assertion:\n",
    "        assert isinstance(df_train_main, pd.DataFrame), \"data should be Pandas DataFrame\"\n",
    "        assert isinstance(quantile_border, (list, tuple)) \\\n",
    "               and len(quantile_border) == 2 \\\n",
    "               and isinstance(quantile_border[0], (int, float)) \\\n",
    "               and isinstance(quantile_border[1], (int, float)) \\\n",
    "               and quantile_border[1] > quantile_border[0], f\"val '{quantile_border}'! Should be a tuple or a list (2 elements, numeric)\"\n",
    "        assert isinstance(outlier_quant_coef, (int, float)), f\"val '{outlier_quant_coef}' - Coef. should be numeric\"\n",
    "        assert outlier_strategy in [None, 'move', 'warn']\n",
    "        assert 0.5 < high_corr_kill < 1.0, 'Correlated duplicate coef. should be in range 0.5...1.0 '\n",
    "        assert 0 < to_binary_tresh < 1\n",
    "\n",
    "        # Defines\n",
    "        self.feature_desc = self._get_fea_desc(feature_desc_file) if feature_desc_file is not None else {}\n",
    "        self.protected_cols = ['abon_id', target_name, 'loc_lat', 'loc_lon'] if protected_cols is None else protected_cols\n",
    "        self.cols_useless = self._get_cols_useless(tresh=useless_tresh,\n",
    "                                                   input_df=df_train_main) - {protected_cols}\n",
    "        # Preprocessing params:\n",
    "        self.quantile_border = quantile_border\n",
    "        self.outlier_quant_coef = outlier_quant_coef\n",
    "        self.outlier_strategy = outlier_strategy\n",
    "\n",
    "        self.binary_tresh = to_binary_tresh\n",
    "        self.high_corr_kill = high_corr_kill\n",
    "\n",
    "        # DataFrame\n",
    "        self.df = df_train_main.copy(deep=True)\n",
    "        if len(self.cols_useless) > 0:\n",
    "            self.df.drop(columns=list(self.cols_useless), inplace=True)\n",
    "        self.target = df_train_main[target_name]\n",
    "        self.status_converted = False\n",
    "\n",
    "        # Metrics calc\n",
    "        self.df_info = self.calc_df_info_tab() # табличний загальний звіт (df)\n",
    "        self.pie_data = self._calc_pie_data()  # тільки метрики для pie\n",
    "        self.metrics = self._calc_metrics() # метрики груповані по фічам (dict)\n",
    "        self.corr_mtx = self.df.corr()\n",
    "\n",
    "        # Feature handling config:\n",
    "        self.config_df = None\n",
    "\n",
    "        # Missing handling\n",
    "        self.cols_miss_to_zero = set()\n",
    "        self.cols_miss_to_one = set()\n",
    "        self.cols_miss_to_median = set()\n",
    "        self.cols_miss_to_mode = set()\n",
    "        self.modemedian_missed_dict = dict()\n",
    "\n",
    "        # Feature convert\n",
    "        self.cols_OHE = {'CALCULATION_METHOD_ID',\n",
    "                         'device_android_version',\n",
    "                         'device_ios_version'}\n",
    "        self.cols_check_binary = set()\n",
    "        self.outliers_borders = dict()\n",
    "        self.cols_correlated = set()  # one of a pair\n",
    "\n",
    "    @staticmethod\n",
    "    def _get_fea_desc(file: str) -> dict:\n",
    "        \"\"\"\n",
    "        Формування словника з текстовим описом фіч (для зручного підпису у таблицях, прінтах, документах. Файл з описом формату MS Excel, у першому рядку заголовки 'name', 'desc'\n",
    "\n",
    "        :param file: назва файлу у робочій директорії або шлях\n",
    "        :return: словник {'фіча': 'текстовий опис'}\n",
    "        \"\"\"\n",
    "\n",
    "        features_desc = pd.read_excel(file)\n",
    "        features_desc.index = features_desc['name']\n",
    "        features_desc.drop(columns=['name'], inplace=True)\n",
    "        features_desc = features_desc.squeeze()\n",
    "        fea_names = features_desc.index.tolist()\n",
    "        fea_desc = features_desc['desc'].to_list()\n",
    "        return {x[0]: x[1] for x in list(zip(fea_names, fea_desc))}\n",
    "\n",
    "    def _calc_pie_data(self) -> pd.DataFrame:\n",
    "        \"\"\"\n",
    "        Формування датафрейму з умовним розділенням значень у кожній фічі для відображення на круговій діаграмі\n",
    "\n",
    "        :return: датафрейм із кількістю значень у метриці (місінги, нулі, цілі числа, флоти)\n",
    "        \"\"\"\n",
    "        df = self.df\n",
    "        cnt_missing = df.isnull().sum()\n",
    "        cnt_integer = ((df.replace([0], np.nan) % 1) == 0).sum()\n",
    "        cnt_zero = (df == 0).sum()\n",
    "        cnt_other = df.shape[0] - (cnt_missing + cnt_integer + cnt_zero)\n",
    "        df_pie_data = pd.concat([cnt_missing, cnt_integer, cnt_zero, cnt_other], axis=1)\n",
    "        df_pie_data.columns = ['missed', 'integer', 'zero', 'float']\n",
    "        return df_pie_data\n",
    "\n",
    "    def _calc_metrics(self) -> dict:\n",
    "        source = self.df_info.copy(deep=True)\n",
    "        source.set_index('name', inplace=True)\n",
    "        m_names = source.columns.tolist()\n",
    "        m_dict = {}\n",
    "        for f_name in source.index:\n",
    "            cur_fea = {}\n",
    "            for m_name in m_names:\n",
    "                cur_fea.update({m_name: source.loc[f_name][m_name]})\n",
    "            m_dict.update({f_name: cur_fea})\n",
    "        return m_dict\n",
    "\n",
    "    @staticmethod\n",
    "    def _get_cols_useless(input_df: pd.DataFrame, tresh) -> set:\n",
    "        \"\"\"\n",
    "        Визначення неважливих фіч, які підлягають видаленню. Які мають кількість не пропущених значенень менше визначеної чутливості (замалу кількість даних відмінних від нуля або місінгу), мають тільки одне унікальне значення або не мають значень зовсім\n",
    "\n",
    "        :param tresh: чутливість до видалення у форматі 0...1 - у відсотковому представленні відносно розміру датасету або більше одиниці для абсолютної кількості записів.\n",
    "        :return: сет малозначних колонок\n",
    "        \"\"\"\n",
    "        cols = set()\n",
    "        if tresh < 1:\n",
    "            treshold = int(input_df.shape[0] * tresh)\n",
    "        elif tresh >= 1:\n",
    "            treshold = tresh\n",
    "        else:\n",
    "            treshold = 1\n",
    "\n",
    "        for col in input_df.columns:\n",
    "            count_notnull = input_df[col].value_counts()\n",
    "            count_not_zero = count_notnull.loc[count_notnull.index != 0].sum()\n",
    "            if count_not_zero <= treshold or input_df[col].nunique() <= 1:\n",
    "                cols.add(col)\n",
    "        return cols\n",
    "\n",
    "    def calc_df_info_tab(self):\n",
    "        \"\"\"\n",
    "        Формування датасету з загальними статистичними метриками фіч (використовувався для зручного групування фіч по ознакам, визначення значень заміни місінгів)\n",
    "            - назва фічі\n",
    "            - текстовий опис фічі\n",
    "            - первинно визначений тип\n",
    "            - кількість доступних значень (кількість без місінгів та нулів)\n",
    "            - кількість місінгів\n",
    "            - кількість нулів\n",
    "            - кількість цілих чисел (без врахування нулів)\n",
    "            - кількість унікальних значень\n",
    "            - максимум, мінімум, медіана, середнє, мода\n",
    "            - асиметрія, ексцес\n",
    "\n",
    "\n",
    "        :return: датасет з назвами фіч та метриками\n",
    "        \"\"\"\n",
    "        t_df = self.df\n",
    "        metrics_headers = ['name', 'desc', 'type',\n",
    "                           'available_cnt', 'available_pct',\n",
    "                           'missed_cnt', 'missed_pct',\n",
    "                           'zero_cnt', 'zero_pct',\n",
    "                           'int_cnt', 'int_pct',\n",
    "                           'unique',\n",
    "                           'max', 'min',\n",
    "                           'median', 'mean', 'mode',\n",
    "                           'skew', 'kurt']\n",
    "        metrics_data = []\n",
    "        rows_total = t_df.shape[0]\n",
    "        round_to = 5\n",
    "\n",
    "        def get_pct(val):\n",
    "            return round((float(val) / rows_total) * 100, 5)\n",
    "\n",
    "        for col in t_df:\n",
    "            null_vals = t_df[col].isnull().sum()\n",
    "            available = t_df[col].replace([0], np.nan).count()\n",
    "            zeros = t_df[col].count() - available\n",
    "            cnt_integer = ((t_df[col].replace([0], np.nan) % 1) == 0).sum()\n",
    "            metrics_data.append([col, self.feature_desc.get(col), str(t_df[col].dtype),\n",
    "                                 available, get_pct(available),\n",
    "                                 null_vals, get_pct(null_vals),\n",
    "                                 zeros, get_pct(zeros),\n",
    "                                 cnt_integer, round((cnt_integer / t_df[col].replace([0], np.nan).count()) * 100, 3),\n",
    "                                 t_df[col].nunique(),\n",
    "                                 round(t_df[col].max(), round_to), round(t_df[col].min(), round_to),\n",
    "                                 round(t_df[col].median(), round_to), round(t_df[col].mean(), round_to),\n",
    "                                 round(float(t_df[col].mode()[0]), round_to),\n",
    "                                 round(t_df[col].skew(), round_to), round(t_df[col].kurt(), round_to)])\n",
    "\n",
    "        metrics_df = pd.DataFrame(data=metrics_data, columns=metrics_headers)\n",
    "        return metrics_df\n",
    "\n",
    "    @staticmethod\n",
    "    def _create_doc(font='Liberation Sans'):\n",
    "        \"\"\"\n",
    "        Створення екземпляру порожнього документу з визначеними стилями для формування звітів у .docx\n",
    "\n",
    "        :param font: назва шрифту\n",
    "        :return: екзепляр python-docx.Document()\n",
    "        \"\"\"\n",
    "        document = Document()\n",
    "        styles = document.styles\n",
    "        # header style:\n",
    "        header_stl = styles.add_style('my_header', WD_STYLE_TYPE.PARAGRAPH)\n",
    "        header_stl.font.name = font\n",
    "        header_stl.font.size = Pt(12)\n",
    "        header_stl.font.bold = True\n",
    "        header_stl.paragraph_format.space_before = Pt(4)\n",
    "        header_stl.paragraph_format.space_after = Pt(4)\n",
    "        header_stl.paragraph_format.alignment = WD_PARAGRAPH_ALIGNMENT.CENTER\n",
    "\n",
    "        # body text style:\n",
    "        body_stl = styles.add_style('my_text', WD_STYLE_TYPE.PARAGRAPH)\n",
    "        body_stl.font.name = font\n",
    "        body_stl.font.size = Pt(10)\n",
    "        body_stl.paragraph_format.space_before = Pt(0)\n",
    "        body_stl.paragraph_format.space_after = Pt(0)\n",
    "        body_stl.paragraph_format.alignment = WD_PARAGRAPH_ALIGNMENT.JUSTIFY\n",
    "        body_stl.paragraph_format.first_line_indent = Cm(1.25)\n",
    "        body_stl.paragraph_format.line_spacing = 1\n",
    "\n",
    "        # body text style:\n",
    "        list_stl = styles['List Bullet']\n",
    "        list_stl.font.name = font\n",
    "        list_stl.font.size = Pt(10)\n",
    "        list_stl.paragraph_format.space_before = Pt(0)\n",
    "        list_stl.paragraph_format.space_after = Pt(0)\n",
    "        list_stl.paragraph_format.alignment = WD_PARAGRAPH_ALIGNMENT.JUSTIFY\n",
    "        list_stl.paragraph_format.first_line_indent = Cm(1.25)\n",
    "        list_stl.paragraph_format.line_spacing = 1\n",
    "        sections = document.sections\n",
    "        for section in sections:\n",
    "            section.top_margin = Cm(2)\n",
    "            section.left_margin = Cm(3)\n",
    "            section.right_margin = Cm(1)\n",
    "            section.bottom_margin = Cm(2)\n",
    "        return document\n",
    "\n",
    "    def print_report(self,\n",
    "                     title: str,\n",
    "                     near_corr=10):\n",
    "        \"\"\"\n",
    "        Формування звіту про фічі у формат .docx. Але, нажаль, на такому великому датасеті виникає помилка з виводом розподілу, вирішив, замінити на вивід по одній фічі в ноутбук, а не у файл (інша функція)\n",
    "            - \"ящики з вусами\"\n",
    "            - розподіл\n",
    "            - кругова діаграми з описом числових значень (цілі, дрібні, нулі, місінги)\n",
    "            - статистичні метрики\n",
    "            - найближчі сусідні фічі по кореляції\n",
    "\n",
    "        :param title: Заголовок документу\n",
    "        :param near_corr: відображати кількість фіч, що найбільше корелюють з досліджуваною\n",
    "        :return: None, формується документ \"report_{title}.docx\"\n",
    "        \"\"\"\n",
    "        document = self._create_doc()\n",
    "        document.add_paragraph(f'REPORT: {title}', style='my_header')\n",
    "        document.add_paragraph(f'(rows: {self.df.shape[0]}, cols:{self.df.shape[1]})', style='my_header')\n",
    "\n",
    "        # Кореляція таргету\n",
    "        col_corr = self.corr_mtx['target'].reindex(self.corr_mtx['target'].abs().sort_values(ascending=False).index)[:15]\n",
    "        corr_labels = col_corr.index.tolist()\n",
    "        corr_vals = col_corr.tolist()\n",
    "        document.add_paragraph('Таргет корелюється з:', style='my_text')\n",
    "        for pos, corr_lbl in enumerate(corr_labels):\n",
    "            document.add_paragraph(f'{round(corr_vals[pos], 3)} - '\n",
    "                                   f'{corr_lbl} ({self.feature_desc.get(corr_lbl)})',\n",
    "                                   style='List Bullet')\n",
    "        document.add_page_break()\n",
    "\n",
    "        df = self.df\n",
    "        for col in df.columns:\n",
    "            document.add_paragraph(f'{col}', style='my_header')\n",
    "            document.add_paragraph(f'({self.feature_desc.get(col)})', style='my_header')\n",
    "            pic_io = BytesIO()\n",
    "            # Візуалізація\n",
    "            fig, ax = plt.subplots(2, 2, figsize=(17, 12))\n",
    "            sns.boxplot(x=df[col], y=self.target, ax=ax[0, 0], orient='h')\n",
    "            sns.boxplot(data=df[col], ax=ax[1, 0], orient='h')\n",
    "            try:\n",
    "                sns.histplot(data=df[col], ax=ax[0, 1])\n",
    "            except Exception as er:\n",
    "                print(f\"Skip '{col}' histplot, erorr - {er}\")\n",
    "            pie_list = self.pie_data.loc[self.pie_data.index == col].values.flatten().tolist()\n",
    "            pie_labels = self.pie_data.columns.tolist()\n",
    "            palette = ['red', 'magenta', 'gray', 'cyan']\n",
    "            pie_combine = list(zip(pie_list, pie_labels, palette))\n",
    "            pie_x = [x[0] for x in pie_combine if x[0] != 0]\n",
    "            pie_l = [x[1] for x in pie_combine if x[0] != 0]\n",
    "            pie_c = [x[2] for x in pie_combine if x[0] != 0]\n",
    "            ax[1, 1] = plt.pie(x=pie_x, labels=pie_l,\n",
    "                               autopct='%0.1F%%',\n",
    "                               shadow=True,\n",
    "                               wedgeprops={\"edgecolor\": \"k\", 'linewidth': 1},\n",
    "                               labeldistance=1.2,\n",
    "                               colors=pie_c,\n",
    "                               textprops={'color': \"b\"})\n",
    "            plt.savefig(pic_io)\n",
    "            document.add_picture(pic_io, width=Cm(17))\n",
    "            plt.clf()\n",
    "\n",
    "            # Друк метрик:\n",
    "            metr_dict = self.metrics.get(col)\n",
    "            if metr_dict is not None and type(metr_dict) == dict:\n",
    "                for metr_name in metr_dict.keys():\n",
    "                    document.add_paragraph(f'{metr_name} - {metr_dict.get(metr_name)}', style='List Bullet')\n",
    "\n",
    "            # Друк кореляції фічі:\n",
    "            col_corr = self.corr_mtx[col].reindex(self.corr_mtx[col].abs().sort_values(ascending=False).index)[\n",
    "                       :near_corr]\n",
    "            corr_labels = col_corr.index.tolist()\n",
    "            corr_vals = col_corr.tolist()\n",
    "            document.add_paragraph('Корелюється з:', style='my_text')\n",
    "            for pos, corr_lbl in enumerate(corr_labels):\n",
    "                document.add_paragraph(f'{round(corr_vals[pos], 3)} - '\n",
    "                                       f'{corr_lbl} ({self.feature_desc.get(corr_lbl)})',\n",
    "                                       style='List Bullet')\n",
    "            document.add_page_break()\n",
    "        document.save(f'report_{title}.docx')\n",
    "\n",
    "    def show_feature_description(self,\n",
    "                                feature_name: str,\n",
    "                                near_corr=10):\n",
    "        \"\"\"\n",
    "        Вивід у ноутбук звіту про фічу:\n",
    "            - \"ящики з вусами\"\n",
    "            - розподіл\n",
    "            - кругова діаграми з описом числових значень (цілі, дрібні, нулі, місінги)\n",
    "            - статистичні метрики\n",
    "            - найближчі сусідні фічі по кореляції\n",
    "\n",
    "        :param feature_name: Назва фічі (заголовок колонки)\n",
    "        :param near_corr: відображати кількість фіч, що найбільше корелюють з досліджуваною\n",
    "        :return: None\n",
    "        \"\"\"\n",
    "        df = self.df\n",
    "        print(feature_name)\n",
    "        print(f'({self.feature_desc.get(feature_name)})')\n",
    "\n",
    "        # Візуалізація\n",
    "        fig, ax = plt.subplots(2, 2, figsize=(17, 12))\n",
    "        sns.boxplot(x=df[feature_name], y=self.target, ax=ax[0, 0], orient='h')\n",
    "        sns.boxplot(data=df[feature_name], ax=ax[1, 0], orient='h')\n",
    "        try:\n",
    "            sns.histplot(data=df[feature_name], ax=ax[0, 1])\n",
    "        except Exception as er:\n",
    "            print(f\"Skip '{col}' histplot, erorr - {er}\")\n",
    "        pie_list = self.pie_data.loc[self.pie_data.index == feature_name].values.flatten().tolist()\n",
    "        pie_labels = self.pie_data.columns.tolist()\n",
    "        palette = ['red', 'magenta', 'gray', 'cyan']\n",
    "        pie_combine = list(zip(pie_list, pie_labels, palette))\n",
    "        pie_x = [x[0] for x in pie_combine if x[0] != 0]\n",
    "        pie_l = [x[1] for x in pie_combine if x[0] != 0]\n",
    "        pie_c = [x[2] for x in pie_combine if x[0] != 0]\n",
    "        ax[1, 1] = plt.pie(x=pie_x, labels=pie_l,\n",
    "                           autopct='%0.1F%%',\n",
    "                           shadow=True,\n",
    "                           wedgeprops={\"edgecolor\": \"k\", 'linewidth': 1},\n",
    "                           labeldistance=1.2,\n",
    "                           colors=pie_c,\n",
    "                           textprops={'color': \"b\"})\n",
    "        plt.show()\n",
    "        plt.clf()\n",
    "\n",
    "        # Друк метрик:\n",
    "        metr_dict = self.metrics.get(feature_name)\n",
    "        if metr_dict is not None and type(metr_dict) == dict:\n",
    "            for metr_name in metr_dict.keys():\n",
    "                print(f'{metr_name} - {metr_dict.get(metr_name)}')\n",
    "\n",
    "        # Друк кореляції фічі:\n",
    "        col_corr = self.corr_mtx[feature_name].reindex(self.corr_mtx[feature_name].abs().sort_values(ascending=False).index)[\n",
    "                   :near_corr]\n",
    "        corr_labels = col_corr.index.tolist()\n",
    "        corr_vals = col_corr.tolist()\n",
    "        print('Корелюється з:')\n",
    "        for pos, corr_lbl in enumerate(corr_labels):\n",
    "            print(f'\\t{round(corr_vals[pos], 3)} - '\n",
    "                  f'{corr_lbl} ({self.feature_desc.get(corr_lbl)})')\n",
    "\n",
    "    def get_preprocessing_config(self, config_file):\n",
    "        config_df = pd.read_excel(config_file)\n",
    "        cols_set = ['name', 'type_to', 'miss_to']\n",
    "        for col in cols_set:\n",
    "            if col not in config_df.columns:\n",
    "                print(f'Column \"{col}\" is absent in config. Need to reload...')\n",
    "                return\n",
    "\n",
    "        self.config_df = config_df[cols_set]\n",
    "        self.config_df.set_index('name', inplace=True)\n",
    "\n",
    "        def get_cols_setting(config_col, value):\n",
    "            return self.config_df.loc[self.config_df[config_col] == value].index.tolist()\n",
    "\n",
    "\n",
    "        self.cols_miss_to_zero = get_cols_setting('miss_to', 0)\n",
    "        self.cols_miss_to_one = get_cols_setting('miss_to', 1)\n",
    "        self.cols_miss_to_median = get_cols_setting('miss_to', 'median')\n",
    "        self.cols_miss_to_mode = get_cols_setting('miss_to', 'mode')\n",
    "\n",
    "        self.cols_integer_downcast = get_cols_setting('type_to', 'int')\n",
    "\n",
    "        print(f'Config load:'\n",
    "              f'\\n\\tmiss to \"0\":      {len(self.cols_miss_to_zero)}'\n",
    "              f'\\n\\tmiss to \"1\":      {len(self.cols_miss_to_one)}'\n",
    "              f'\\n\\tmiss to \"median\": {len(self.cols_miss_to_median)}'\n",
    "              f'\\n\\tmiss to \"mode\":   {len(self.cols_miss_to_mode)}')\n",
    "\n",
    "\n",
    "    def fill_missings(self,\n",
    "                      df_in=None):\n",
    "        df = self.df if df_in is None else df_in\n",
    "        for col_name in self.cols_miss_to_zero:\n",
    "            if col_name in df.columns:\n",
    "                df[col_name].fillna(0, inplace=True)\n",
    "\n",
    "        for col_name in self.cols_miss_to_one:\n",
    "            if col_name in df.columns:\n",
    "                df[col_name].fillna(1, inplace=True)\n",
    "\n",
    "        for col_name in self.cols_miss_to_median:\n",
    "            if col_name in df.columns:\n",
    "                cur_median = df[col_name].median()\n",
    "                df[col_name].fillna(cur_median, inplace=True)\n",
    "                self.modemedian_missed_dict.update({col_name: cur_median})\n",
    "\n",
    "        for col_name in self.cols_miss_to_mode:\n",
    "            if col_name in df.columns:\n",
    "                cur_mode = df[col_name].mode()[0]\n",
    "                df[col_name].fillna(cur_mode, inplace=True)\n",
    "                self.modemedian_missed_dict.update({col_name: cur_mode})\n",
    "\n",
    "        still_na = df.isnull().sum().sum()\n",
    "        if still_na > 0 :\n",
    "            print(f\"WARNING: After missing handling still present: {still_na} missed values\")\n",
    "        if df_in is None:\n",
    "            self.df = df\n",
    "        return df\n",
    "\n",
    "    def prepare_binary(self):\n",
    "        tab = self.df_info.set_index('name')\n",
    "        binary_cols = set(tab.loc[tab['available_pct'] < self.binary_tresh*100].index.tolist())\n",
    "        binary_cols2 = set(tab.loc[(tab['unique'] == 2) & (tab['min'] == 0) & (tab['max'] == 1)].index.tolist())\n",
    "        bin_total = binary_cols.union(binary_cols2)\n",
    "        self.cols_check_binary = bin_total\n",
    "\n",
    "        for col_name in self.cols_check_binary:\n",
    "            if col_name in self.df.columns:\n",
    "                self.df[col_name].loc[self.df[col_name] != 0] = 1\n",
    "\n",
    "\n",
    "    def _check_outliers(self,\n",
    "                       columns_to_check: list,\n",
    "                       upper_limit=0.8,\n",
    "                       lower_limit=0.2,\n",
    "                       cut_off=2,\n",
    "                        warn=True):\n",
    "        \"\"\"\n",
    "\n",
    "        :param df: Датафрейм для опрацювання\n",
    "        :param columns_to_check: Список попередньо відібраних колонок для перевірки (цифрові значення)\n",
    "        :param upper_limit: верхній ліміт (персентиль)\n",
    "        :param lower_limit: нижній ліміт (персентиль)\n",
    "        :param cut_off: коєфіцієнт меж відсічки\n",
    "        :return: опрацьований датафрейм\n",
    "        \"\"\"\n",
    "        assert upper_limit > lower_limit\n",
    "        assert cut_off > 0\n",
    "        assert 0 < upper_limit < 1\n",
    "        assert 0 < lower_limit < 1\n",
    "\n",
    "        df_size = self.df.shape[0]\n",
    "\n",
    "        for col in columns_to_check:\n",
    "            data = self.df.loc[self.df[col] > 0][col]\n",
    "            iqr = data.quantile(upper_limit) - data.quantile(lower_limit)\n",
    "            lower_bridge = data.quantile(lower_limit)-(iqr*cut_off)\n",
    "            upper_bridge = data.quantile(upper_limit)+(iqr*cut_off)\n",
    "\n",
    "            up_out_count = self.df[col].loc[self.df[col] > upper_bridge].count()\n",
    "            up_out_perc = round((up_out_count/df_size)*100, 1)\n",
    "            down_out_count = self.df[col].loc[self.df[col] < lower_bridge].count()\n",
    "            down_out_perc = round((down_out_count/df_size)*100, 1)\n",
    "\n",
    "            if warn == True and (up_out_count != 0 and down_out_count != 0):\n",
    "                print(f\"{col}:\"\n",
    "                      f\"\\n\\tБільше {upper_bridge} = {up_out_count} ({round(up_out_perc, 1)} %)\"\n",
    "                      f\"\\n\\tМенше  {lower_bridge} = {down_out_count} ({round(down_out_perc, 1)} %)\")\n",
    "\n",
    "\n",
    "            self.df.loc[(self.df[col] < lower_bridge) & (self.df[col] != 0), col] = lower_bridge\n",
    "            self.df.loc[(self.df[col] > upper_bridge) & (self.df[col] != 0), col] = upper_bridge\n",
    "            self.outliers_borders.update({col: (lower_bridge, upper_bridge)})\n",
    "\n",
    "    def integer_downcast(self, df_in=None):\n",
    "        df = self.df if df_in is None else df_in\n",
    "        for col_name in self.cols_integer_downcast:\n",
    "            if col_name in df.columns:\n",
    "                df[col_name] = pd.to_numeric(df[col_name], downcast='integer')\n",
    "        if df_in is None:\n",
    "            self.df = df\n",
    "        return df\n",
    "\n",
    "    def one_hot_encoding(self, df_in=None):\n",
    "        df = self.df if df_in is None else df_in\n",
    "        for col_name in self.cols_OHE:\n",
    "            if col_name in df.columns:\n",
    "                df[col_name] = round(df[col_name])\n",
    "                dummies_df = pd.get_dummies(df[col_name], prefix=col_name)\n",
    "                df = pd.merge(left=df, right=dummies_df, left_index=True, right_index=True)\n",
    "                df.drop(columns=[col_name], inplace=True)\n",
    "        if df_in is None:\n",
    "            self.df = df\n",
    "        return df\n",
    "\n",
    "    def create_sim_multiple_feature(self, df_in=None):\n",
    "        df = self.df if df_in is None else df_in\n",
    "        if 'device_sim_count' in df.columns:\n",
    "            df.loc[df['device_sim_count'] == 1, 'device_sim_count'] = 0\n",
    "            df.loc[df['device_sim_count'] > 1, 'device_sim_count'] = 1\n",
    "        if df_in is None:\n",
    "            self.df = df\n",
    "        return df\n",
    "\n",
    "    def convert_train(self, config_file):\n",
    "        self.get_preprocessing_config(config_file)\n",
    "        self.fill_missings()\n",
    "        self.prepare_binary()\n",
    "        self.integer_downcast()\n",
    "        self.one_hot_encoding()\n",
    "        self.create_sim_multiple_feature()\n",
    "        if self.outlier_strategy is not None:\n",
    "            self._check_outliers(columns_to_check=list({self.df.columns.tolist()} - {self.protected_cols}.union({'device_id'})))\n",
    "\n",
    "    def convert_test(self, input_df: pd.DataFrame):\n",
    "        \"\"\"\n",
    "        Тут бажано використати ті ж функції, що і для тесту, однак вони не в повній мірі універсальні (технічний борг))))\n",
    "        :param input_df: датафрейм отриманий з САС файлу\n",
    "        :return: опрацьований датафрейм з повним набором колонок необхідним для використання з моделями\n",
    "        \"\"\"\n",
    "        df = input_df.copy(deep=True)\n",
    "        for col in self.cols_miss_to_zero:\n",
    "            if col in df.columns:\n",
    "                df[col].fillna(0, inplace=True)\n",
    "\n",
    "        for col in self.cols_miss_to_one:\n",
    "            if col in df.columns:\n",
    "                df[col].fillna(1, inplace=True)\n",
    "\n",
    "        for col in self.modemedian_missed_dict.keys():\n",
    "            if col in df.columns:\n",
    "                cur_median = self.modemedian_missed_dict.get(col)\n",
    "                assert cur_median is not None, 'Проблема зі словником медіанних значень, отримано None'\n",
    "                df[col].fillna(cur_median, inplace=True)\n",
    "\n",
    "        for col in self.modemedian_missed_dict.keys():\n",
    "            if col in df.columns:\n",
    "                cur_median = self.modemedian_missed_dict.get(col)\n",
    "                assert cur_median is not None, 'Проблема зі словником медіанних та мод значень, отримано None'\n",
    "                df[col].fillna(cur_median, inplace=True)\n",
    "\n",
    "        for col in self.cols_check_binary:\n",
    "            if col in df.columns:\n",
    "                missed = df[col].isnull().sum()\n",
    "                assert missed == 0, f'У бінарній колонці {col} залишились місінги - {missed}'\n",
    "                df[col].loc[df[col] != 0] = 1\n",
    "\n",
    "        for col in self.cols_integer_downcast:\n",
    "            if col in df.columns:\n",
    "                df[col] = pd.to_numeric(df[col], downcast='integer')\n",
    "\n",
    "        for col in self.cols_OHE:\n",
    "            if col in df.columns:\n",
    "                df[col] = round(df[col])\n",
    "                dummies_df = pd.get_dummies(df[col], prefix=col)\n",
    "                df = pd.merge(left=df, right=dummies_df, left_index=True, right_index=True)\n",
    "                df.drop(columns=[col], inplace=True)\n",
    "\n",
    "        if 'device_sim_count' in df.columns:\n",
    "            df.loc[df['device_sim_count'] == 1, 'device_sim_count'] = 0\n",
    "            df.loc[df['device_sim_count'] > 1, 'device_sim_count'] = 1\n",
    "\n",
    "        for col in self.df.columns:\n",
    "            if col not in df.columns:\n",
    "                df[col] = 0\n",
    "                print(f'Увага - у тестовому фрагменті відсутня колонка {col}, додана зі значенням 0')\n",
    "\n",
    "        for col in df.columns:\n",
    "            if col not in self.df.columns:\n",
    "                df.drop(columns=[col], inplace=True)\n",
    "                print(f'Увага - у тестовому фрагменті зайва колонка {col}, видалено')\n",
    "\n",
    "        still_na = df.isnull().sum().sum()\n",
    "        if still_na > 0 :\n",
    "            print(f\"WARNING: After missing handling still present: {still_na} missed values\")\n",
    "\n",
    "        assert set(self.df.columns) == set(df.columns), 'У тестовому та тренувальному фрагменті різні набори колонок'\n",
    "        return df\n",
    "\n"
   ],
   "metadata": {
    "collapsed": false,
    "pycharm": {
     "name": "#%%\n"
    }
   }
  },
  {
   "cell_type": "markdown",
   "source": [
    "## Огляд основної таблиці"
   ],
   "metadata": {
    "collapsed": false,
    "pycharm": {
     "name": "#%% md\n"
    }
   }
  },
  {
   "cell_type": "code",
   "execution_count": null,
   "outputs": [],
   "source": [
    "from datetime import datetime\n",
    "time_start = datetime.now()\n",
    "eda = LazyDataStuart(df_train_main=train_main_fe,\n",
    "                     feature_desc_file='main_fe_desc.xlsx',\n",
    "                     target_name='target')\n",
    "print(f'Instance created {datetime.now()-time_start}')"
   ],
   "metadata": {
    "collapsed": false,
    "pycharm": {
     "name": "#%%\n"
    }
   }
  },
  {
   "cell_type": "markdown",
   "source": [],
   "metadata": {
    "collapsed": false,
    "pycharm": {
     "name": "#%% md\n"
    }
   }
  },
  {
   "cell_type": "code",
   "execution_count": 14,
   "outputs": [
    {
     "data": {
      "text/plain": "cnt_sms_category_collect           -0.288675\ncnt_bank_sms_category_accordbank    0.273706\nentertainment                      -0.169031\ncnt_bank_sms_category_radabank     -0.167548\ndevice_android_version             -0.167284\ncnt_bank_sms_category_poltavaban    0.160256\ndevice_ios_version                 -0.157451\ncnt_bank_sms_category_bisbank       0.126865\ncnt_sms_category_ticket            -0.120925\ncnt_bank_sms_category_globusbank    0.109131\ndevice_sim_count                    0.107921\nFood                               -0.094499\nsms_in_cnt_std_mnt3                 0.084702\nMV_Traf_inc_s_Cnt                   0.084307\nName: target, dtype: float64"
     },
     "execution_count": 14,
     "metadata": {},
     "output_type": "execute_result"
    }
   ],
   "source": [
    "# Фічі з якими найбільше корелюється таргет:\n",
    "eda.corr_mtx['target'].reindex(eda.corr_mtx['target'].abs().sort_values(ascending=False).index)[:15].drop(index='target')"
   ],
   "metadata": {
    "collapsed": false,
    "pycharm": {
     "name": "#%%\n"
    }
   }
  },
  {
   "cell_type": "code",
   "execution_count": 20,
   "outputs": [
    {
     "name": "stdout",
     "output_type": "stream",
     "text": [
      "device_sim_count\n",
      "(Атрибут устройства - количество SIM-карт)\n"
     ]
    },
    {
     "data": {
      "text/plain": "<Figure size 1224x864 with 4 Axes>",
      "image/png": "[encoded data removed]"
     },
     "metadata": {
      "needs_background": "light"
     },
     "output_type": "display_data"
    },
    {
     "name": "stdout",
     "output_type": "stream",
     "text": [
      "desc - Атрибут устройства - количество SIM-карт\n",
      "type - float64\n",
      "available_cnt - 189125\n",
      "available_pct - 91.97568\n",
      "missed_cnt - 16500\n",
      "missed_pct - 8.02432\n",
      "zero_cnt - 0\n",
      "zero_pct - 0.0\n",
      "int_cnt - 189125\n",
      "int_pct - 100.0\n",
      "unique - 3\n",
      "max - 3.0\n",
      "min - 1.0\n",
      "median - 1.0\n",
      "mean - 1.49428\n",
      "mode - 1.0\n",
      "skew - 0.0325\n",
      "kurt - -1.97351\n",
      "Корелюється з:\n",
      "\t1.0 - device_sim_count (Атрибут устройства - количество SIM-карт)\n",
      "\t0.58 - device_ios_version (Атрибут устройства - операционная система)\n",
      "\t-0.532 - device_android_version (Атрибут устройства - операционная система)\n",
      "\t-0.408 - cnt_sms_category_collect (Количество SMS из категории \"Коллекторы\")\n",
      "\t-0.361 - cnt_bank_sms_category_poltavaban (Количество SMS из категории \"Банки\": Полтавабанк)\n",
      "\t0.35 - entertainment (Обмен бонусов на подарки категории Развлечения)\n",
      "\t-0.277 - device_brand_apple (Атрибут устройства - бренд)\n",
      "\t0.265 - Food (Обмен бонусов на подарки категории Рестораны и Кафе)\n",
      "\t0.259 - device_brand_samsung (Атрибут устройства - бренд)\n",
      "\t-0.214 - device_price (Атрибут устройства - цена)\n"
     ]
    },
    {
     "data": {
      "text/plain": "<Figure size 432x288 with 0 Axes>"
     },
     "metadata": {},
     "output_type": "display_data"
    }
   ],
   "source": [
    "# Огляд метрик окремої фічі:\n",
    "eda.show_feature_description('device_sim_count')"
   ],
   "metadata": {
    "collapsed": false,
    "pycharm": {
     "name": "#%%\n"
    }
   }
  },
  {
   "cell_type": "code",
   "execution_count": 18,
   "outputs": [
    {
     "name": "stdout",
     "output_type": "stream",
     "text": [
      "device_sim_count\n",
      "(Атрибут устройства - количество SIM-карт)\n"
     ]
    },
    {
     "data": {
      "text/plain": "<Figure size 1224x864 with 4 Axes>",
      "image/png": "[encoded data removed]"
     },
     "metadata": {
      "needs_background": "light"
     },
     "output_type": "display_data"
    },
    {
     "name": "stdout",
     "output_type": "stream",
     "text": [
      "desc - Атрибут устройства - количество SIM-карт\n",
      "type - float64\n",
      "available_cnt - 189125\n",
      "available_pct - 91.97568\n",
      "missed_cnt - 16500\n",
      "missed_pct - 8.02432\n",
      "zero_cnt - 0\n",
      "zero_pct - 0.0\n",
      "int_cnt - 189125\n",
      "int_pct - 100.0\n",
      "unique - 3\n",
      "max - 3.0\n",
      "min - 1.0\n",
      "median - 1.0\n",
      "mean - 1.49428\n",
      "mode - 1.0\n",
      "skew - 0.0325\n",
      "kurt - -1.97351\n",
      "Корелюється з:\n",
      "\t1.0 - device_sim_count (Атрибут устройства - количество SIM-карт)\n",
      "\t0.58 - device_ios_version (Атрибут устройства - операционная система)\n",
      "\t-0.532 - device_android_version (Атрибут устройства - операционная система)\n",
      "\t-0.408 - cnt_sms_category_collect (Количество SMS из категории \"Коллекторы\")\n",
      "\t-0.361 - cnt_bank_sms_category_poltavaban (Количество SMS из категории \"Банки\": Полтавабанк)\n",
      "\t0.35 - entertainment (Обмен бонусов на подарки категории Развлечения)\n",
      "\t-0.277 - device_brand_apple (Атрибут устройства - бренд)\n",
      "\t0.265 - Food (Обмен бонусов на подарки категории Рестораны и Кафе)\n",
      "\t0.259 - device_brand_samsung (Атрибут устройства - бренд)\n",
      "\t-0.214 - device_price (Атрибут устройства - цена)\n"
     ]
    },
    {
     "data": {
      "text/plain": "<Figure size 432x288 with 0 Axes>"
     },
     "metadata": {},
     "output_type": "display_data"
    }
   ],
   "source": [
    "eda.show_feature_description('device_sim_count')"
   ],
   "metadata": {
    "collapsed": false,
    "pycharm": {
     "name": "#%%\n"
    }
   }
  },
  {
   "cell_type": "code",
   "execution_count": 20,
   "outputs": [
    {
     "name": "stdout",
     "output_type": "stream",
     "text": [
      "Підготовлені метрики: \n",
      "\t1. name\n",
      "\t2. desc\n",
      "\t3. type\n",
      "\t4. available_cnt\n",
      "\t5. available_pct\n",
      "\t6. missed_cnt\n",
      "\t7. missed_pct\n",
      "\t8. zero_cnt\n",
      "\t9. zero_pct\n",
      "\t10. int_cnt\n",
      "\t11. int_pct\n",
      "\t12. unique\n",
      "\t13. max\n",
      "\t14. min\n",
      "\t15. median\n",
      "\t16. mean\n",
      "\t17. mode\n",
      "\t18. skew\n",
      "\t19. kurt\n"
     ]
    }
   ],
   "source": [
    "# Огляд таблиці з метриками усіх фіч\n",
    "print('Підготовлені метрики: ')\n",
    "for pos, metr in enumerate(eda.df_info.columns):\n",
    "    print(f'\\t{pos+1}. {metr}')"
   ],
   "metadata": {
    "collapsed": false,
    "pycharm": {
     "name": "#%%\n"
    }
   }
  },
  {
   "cell_type": "code",
   "execution_count": 21,
   "outputs": [
    {
     "data": {
      "text/plain": "                                                           desc     type  \\\nname                                                                       \nabon_id                                  Идентификатор Абонента  float64   \ndevice_id                              Идентификатор устройства  float64   \ntarget                                                   Таргет  float64   \nBalance_uah                                              Баланс  float64   \nTM_ID                                                     Тариф  float64   \n...                                                         ...      ...   \ndevice_type_tablet          Атрибут устройства - тип устройства  float64   \ndevice_type_nan             Атрибут устройства - тип устройства  float64   \ndevice_type_rus_other       Атрибут устройства - тип устройства  float64   \ndevice_sim_count       Атрибут устройства - количество SIM-карт  float64   \ndevice_price                          Атрибут устройства - цена  float64   \n\n                       available_cnt  available_pct  missed_cnt  missed_pct  \\\nname                                                                          \nabon_id                       205625       100.0000           0      0.0000   \ndevice_id                     205625       100.0000           0      0.0000   \ntarget                         49862        24.2490           0      0.0000   \nBalance_uah                   204391        99.3999        1198      0.5826   \nTM_ID                         204427        99.4174        1198      0.5826   \n...                              ...            ...         ...         ...   \ndevice_type_tablet                75         0.0365        1299      0.6317   \ndevice_type_nan                15201         7.3926        1299      0.6317   \ndevice_type_rus_other         189125        91.9757        1299      0.6317   \ndevice_sim_count              189125        91.9757       16500      8.0243   \ndevice_price                  160161        77.8898       45464     22.1102   \n\n                       zero_cnt  zero_pct  int_cnt  int_pct  unique  \\\nname                                                                  \nabon_id                       0    0.0000   205625   100.00  205625   \ndevice_id                     0    0.0000   205625   100.00   12680   \ntarget                   155763   75.7510    49862   100.00       2   \nBalance_uah                  36    0.0175       21     0.01  196644   \nTM_ID                         0    0.0000        0     0.00      75   \n...                         ...       ...      ...      ...     ...   \ndevice_type_tablet       204251   99.3318       75   100.00       2   \ndevice_type_nan          189125   91.9757    15201   100.00       2   \ndevice_type_rus_other     15201    7.3926   189125   100.00       2   \ndevice_sim_count              0    0.0000   189125   100.00       3   \ndevice_price                  0    0.0000   160161   100.00      69   \n\n                                max           min       median          mean  \\\nname                                                                           \nabon_id                1.888225e+06  1.000001e+06  1414984.000  1.425224e+06   \ndevice_id              1.150570e+05  1.000010e+05   109998.000  1.090586e+05   \ntarget                 1.000000e+00  0.000000e+00        0.000  2.420000e-01   \nBalance_uah            1.672381e+15 -8.569925e+17        0.185 -1.742504e+13   \nTM_ID                  7.257000e+01  6.044200e+01       72.014  7.189900e+01   \n...                             ...           ...          ...           ...   \ndevice_type_tablet     1.000000e+00  0.000000e+00        0.000  0.000000e+00   \ndevice_type_nan        1.000000e+00  0.000000e+00        0.000  7.400000e-02   \ndevice_type_rus_other  1.000000e+00  0.000000e+00        1.000  9.260000e-01   \ndevice_sim_count       3.000000e+00  1.000000e+00        1.000  1.494000e+00   \ndevice_price           5.160000e+03  1.000000e+01      150.000  2.109120e+02   \n\n                              mode     skew       kurt  \nname                                                    \nabon_id                1000001.000    0.093     -1.146  \ndevice_id               109995.000   -0.417     -1.213  \ntarget                       0.000    1.202     -0.556  \nBalance_uah                  0.001 -225.880  51047.096  \nTM_ID                       72.206   -4.880     63.391  \n...                            ...      ...        ...  \ndevice_type_tablet           0.000   52.167   2719.414  \ndevice_type_nan              0.000    3.244      8.522  \ndevice_type_rus_other        1.000   -3.244      8.522  \ndevice_sim_count             1.000    0.032     -1.974  \ndevice_price               100.000    2.643     11.062  \n\n[855 rows x 18 columns]",
      "text/html": "<div>\n<style scoped>\n    .dataframe tbody tr th:only-of-type {\n        vertical-align: middle;\n    }\n\n    .dataframe tbody tr th {\n        vertical-align: top;\n    }\n\n    .dataframe thead th {\n        text-align: right;\n    }\n</style>\n<table border=\"1\" class=\"dataframe\">\n  <thead>\n    <tr style=\"text-align: right;\">\n      <th></th>\n      <th>desc</th>\n      <th>type</th>\n      <th>available_cnt</th>\n      <th>available_pct</th>\n      <th>missed_cnt</th>\n      <th>missed_pct</th>\n      <th>zero_cnt</th>\n      <th>zero_pct</th>\n      <th>int_cnt</th>\n      <th>int_pct</th>\n      <th>unique</th>\n      <th>max</th>\n      <th>min</th>\n      <th>median</th>\n      <th>mean</th>\n      <th>mode</th>\n      <th>skew</th>\n      <th>kurt</th>\n    </tr>\n    <tr>\n      <th>name</th>\n      <th></th>\n      <th></th>\n      <th></th>\n      <th></th>\n      <th></th>\n      <th></th>\n      <th></th>\n      <th></th>\n      <th></th>\n      <th></th>\n      <th></th>\n      <th></th>\n      <th></th>\n      <th></th>\n      <th></th>\n      <th></th>\n      <th></th>\n      <th></th>\n    </tr>\n  </thead>\n  <tbody>\n    <tr>\n      <th>abon_id</th>\n      <td>Идентификатор Абонента</td>\n      <td>float64</td>\n      <td>205625</td>\n      <td>100.0000</td>\n      <td>0</td>\n      <td>0.0000</td>\n      <td>0</td>\n      <td>0.0000</td>\n      <td>205625</td>\n      <td>100.00</td>\n      <td>205625</td>\n      <td>1.888225e+06</td>\n      <td>1.000001e+06</td>\n      <td>1414984.000</td>\n      <td>1.425224e+06</td>\n      <td>1000001.000</td>\n      <td>0.093</td>\n      <td>-1.146</td>\n    </tr>\n    <tr>\n      <th>device_id</th>\n      <td>Идентификатор устройства</td>\n      <td>float64</td>\n      <td>205625</td>\n      <td>100.0000</td>\n      <td>0</td>\n      <td>0.0000</td>\n      <td>0</td>\n      <td>0.0000</td>\n      <td>205625</td>\n      <td>100.00</td>\n      <td>12680</td>\n      <td>1.150570e+05</td>\n      <td>1.000010e+05</td>\n      <td>109998.000</td>\n      <td>1.090586e+05</td>\n      <td>109995.000</td>\n      <td>-0.417</td>\n      <td>-1.213</td>\n    </tr>\n    <tr>\n      <th>target</th>\n      <td>Таргет</td>\n      <td>float64</td>\n      <td>49862</td>\n      <td>24.2490</td>\n      <td>0</td>\n      <td>0.0000</td>\n      <td>155763</td>\n      <td>75.7510</td>\n      <td>49862</td>\n      <td>100.00</td>\n      <td>2</td>\n      <td>1.000000e+00</td>\n      <td>0.000000e+00</td>\n      <td>0.000</td>\n      <td>2.420000e-01</td>\n      <td>0.000</td>\n      <td>1.202</td>\n      <td>-0.556</td>\n    </tr>\n    <tr>\n      <th>Balance_uah</th>\n      <td>Баланс</td>\n      <td>float64</td>\n      <td>204391</td>\n      <td>99.3999</td>\n      <td>1198</td>\n      <td>0.5826</td>\n      <td>36</td>\n      <td>0.0175</td>\n      <td>21</td>\n      <td>0.01</td>\n      <td>196644</td>\n      <td>1.672381e+15</td>\n      <td>-8.569925e+17</td>\n      <td>0.185</td>\n      <td>-1.742504e+13</td>\n      <td>0.001</td>\n      <td>-225.880</td>\n      <td>51047.096</td>\n    </tr>\n    <tr>\n      <th>TM_ID</th>\n      <td>Тариф</td>\n      <td>float64</td>\n      <td>204427</td>\n      <td>99.4174</td>\n      <td>1198</td>\n      <td>0.5826</td>\n      <td>0</td>\n      <td>0.0000</td>\n      <td>0</td>\n      <td>0.00</td>\n      <td>75</td>\n      <td>7.257000e+01</td>\n      <td>6.044200e+01</td>\n      <td>72.014</td>\n      <td>7.189900e+01</td>\n      <td>72.206</td>\n      <td>-4.880</td>\n      <td>63.391</td>\n    </tr>\n    <tr>\n      <th>...</th>\n      <td>...</td>\n      <td>...</td>\n      <td>...</td>\n      <td>...</td>\n      <td>...</td>\n      <td>...</td>\n      <td>...</td>\n      <td>...</td>\n      <td>...</td>\n      <td>...</td>\n      <td>...</td>\n      <td>...</td>\n      <td>...</td>\n      <td>...</td>\n      <td>...</td>\n      <td>...</td>\n      <td>...</td>\n      <td>...</td>\n    </tr>\n    <tr>\n      <th>device_type_tablet</th>\n      <td>Атрибут устройства - тип устройства</td>\n      <td>float64</td>\n      <td>75</td>\n      <td>0.0365</td>\n      <td>1299</td>\n      <td>0.6317</td>\n      <td>204251</td>\n      <td>99.3318</td>\n      <td>75</td>\n      <td>100.00</td>\n      <td>2</td>\n      <td>1.000000e+00</td>\n      <td>0.000000e+00</td>\n      <td>0.000</td>\n      <td>0.000000e+00</td>\n      <td>0.000</td>\n      <td>52.167</td>\n      <td>2719.414</td>\n    </tr>\n    <tr>\n      <th>device_type_nan</th>\n      <td>Атрибут устройства - тип устройства</td>\n      <td>float64</td>\n      <td>15201</td>\n      <td>7.3926</td>\n      <td>1299</td>\n      <td>0.6317</td>\n      <td>189125</td>\n      <td>91.9757</td>\n      <td>15201</td>\n      <td>100.00</td>\n      <td>2</td>\n      <td>1.000000e+00</td>\n      <td>0.000000e+00</td>\n      <td>0.000</td>\n      <td>7.400000e-02</td>\n      <td>0.000</td>\n      <td>3.244</td>\n      <td>8.522</td>\n    </tr>\n    <tr>\n      <th>device_type_rus_other</th>\n      <td>Атрибут устройства - тип устройства</td>\n      <td>float64</td>\n      <td>189125</td>\n      <td>91.9757</td>\n      <td>1299</td>\n      <td>0.6317</td>\n      <td>15201</td>\n      <td>7.3926</td>\n      <td>189125</td>\n      <td>100.00</td>\n      <td>2</td>\n      <td>1.000000e+00</td>\n      <td>0.000000e+00</td>\n      <td>1.000</td>\n      <td>9.260000e-01</td>\n      <td>1.000</td>\n      <td>-3.244</td>\n      <td>8.522</td>\n    </tr>\n    <tr>\n      <th>device_sim_count</th>\n      <td>Атрибут устройства - количество SIM-карт</td>\n      <td>float64</td>\n      <td>189125</td>\n      <td>91.9757</td>\n      <td>16500</td>\n      <td>8.0243</td>\n      <td>0</td>\n      <td>0.0000</td>\n      <td>189125</td>\n      <td>100.00</td>\n      <td>3</td>\n      <td>3.000000e+00</td>\n      <td>1.000000e+00</td>\n      <td>1.000</td>\n      <td>1.494000e+00</td>\n      <td>1.000</td>\n      <td>0.032</td>\n      <td>-1.974</td>\n    </tr>\n    <tr>\n      <th>device_price</th>\n      <td>Атрибут устройства - цена</td>\n      <td>float64</td>\n      <td>160161</td>\n      <td>77.8898</td>\n      <td>45464</td>\n      <td>22.1102</td>\n      <td>0</td>\n      <td>0.0000</td>\n      <td>160161</td>\n      <td>100.00</td>\n      <td>69</td>\n      <td>5.160000e+03</td>\n      <td>1.000000e+01</td>\n      <td>150.000</td>\n      <td>2.109120e+02</td>\n      <td>100.000</td>\n      <td>2.643</td>\n      <td>11.062</td>\n    </tr>\n  </tbody>\n</table>\n<p>855 rows × 18 columns</p>\n</div>"
     },
     "execution_count": 21,
     "metadata": {},
     "output_type": "execute_result"
    }
   ],
   "source": [
    "eda.df_info.set_index('name', inplace=False)"
   ],
   "metadata": {
    "collapsed": false,
    "pycharm": {
     "name": "#%%\n"
    }
   }
  },
  {
   "cell_type": "raw",
   "source": [
    "Запис таблиці з метриками у окремий файл (він же в подальшому використовується як файл з налаштуваннями заміни місінгів):"
   ],
   "metadata": {
    "collapsed": false,
    "pycharm": {
     "name": "#%% raw\n"
    }
   }
  },
  {
   "cell_type": "code",
   "execution_count": 22,
   "outputs": [],
   "source": [
    "# eda.df_info.to_excel(metrics_df.xlsx)"
   ],
   "metadata": {
    "collapsed": false,
    "pycharm": {
     "name": "#%%\n"
    }
   }
  },
  {
   "cell_type": "markdown",
   "source": [
    "## Опрацювання основних таблиць train та test (без фічі координат)"
   ],
   "metadata": {
    "collapsed": false,
    "pycharm": {
     "name": "#%% md\n"
    }
   }
  },
  {
   "cell_type": "code",
   "execution_count": null,
   "outputs": [],
   "source": [
    "time_start = datetime.now()\n",
    "eda.convert_train(config_file='metrics_df.xlsx')\n",
    "print(f'{eda.df.shape[0]} records converted in {datetime.now()-time_start}')"
   ],
   "metadata": {
    "collapsed": false,
    "pycharm": {
     "name": "#%%\n"
    }
   }
  },
  {
   "cell_type": "code",
   "execution_count": null,
   "outputs": [],
   "source": [
    "eda.df.to_pickle('df_train_main_converted_wo_spatial.pickle')"
   ],
   "metadata": {
    "collapsed": false,
    "pycharm": {
     "name": "#%%\n"
    }
   }
  },
  {
   "cell_type": "code",
   "execution_count": null,
   "outputs": [],
   "source": [
    "df_test_main_wo_spatial = eda.convert_test(test_main_fe)\n",
    "df_test_main_wo_spatial.drop(columns=['target'], inplace=True)\n",
    "df_test_main_wo_spatial.to_pickle('df_test_main_converted_wo_spatial.pickle')"
   ],
   "metadata": {
    "collapsed": false,
    "pycharm": {
     "name": "#%%\n"
    }
   }
  },
  {
   "cell_type": "markdown",
   "source": [],
   "metadata": {
    "collapsed": false,
    "pycharm": {
     "name": "#%% md\n"
    }
   }
  },
  {
   "cell_type": "markdown",
   "source": [
    "## Огляд та опрацювання датасету з відомостями про використання сервісів (b_num)"
   ],
   "metadata": {
    "collapsed": false,
    "pycharm": {
     "name": "#%% md\n"
    }
   }
  },
  {
   "cell_type": "markdown",
   "source": [
    "### Огляд"
   ],
   "metadata": {
    "collapsed": false,
    "pycharm": {
     "name": "#%% md\n"
    }
   }
  },
  {
   "cell_type": "code",
   "execution_count": 7,
   "outputs": [
    {
     "data": {
      "text/plain": "      abon_id        bnum  call_cnt_out  call_cnt_in  call_dur_out  \\\n0   1000006.0         311           1.0          0.0          13.0   \n1   1000006.0        7104           0.0          0.0           0.0   \n2   1000006.0     dzvinok           0.0          0.0           0.0   \n3   1000006.0    pensfond           0.0          0.0           0.0   \n4   1000006.0  sumyoenerg           0.0          0.0           0.0   \n5   1000009.0  ukrgasbank           0.0          0.0           0.0   \n6   1000012.0  novaposhta           0.0          0.0           0.0   \n7   1000012.0  oschadbank           0.0          0.0           0.0   \n8   1000012.0       vkcom           0.0          0.0           0.0   \n9   1000015.0       kocmo           0.0          0.0           0.0   \n10  1000020.0  getcontact           0.0          0.0           0.0   \n11  1000020.0  raiffeisen           0.0          0.0           0.0   \n12  1000021.0       33333           1.0          0.0          12.0   \n13  1000021.0   datagroup           0.0          0.0           0.0   \n14  1000021.0  raiffeisen           0.0          0.0           0.0   \n\n    call_dur_in  cnt_sms_out  cnt_sms_in  \n0           0.0          0.0         0.0  \n1           0.0          2.0         2.0  \n2           0.0          0.0         1.0  \n3           0.0          0.0         6.0  \n4           0.0          0.0         2.0  \n5           0.0          0.0        11.0  \n6           0.0          0.0         2.0  \n7           0.0          0.0         2.0  \n8           0.0          0.0         1.0  \n9           0.0          0.0         1.0  \n10          0.0          0.0         1.0  \n11          0.0          0.0         8.0  \n12          0.0          0.0         0.0  \n13          0.0          0.0         2.0  \n14          0.0          0.0         3.0  ",
      "text/html": "<div>\n<style scoped>\n    .dataframe tbody tr th:only-of-type {\n        vertical-align: middle;\n    }\n\n    .dataframe tbody tr th {\n        vertical-align: top;\n    }\n\n    .dataframe thead th {\n        text-align: right;\n    }\n</style>\n<table border=\"1\" class=\"dataframe\">\n  <thead>\n    <tr style=\"text-align: right;\">\n      <th></th>\n      <th>abon_id</th>\n      <th>bnum</th>\n      <th>call_cnt_out</th>\n      <th>call_cnt_in</th>\n      <th>call_dur_out</th>\n      <th>call_dur_in</th>\n      <th>cnt_sms_out</th>\n      <th>cnt_sms_in</th>\n    </tr>\n  </thead>\n  <tbody>\n    <tr>\n      <th>0</th>\n      <td>1000006.0</td>\n      <td>311</td>\n      <td>1.0</td>\n      <td>0.0</td>\n      <td>13.0</td>\n      <td>0.0</td>\n      <td>0.0</td>\n      <td>0.0</td>\n    </tr>\n    <tr>\n      <th>1</th>\n      <td>1000006.0</td>\n      <td>7104</td>\n      <td>0.0</td>\n      <td>0.0</td>\n      <td>0.0</td>\n      <td>0.0</td>\n      <td>2.0</td>\n      <td>2.0</td>\n    </tr>\n    <tr>\n      <th>2</th>\n      <td>1000006.0</td>\n      <td>dzvinok</td>\n      <td>0.0</td>\n      <td>0.0</td>\n      <td>0.0</td>\n      <td>0.0</td>\n      <td>0.0</td>\n      <td>1.0</td>\n    </tr>\n    <tr>\n      <th>3</th>\n      <td>1000006.0</td>\n      <td>pensfond</td>\n      <td>0.0</td>\n      <td>0.0</td>\n      <td>0.0</td>\n      <td>0.0</td>\n      <td>0.0</td>\n      <td>6.0</td>\n    </tr>\n    <tr>\n      <th>4</th>\n      <td>1000006.0</td>\n      <td>sumyoenerg</td>\n      <td>0.0</td>\n      <td>0.0</td>\n      <td>0.0</td>\n      <td>0.0</td>\n      <td>0.0</td>\n      <td>2.0</td>\n    </tr>\n    <tr>\n      <th>5</th>\n      <td>1000009.0</td>\n      <td>ukrgasbank</td>\n      <td>0.0</td>\n      <td>0.0</td>\n      <td>0.0</td>\n      <td>0.0</td>\n      <td>0.0</td>\n      <td>11.0</td>\n    </tr>\n    <tr>\n      <th>6</th>\n      <td>1000012.0</td>\n      <td>novaposhta</td>\n      <td>0.0</td>\n      <td>0.0</td>\n      <td>0.0</td>\n      <td>0.0</td>\n      <td>0.0</td>\n      <td>2.0</td>\n    </tr>\n    <tr>\n      <th>7</th>\n      <td>1000012.0</td>\n      <td>oschadbank</td>\n      <td>0.0</td>\n      <td>0.0</td>\n      <td>0.0</td>\n      <td>0.0</td>\n      <td>0.0</td>\n      <td>2.0</td>\n    </tr>\n    <tr>\n      <th>8</th>\n      <td>1000012.0</td>\n      <td>vkcom</td>\n      <td>0.0</td>\n      <td>0.0</td>\n      <td>0.0</td>\n      <td>0.0</td>\n      <td>0.0</td>\n      <td>1.0</td>\n    </tr>\n    <tr>\n      <th>9</th>\n      <td>1000015.0</td>\n      <td>kocmo</td>\n      <td>0.0</td>\n      <td>0.0</td>\n      <td>0.0</td>\n      <td>0.0</td>\n      <td>0.0</td>\n      <td>1.0</td>\n    </tr>\n    <tr>\n      <th>10</th>\n      <td>1000020.0</td>\n      <td>getcontact</td>\n      <td>0.0</td>\n      <td>0.0</td>\n      <td>0.0</td>\n      <td>0.0</td>\n      <td>0.0</td>\n      <td>1.0</td>\n    </tr>\n    <tr>\n      <th>11</th>\n      <td>1000020.0</td>\n      <td>raiffeisen</td>\n      <td>0.0</td>\n      <td>0.0</td>\n      <td>0.0</td>\n      <td>0.0</td>\n      <td>0.0</td>\n      <td>8.0</td>\n    </tr>\n    <tr>\n      <th>12</th>\n      <td>1000021.0</td>\n      <td>33333</td>\n      <td>1.0</td>\n      <td>0.0</td>\n      <td>12.0</td>\n      <td>0.0</td>\n      <td>0.0</td>\n      <td>0.0</td>\n    </tr>\n    <tr>\n      <th>13</th>\n      <td>1000021.0</td>\n      <td>datagroup</td>\n      <td>0.0</td>\n      <td>0.0</td>\n      <td>0.0</td>\n      <td>0.0</td>\n      <td>0.0</td>\n      <td>2.0</td>\n    </tr>\n    <tr>\n      <th>14</th>\n      <td>1000021.0</td>\n      <td>raiffeisen</td>\n      <td>0.0</td>\n      <td>0.0</td>\n      <td>0.0</td>\n      <td>0.0</td>\n      <td>0.0</td>\n      <td>3.0</td>\n    </tr>\n  </tbody>\n</table>\n</div>"
     },
     "execution_count": 7,
     "metadata": {},
     "output_type": "execute_result"
    }
   ],
   "source": [
    "train_services.head(15)"
   ],
   "metadata": {
    "collapsed": false,
    "pycharm": {
     "name": "#%%\n"
    }
   }
  },
  {
   "cell_type": "code",
   "execution_count": 8,
   "outputs": [
    {
     "data": {
      "text/plain": "(836780, 8)"
     },
     "execution_count": 8,
     "metadata": {},
     "output_type": "execute_result"
    }
   ],
   "source": [
    "train_services.shape"
   ],
   "metadata": {
    "collapsed": false,
    "pycharm": {
     "name": "#%%\n"
    }
   }
  },
  {
   "cell_type": "code",
   "execution_count": 9,
   "outputs": [
    {
     "data": {
      "text/plain": "16958"
     },
     "execution_count": 9,
     "metadata": {},
     "output_type": "execute_result"
    }
   ],
   "source": [
    "train_services['bnum'].nunique()"
   ],
   "metadata": {
    "collapsed": false,
    "pycharm": {
     "name": "#%%\n"
    }
   }
  },
  {
   "cell_type": "code",
   "execution_count": 10,
   "outputs": [
    {
     "data": {
      "text/plain": "169792"
     },
     "execution_count": 10,
     "metadata": {},
     "output_type": "execute_result"
    }
   ],
   "source": [
    "train_services['abon_id'].nunique()"
   ],
   "metadata": {
    "collapsed": false,
    "pycharm": {
     "name": "#%%\n"
    }
   }
  },
  {
   "cell_type": "code",
   "execution_count": 26,
   "outputs": [
    {
     "data": {
      "text/plain": "privatbank     46882\noschadbank     26470\nnovaposhta     24621\n111            18481\nfacebook       12402\n               ...  \npoliakovlab        1\n7ka                1\nsecretangel        1\nodessa-auto        1\nallmyphone         1\nName: bnum, Length: 16958, dtype: int64"
     },
     "execution_count": 26,
     "metadata": {},
     "output_type": "execute_result"
    }
   ],
   "source": [
    "#train_services['bnum'].value_counts(sort=True).to_excel('services.xlsx')  # для ручного формування нових фіч\n",
    "train_services['bnum'].value_counts(sort=True)"
   ],
   "metadata": {
    "collapsed": false,
    "pycharm": {
     "name": "#%%\n"
    }
   }
  },
  {
   "cell_type": "code",
   "execution_count": 31,
   "outputs": [
    {
     "data": {
      "text/plain": "abon_id          int32\nbnum            object\ncall_cnt_out     int16\ncall_cnt_in       int8\ncall_dur_out     int32\ncall_dur_in      int16\ncnt_sms_out      int16\ncnt_sms_in       int16\ndtype: object"
     },
     "execution_count": 31,
     "metadata": {},
     "output_type": "execute_result"
    }
   ],
   "source": [
    "train_services.dtypes"
   ],
   "metadata": {
    "collapsed": false,
    "pycharm": {
     "name": "#%%\n"
    }
   }
  },
  {
   "cell_type": "markdown",
   "source": [
    "### Клас опрацювання (bnum)"
   ],
   "metadata": {
    "collapsed": false,
    "pycharm": {
     "name": "#%% md\n"
    }
   }
  },
  {
   "cell_type": "code",
   "execution_count": 57,
   "outputs": [],
   "source": [
    "class BnumFeatureHandler:\n",
    "    # За ключовими словами виділено декілька додаткових категорій (18)\n",
    "    bnum_cat = {'marginal':\n",
    "                [\"zvonmonet\", \"monetka\", \"7monet\", \"shvgroshi\", \"eurogroshi\", \"groshidozp\", \"egroshicom\", \"e groshi\", \"shv.groshi\", \"groshivsim\", \"daemogrosh\", \"groshman\", \"groshi doz\", \"groshiua\", \"groshik\", \"groshi dozp\", \"groshy\", \"megagroshi\", \"vashigrosh\", \"vashigroshi\", \"tvoigroshi\", \"groshi24\", \"groshi247\", \"egroshi\", \"daemogroshi\", \"tytgroshy\", \"svidkogrosh\", \"miloan.ua\", \"ccloan\", \"loanyua\", \"loan-credi\", \"megaloan\", \"loan-credit\", \"vloan\", \"moneygo\", \"moneyveo\", \"vip-money\", \"easy-money\", \"moneyboom\", \"money4me\", \"money4you\", \"sms2money\", \"money\", \"moneycredi\", \"moneyou\", \"gomoney\", \"stormoney\", \"moneycredit\", \"money24\", \"moneytop\", \"mrmoney\", \"globalmoney\", \"moneyu\", \"moneyexper\", \"moneyexpert\", \"moneypoint\", \"smartmoney\", \"automoney\", \"money_alg\", \"moneyto\", \"money club\", \"moneysend\", \"mr-money\", \"prostomoney\", \"moneymarke\", \"kredit-300\", \"kredobank\", \"kredit-3000\", \"newkrediti\", \"kredit\", \"kash kredi\", \"kredit vse\", \"kreditua\", \"kf-kredit\", \"kash kredit\", \"starkredit\", \"ukredit\", \"kredit vsem\", \"kredits24\", \"gokredit\", \"fastkredit\", \"kredytvamc\", \"kreditgo\", \"vashkredut\", \"debetkredi\", \"royalkredi\", \"kredit-24\", \"novikredit\", \"pvks-kredit\", \"kredytvamco\", \"kreditt\", \"kredit4u\", \"novikredyt\", \"novikrediti\", \"debetkredit\", \"kreditman\", \"royalkredit\", \"kredit 7\", \"kredit-0\", \"pvks-kredi\", \"kredit 365\", \"novikredyty\", \"kredityem\", \"kredit_m\", \"mykredit\", \"uakredit\", \"kreditka\", \"kredit_112\", \"kredenscafe\", \"kredit1\", \"hotkredit\", \"kreditonli\", \"kredytka\", \"kredo\", \"itkredobank\", \"kreditvsem\", \"kreditonlin\", \"creditplus\", \"creditkasa\", \"mycredit\", \"alexcredlt\", \"creditman\", \"creditexpr\", \"credit-0\", \"sloncredit\", \"credit7\", \"creditdnep\", \"alexcredit\", \"credit\", \"zecredit\", \"credit ua\", \"24credit\", \"creditcent\", \"soscredit\", \"credify\", \"creditcafe\", \"globalcred\", \"creditcentr\", \"credit.me\", \"globcredit\", \"creditup\", \"creditlite\", \"moneycredi\", \"litecredit\", \"microcredi\", \"credit24\", \"lime credi\", \"aiex credi\", \"goldcredit\", \"procredit\", \"forzacredi\", \"topcredit\", \"globalcredi\", \"top credit\", \"loan-credi\", \"credilo\", \"microcredit\", \"creditbot\", \"infocredit\", \"nicecredit\", \"creditnice\", \"moneycredit\", \"creditor\", \"forzacredit\", \"credit3000\", \"icredit\", \"creditdnepr\", \"ua-credit\", \"aiex credit\", \"lime credit\", \"credit-pro\", \"crediton\", \"credit2000\", \"creditbox\", \"bankcredit\", \"credit365\", \"loan-credit\", \"credy\", \"credit2u\", \"credit30000\", \"creditua\", \"mlcrocredi\", \"credit20000\", \"creditfree\", \"credit 0\", \"gutcreditu\", \"creditsmeu\", \"ua_credit\", \"o-credit\", \"supercredi\", \"creditik\", \"credit4you\", \"credmir\", \"credit10mi\", \"gutcreditua\", \"smartcredi\", \"aviracredi\", \"klt credit\", \"centrcredi\", \"supercredit\", \"creditlife\", \"creditcash\", \"sens credi\", \"oncredit\", \"credit25000\", \"catcredit\", \"credithelp\", \"creditpart\", \"megacredit\", \"creditsmeua\", \"credit10min\", \"creditorde\", \"cash credi\", \"credit deb\", \"credit2500\", \"monocredit\", \"aviracredit\", \"gogocredit\", \"centrcredit\", \"creditorder\", \"credit 2020\", \"micr0credi\", \"credit debt\", \"creditline\", \"credit clu\", \"credcenter\", \"cash credit\", \"cashcredit\", \"creditmone\", \"unicredit\", \"mlcrocredit\", \"credit fre\", \"uitracredit\", \"yescredit\", \"crediti\", \"1credit\", \"credit 202\", \"sens credit\", \"incredo\", \"cash-credi\", \"recredit\", \"exp credit\", \"credit0\", \"autocredo\", \"creditbank\", \"lombard 1\", \"lombard\", \"lombard zs\", \"bestlombar\", \"lombard gnp\", \"lomb.bazis\", \"lombard999\", \"lombard gn\", \"lombardspa\", \"lombsakura\", \"ilombard\", \"lombard ki\", \"bestlombard\", \"vashlombar\", \"lomb.parus\", \"lombgotivk\", \"evrolombar\", \"lomb-komod\", \"lombardreal\", \"lombardspas\", \"lombgotivka\", \"plomby gst\", \"lider lomb\", \"lombard zt\", \"lombardsbi\", \"pulombard\", \"lombard-ua\", \"garant lomb\", \"meb.lombar\", \"cash\", \"mistercash\", \"e-cash\", \"cashberry\", \"blago cash\", \"cashhelp\", \"verocash\", \"cash24\", \"cashup\", \"flashcash\", \"microcash\", \"casharing\", \"cashinsky\", \"cashme\", \"gdcashmere\", \"advcash\", \"cash247\", \"cashbox\", \"ultracashu\", \"creditcash\", \"cash credi\", \"cashyou\", \"cash2go\", \"ultracashua\", \"topcash\", \"allcash\", \"cashdeskmon\", \"hellocash\", \"cash credit\", \"cashcredit\", \"cashman\", \"cash4sms\", \"cash_games\", \"cashdeskmo\", \"yourcash\", \"fxcash\", \"cash-credi\", \"cashpro\", \"cashbelt.ua\", \"zaim\", \"zaim24-7\", \"zaim24\", \"zaimdozp\", \"fastzaim24\", \"bistrozaim\", \"leadszaim\", \"zaimpro\", \"izaime\", \"bystryjzaim\", \"shvidkozaim\", \"vashzaim\", \"vzaimi\", \"zaimvsem\", \"zaimi\", \"zaimiplus\", \"zaimo\", \"shvidk0zaim\", \"helpzaim\", \"ukrzaim\", \"ykr zaim\", \"cosmolot\", \"mikrozaym\", \"turbozaym\", \"zaymo\", \"zaymua\", \"zaymgrad\", \"ukrcollect\", \"collector\", \"fcollect\", \"dengi24/7\", \"dengi-24\", \"dengi_vdol\", \"denginakar\", \"dengi_vdolg\", \"dengi24\", \"goldengate\", \"denginakart\", \"dengi.com\", \"pozyka\", \"ukrpozyka\", \"biz-pozyka\", \"s.pozyka\", \"bizpozyka\", \"pozyka24\", \"pozykatut\", \"sim.pozyka\", \"tvojapozyk\", \"tvojapozyka\"],\n",
    "            'car_owner':\n",
    "                [\"wog\", \"socar\", \"dok\", \"brsm\", \"glusco\", \"club4x4\", \"upg\", \"okko\", \"exist.ua\", \"amic energy\", \"bmw\", \"bmw_idealm\", \"bmwfix\", \"bmwauto\", \"bmw lviv\", \"aria-bmw\", \"audi vipos\", \"ddaudio\", \"audi_odessa\", \"splaudio\", \"claudie\", \"mircaraudi\", \"claudia\", \"audicentre\", \"audi_odess\", \"caraudio\", \"audizp.com\", \"audiservice\", \"audi dnepr\", \"mircaraudio\", \"porsche\", \"volkswagen\", \"senseat\", \"hyundai\", \"carbot\", \"alfacars\", \"4mycar\", \"2car.com.ua\", \"winwincars\", \"mycar24\", \"2car.com.u\", \"caraudio\", \"carclip\", \"toyota\", \"toyota_cit\", \"toyotaluts\", \"toyota_city\", \"toyota st\", \"toyota nk\", \"toyotalutsk\", \"toyota lviv\", \"ford\", \"cto ford\", \"ford.pl.ua\", \"fordlvivua\", \"kia ukrain\", \"kia ukraine\", \"aptekiaks\", \"kiaparts\", \"kia kilceva\", \"kia kilcev\", \"benishgps\", \"ukrgps.net\", \"gps-plus\", \"vipgps.org\", \"benish gps\", \"lexus\", \"lexus kh\", \"lexus dnep\", \"mitsubishi\", \"nissan\", \"nissanpodo\", \"opel\", \"skoda auto\", \"skoda\", \"skodalutsk\", \"skodakreme\"],\n",
    "            'social':\n",
    "                [\"facebook\", \"google\", \"telegram\", \"tiktok\", \"microsoft\", \"whatsapp\", \"viber\", \"instagram\", \"ukrnet\", \"vkcom\", \"okru\", \"zoom\"],\n",
    "            'device_shop':\n",
    "                [\"eldorado\", \"foxtrot.ua\", \"comfy\", \"citrus.ua\", \"rozetka\", \"allo\", \"citrus\", \"mazilla ua\", \"hotline\", \"moyo.ua\"],\n",
    "            'clinic':\n",
    "                [\"e-health\", \"synevo\", \"dobrobut\", \"oxfordmed\", \"helsi\", \"dila\"],\n",
    "            'expens':\n",
    "                [\"dominos\", \"apple\", \"brocard\", \"glovo\", \"makeup\", \"metlife\", \"raketa\", \"sushi wok\", \"winetime\", \"luxoptica\", \"zolotiy vi\"],\n",
    "            'post':\n",
    "                [\"novaposhta\", \"ukrposhta\", \"meestua\", \"novapay\"],\n",
    "            'sport':\n",
    "                [\"megasport\", \"sportlife\", \"sportmaste\", \"sport-city\", \"sportmaster\", \"sportland\", \"sportbank\", \"megasportu\", \"sportlandia\", \"sportlandi\", \"urbansport\", \"intersport\", \"sport&spa\", \"sportfit\", \"sportstar\", \"deltasport\", \"zebrasport\", \"diromsport\", \"multisport\", \"terrasport\", \"sportclubx\", \"sportgoods\", \"instasport\", \"sport&moda\", \"delta sport\", \"sportshop\", \"sportmir\", \"svit sport\", \"sport havk\", \"sportstudi\", \"sportclub\", \"sofia-sport\", \"peak sport\", \"sport maga\", \"kid-sport\", \"sportlavka\", \"unisport\", \"sport-x\", \"sportpit_pl\", \"sport havka\", \"sportvida\", \"ligasporta\", \"sportcente\", \"sport_stil\", \"sport magaz\", \"mwsport\", \"sport city\", \"planetsport\", \"sportmarke\", \"sportobzor\", \"sportshots\", \"sportime\", \"sportextri\", \"kb-75sport\", \"sportextrim\", \"sport shop\", \"tviy sport\", \"ukrsportpit\", \"sportedu.o\", \"sportstudio\", \"sportbaza\", \"sport max\", \"semi sport\", \"sportpit_p\", \"sporthunte\", \"fansport\", \"sport star\", \"sportcar\", \"esportal\", \"sport cube\", \"rn-sport\", \"sportmax\", \"pro-sport\", \"sportinvent\", \"sportalm\", \"sportsale\", \"uasport\", \"waysport\", \"aktasport\", \"sport-atle\", \"rosport\", \"grand sport\", \"sporte\", \"arena sport\", \"sportmass\", \"sportactiv\", \"sport-stor\", \"volna-sport\", \"olimp sport\", \"osport.ua\", \"sportloto\", \"pir.sporta\", \"hop-sport\", \"sportplus\", \"sportwear\", \"ideal sport\", \"sportpit\", \"sportcenter\", \"energym\", \"i-gym\", \"pulse gym\", \"gym-rex\", \"everestgym\", \"ip gym\", \"gymbeam\", \"gymmaxx\", \"kotengym\", \"oxygym\", \"ladygym\", \"gymzelena20\", \"z gym\", \"eurogym\", \"atletgym\", \"militarygym\", \"megagym\", \"ekvator.gym\", \"olympia-gym\", \"gym oxford\", \"zeusgym&em\", \"gymfit\", \"top gym\", \"ultragym\", \"regym\"],\n",
    "            'house':\n",
    "                [\"volia\", \"contactgas\", \"triolan\", \"epicentrk\", \"vodokanal\", \"ukrtelecom\", \"gaz\", \"gazzbu\", \"viasat\", \"datagroup\", \"poltavagaz\", \"poltgazzbu\", \"gazpostavka\", \"poltgazzbut\", \"centrgazza\", \"centrgazzap\"],\n",
    "            'apteka':\n",
    "                [\"apteka911\", \"apteka tas\", \"apteka d.s.\", \"apteka d.s\", \"aptekar-\", \"aptekanetu\", \"apteka nc\", \"apteka\", \"aptekar\", \"apteka24.u\", \"nashaapteka\", \"aptekizpua\", \"apteka 36_\", \"geoapteka\", \"apteka_anc\", \"apteka24\", \"aptekazaka\", \"aptekanetua\", \"apteka24.ua\", \"aptekiaks\", \"apteka lif\", \"aptekazakaz\", \"apteka rua\", \"sapteka\", \"apteka 36.\", \"mega-aptek\", \"apteka.led\", \"apteka plu\", \"apteka plus\", \"fit0apteka\", \"fitoapteka\", \"avtoapteka\", \"apteka36i6\", \"lizalaptev\", \"apteka 7-y\", \"my apteka\", \"lizalapteva\", \"apteka life\"],\n",
    "            'mall':\n",
    "                [\"prostor\", \"varus\", \"chervonyi\", \"shop zakaz\", \"eva\", \"humana\", \"nova_linia\", \"intertop\", \"avon\", \"watsonsclu\", \"miraton\", \"jysk\", \"arber\", \"md fashion\", \"gloriajeans\", \"watsonsclub\", \"reserved\", \"adidas\", \"pazolini\", \"colins\", \"auchan\", \"columbia\", \"secunda\", \"yakaboo.ua\", \"auchan\", \"vitto rossi\", \"oodji\", \"fora\"],\n",
    "            'habits':\n",
    "                [\"morepiva\", \"more piva\", \"pivasov\", \"dom piva\", \"pivarium\", \"pivoplus\", \"pivobank\", \"pivobar\", \"nashe pivo\", \"pivoteka\", \"alcomag\", \"alcoparty\", \"alcopro\", \"alcotown\", \"alcofansho\", \"alcofanshop\", \"maxbeer\", \"beermarket\", \"vybeer\", \"vybeerai\", \"goldbeer\", \"beerline\", \"beerlander\", \"beerwine\", \"homebeer\", \"my-beer\", \"kriss beer\", \"beer.live\", \"thebeersho\", \"beerhouse\", \"varvar.beer\", \"beer&blues\"],\n",
    "            'young':\n",
    "                [\"tinder\", \"steam\", \"speak up\", \"wargaming\", \"game\", \"gaming\", \"snapchat\", \"discord\", \"badoo\", \"airbnb\", \"yakaboo\", \"spot-game\", \"game-shop\", \"egame\", \"4game\", \"x-game\", \"mygames\", \"game zone\", \"gamecore v\", \"upgames\", \"gamecore vr\", \"questgameu\", \"questgameua\", \"igame\", \"cbgames\", \"offgamers\", \"the game\", \"sharegameme\", \"sharegamem\", \"gamestore\", \"gamenet\", \"gamepad\"],\n",
    "            'security':\n",
    "                [\"ohrana.ua\", \"centrohrana\", \"liderohrana\", \"mun_ohrana\", \"vashaohrana\", \"vashaohran\", \"venbest\", \"a1 securit\", \"security\", \"a1 security\", \"secur\", \"secur.ua\", \"mccsecurit\", \"skysecurit\", \"pdp-secur\", \"bestsecur\", \"security-s\", \"mccsecurity\", \"ibmsecurit\", \"ajax\", \"sheriff\", \"sirius\"],\n",
    "            'pets':\n",
    "                [\"masterzoo\", \"zootovary\", \"zoocomplex\", \"e-zoo\", \"ezoo\", \"zoo-jungle\", \"eurozoo\", \"zooapteka\", \"zoolux\", \"zoolandia\", \"zoovet\", \"zoostar\", \"zoomark\", \"zoomagazin\", \"zoohelper\", \"zooera\", \"zooplus\", \"zoodom\", \"zoostyle\", \"zoogurman\", \"zoocool\", \"zoomir\", \"paintzoom\", \"ukrzoovetp\", \"zoomag\", \"zoopitomec\"],\n",
    "            'work_board':\n",
    "                [\"rabota.ua\", \"rabotalab\", \"estrabota\", \"rabota\", \"work.ua\", \"razem.work\", \"work in lc\", \"studwork\", \"norma-work\", \"smart work\"],\n",
    "            'baby':\n",
    "                [\"antoshka\", \"baby\", \"mother\", \"child\", \"kiddex\", \"justkids_u\", \"kids repub\", \"kiwi kids\", \"kidstaff\", \"evgakids\", \"bestkids\", \"klevokids\", \"kids club\", \"fashionkid\", \"justkids_ua\", \"kidsstore\", \"superskidk\", \"milkkids\", \"kid-sport\", \"kids republ\", \"kidauto\", \"kids\", \"kidr.com.u\", \"kidbutik.u\", \"fashionkids\", \"maris.kid\", \"oki-kids\", \"kiddy land\", \"kidtown\", \"kidslook\", \"kiditop\", \"kidbutik.ua\", \"ni-kids\", \"kiddyboom\", \"everykid\", \"a.kid\", \"happykids\", \"kmkids\", \"dg kids\"],\n",
    "            'pay_sys':\n",
    "                [\"paypal\", \"sharpay\", \"payoneer\", \"easypay\", \"papaya\", \"ipay.ua\", \"koronapay\", \"paysend.co\", \"paysend.com\", \"way for pay\", \"paycell\", \"alipay\", \"elpaysys\", \"dg payment\", \"paysera\", \"ua-pay\", \"epayments\", \"electropay\", \"payeer.com\", \"pay ukraine\", \"pay ukrain\", \"elupay\", \"pay vn ua\", \"paylink\", \"payukraine\", \"payalnik\", \"citypay\", \"vladpay\", \"wikipays\", \"b4bpayment\", \"paysend\", \"mpay\", \"payphone x\", \"skpay karta\", \"actionpay\", \"cardpay\", \"paytomat\"]}\n",
    "\n",
    "\n",
    "    def __init__(self):\n",
    "        self.cols_total = ['abon_id', 'unique_bnum', 'total_call_cnt_out', 'total_call_cnt_in', 'total_call_dur_out', 'total_call_dur_in', 'total_cnt_sms_out', 'total_cnt_sms_in']\n",
    "        self.cols_by_cat = ['_cat_present', '_unique_services', '_call_cnt_out', '_call_cnt_in', '_call_dur_out', '_call_dur_in', '_cnt_sms_out', '_cnt_sms_in']\n",
    "\n",
    "        for cat_name in self.bnum_cat.keys():\n",
    "            for suffix in self.cols_by_cat:\n",
    "                self.cols_total.append(cat_name+suffix)\n",
    "\n",
    "    def convert_services(self, input_df: pd.DataFrame):\n",
    "        services_df = input_df.copy(deep=True)\n",
    "        abons = services_df['abon_id'].unique().tolist()\n",
    "        service_feature_data = []\n",
    "        for abon in abons:\n",
    "            abon_df_part = services_df.loc[services_df['abon_id'] == abon].drop(columns=['abon_id'])\n",
    "            abon_data_row = []\n",
    "            abon_data_row.append(abon)\n",
    "            abon_data_row.append(abon_df_part['bnum'].nunique())\n",
    "            abon_data_row.append(abon_df_part['call_cnt_out'].sum())\n",
    "            abon_data_row.append(abon_df_part['call_cnt_in'].sum())\n",
    "            abon_data_row.append(abon_df_part['call_dur_out'].sum())\n",
    "            abon_data_row.append(abon_df_part['call_dur_in'].sum())\n",
    "            abon_data_row.append(abon_df_part['cnt_sms_out'].sum())\n",
    "            abon_data_row.append(abon_df_part['cnt_sms_in'].sum())\n",
    "            for cat in self.bnum_cat.keys():\n",
    "                cat_temp_df = abon_df_part.loc[abon_df_part['bnum'].isin(self.bnum_cat[cat])]\n",
    "                if cat_temp_df.shape[0] > 0:\n",
    "                    abon_data_row.append(1)\n",
    "                else:\n",
    "                    abon_data_row.append(0)\n",
    "                abon_data_row.append(cat_temp_df['bnum'].nunique())\n",
    "                abon_data_row.append(cat_temp_df['call_cnt_out'].sum())\n",
    "                abon_data_row.append(cat_temp_df['call_cnt_in'].sum())\n",
    "                abon_data_row.append(cat_temp_df['call_dur_out'].sum())\n",
    "                abon_data_row.append(cat_temp_df['call_dur_in'].sum())\n",
    "                abon_data_row.append(cat_temp_df['cnt_sms_out'].sum())\n",
    "                abon_data_row.append(cat_temp_df['cnt_sms_in'].sum())\n",
    "            service_feature_data.append(abon_data_row)\n",
    "\n",
    "        service_feature_df = pd.DataFrame(data=service_feature_data, columns=self.cols_total)\n",
    "        service_feature_df.set_index('abon_id', inplace=True, drop=True)\n",
    "        return service_feature_df"
   ],
   "metadata": {
    "collapsed": false,
    "pycharm": {
     "name": "#%%\n"
    }
   }
  },
  {
   "cell_type": "code",
   "execution_count": 58,
   "outputs": [],
   "source": [
    "service_feature_handler = BnumFeatureHandler()"
   ],
   "metadata": {
    "collapsed": false,
    "pycharm": {
     "name": "#%%\n"
    }
   }
  },
  {
   "cell_type": "markdown",
   "source": [
    "### Опрацювання Train (bnum)"
   ],
   "metadata": {
    "collapsed": false,
    "pycharm": {
     "name": "#%% md\n"
    }
   }
  },
  {
   "cell_type": "code",
   "execution_count": 59,
   "outputs": [],
   "source": [
    "df_converted_train_services = service_feature_handler.convert_services(train_services)"
   ],
   "metadata": {
    "collapsed": false,
    "pycharm": {
     "name": "#%%\n"
    }
   }
  },
  {
   "cell_type": "code",
   "execution_count": 63,
   "outputs": [],
   "source": [
    "# Виправлення деяких помилок класу (спрощення типів, визначення колонок, у яких відсутні дані)\n",
    "df_converted_train_services.index = pd.to_numeric(df_converted_train_services.index, downcast='integer')\n",
    "for col in df_converted_train_services.columns:\n",
    "    df_converted_train_services[col] = pd.to_numeric(df_converted_train_services[col], downcast='integer')"
   ],
   "metadata": {
    "collapsed": false,
    "pycharm": {
     "name": "#%%\n"
    }
   }
  },
  {
   "cell_type": "code",
   "execution_count": 65,
   "outputs": [],
   "source": [
    "serv_count = df_converted_train_services.replace([0], np.nan).count()\n",
    "zero_cols_serv = serv_count.loc[serv_count == 0].index.tolist()"
   ],
   "metadata": {
    "collapsed": false,
    "pycharm": {
     "name": "#%%\n"
    }
   }
  },
  {
   "cell_type": "code",
   "execution_count": 66,
   "outputs": [
    {
     "data": {
      "text/plain": "90"
     },
     "execution_count": 66,
     "metadata": {},
     "output_type": "execute_result"
    }
   ],
   "source": [
    "len(zero_cols_serv)"
   ],
   "metadata": {
    "collapsed": false,
    "pycharm": {
     "name": "#%%\n"
    }
   }
  },
  {
   "cell_type": "code",
   "execution_count": 67,
   "outputs": [
    {
     "data": {
      "text/plain": "         unique_bnum  total_call_cnt_out  total_call_cnt_in  \\\nabon_id                                                       \n1000006            5                   1                  0   \n1000009            1                   0                  0   \n1000012            3                   0                  0   \n1000015            1                   0                  0   \n1000020            2                   0                  0   \n1000021            3                   1                  0   \n1000024            2                   0                  0   \n1000025            3                   0                  0   \n1000030            1                   0                  0   \n1000043            1                   0                  0   \n1000045            1                   0                  0   \n1000047            3                   1                  0   \n1000054            1                   0                  0   \n1000055            1                   0                  0   \n1000058            3                   0                  0   \n1000063            2                   0                  0   \n1000064            1                   0                  0   \n1000068            3                   0                  0   \n1000084            3                   0                  0   \n1000088            3                   0                  0   \n1000103            2                   0                  0   \n1000118            1                   0                  0   \n1000119            5                   0                  0   \n1000120            2                   0                  0   \n1000122            1                   0                  0   \n1000142           14                   0                  0   \n1000143            3                   1                  0   \n1000150            2                   0                  0   \n1000157            5                   0                  0   \n1000164            1                   0                  0   \n1000167            1                   0                  0   \n1000169            2                   0                  0   \n1000171            3                   0                  0   \n1000172            2                   0                  0   \n1000176            4                   0                  0   \n\n         total_call_dur_out  total_call_dur_in  total_cnt_sms_out  \\\nabon_id                                                             \n1000006                  13                  0                  2   \n1000009                   0                  0                  0   \n1000012                   0                  0                  0   \n1000015                   0                  0                  0   \n1000020                   0                  0                  0   \n1000021                  12                  0                  0   \n1000024                   0                  0                  0   \n1000025                   0                  0                  0   \n1000030                   0                  0                  0   \n1000043                   0                  0                  0   \n1000045                   0                  0                  1   \n1000047                   7                  0                  0   \n1000054                   0                  0                  0   \n1000055                   0                  0                  0   \n1000058                   0                  0                  0   \n1000063                   0                  0                  0   \n1000064                   0                  0                  0   \n1000068                   0                  0                  0   \n1000084                   0                  0                  0   \n1000088                   0                  0                  8   \n1000103                   0                  0                  0   \n1000118                   0                  0                  0   \n1000119                   0                  0                  0   \n1000120                   0                  0                  0   \n1000122                   0                  0                  0   \n1000142                   0                  0                  0   \n1000143                   4                  0                  0   \n1000150                   0                  0                  0   \n1000157                   0                  0                  0   \n1000164                   0                  0                  0   \n1000167                   0                  0                  0   \n1000169                   0                  0                  0   \n1000171                   0                  0                  0   \n1000172                   0                  0                  0   \n1000176                   0                  0                  0   \n\n         total_cnt_sms_in  marginal_cat_present  marginal_unique_services  \\\nabon_id                                                                     \n1000006                11                     0                         0   \n1000009                11                     0                         0   \n1000012                 5                     0                         0   \n1000015                 1                     0                         0   \n1000020                 9                     0                         0   \n1000021                 5                     0                         0   \n1000024                 7                     0                         0   \n1000025                31                     1                         1   \n1000030                 2                     0                         0   \n1000043                 5                     0                         0   \n1000045                 0                     0                         0   \n1000047                 4                     0                         0   \n1000054                22                     0                         0   \n1000055                 6                     0                         0   \n1000058                33                     1                         1   \n1000063                 2                     0                         0   \n1000064                 1                     0                         0   \n1000068                 5                     0                         0   \n1000084                 9                     0                         0   \n1000088                15                     0                         0   \n1000103                 2                     0                         0   \n1000118                 1                     0                         0   \n1000119                 9                     0                         0   \n1000120                16                     0                         0   \n1000122                 2                     0                         0   \n1000142                32                     0                         0   \n1000143                 3                     0                         0   \n1000150                 8                     0                         0   \n1000157                 7                     0                         0   \n1000164                 1                     0                         0   \n1000167                 4                     0                         0   \n1000169                24                     0                         0   \n1000171                 9                     0                         0   \n1000172                 3                     0                         0   \n1000176                16                     0                         0   \n\n         marginal_cnt_sms_in  ...  pets_cnt_sms_in  work_board_cat_present  \\\nabon_id                       ...                                            \n1000006                    0  ...                0                       0   \n1000009                    0  ...                0                       0   \n1000012                    0  ...                0                       0   \n1000015                    0  ...                0                       0   \n1000020                    0  ...                0                       0   \n1000021                    0  ...                0                       0   \n1000024                    0  ...                0                       0   \n1000025                   24  ...                0                       0   \n1000030                    0  ...                0                       0   \n1000043                    0  ...                0                       0   \n1000045                    0  ...                0                       0   \n1000047                    0  ...                0                       0   \n1000054                    0  ...                0                       0   \n1000055                    0  ...                0                       0   \n1000058                    2  ...                0                       0   \n1000063                    0  ...                0                       0   \n1000064                    0  ...                0                       0   \n1000068                    0  ...                0                       0   \n1000084                    0  ...                0                       0   \n1000088                    0  ...                0                       0   \n1000103                    0  ...                0                       0   \n1000118                    0  ...                0                       0   \n1000119                    0  ...                0                       0   \n1000120                    0  ...                0                       0   \n1000122                    0  ...                0                       0   \n1000142                    0  ...                0                       0   \n1000143                    0  ...                0                       0   \n1000150                    0  ...                0                       0   \n1000157                    0  ...                0                       0   \n1000164                    0  ...                0                       0   \n1000167                    0  ...                0                       0   \n1000169                    0  ...                0                       0   \n1000171                    0  ...                0                       0   \n1000172                    0  ...                0                       0   \n1000176                    0  ...                0                       0   \n\n         work_board_unique_services  work_board_cnt_sms_in  baby_cat_present  \\\nabon_id                                                                        \n1000006                           0                      0                 0   \n1000009                           0                      0                 0   \n1000012                           0                      0                 0   \n1000015                           0                      0                 0   \n1000020                           0                      0                 0   \n1000021                           0                      0                 0   \n1000024                           0                      0                 0   \n1000025                           0                      0                 0   \n1000030                           0                      0                 0   \n1000043                           0                      0                 0   \n1000045                           0                      0                 0   \n1000047                           0                      0                 0   \n1000054                           0                      0                 0   \n1000055                           0                      0                 0   \n1000058                           0                      0                 0   \n1000063                           0                      0                 0   \n1000064                           0                      0                 0   \n1000068                           0                      0                 0   \n1000084                           0                      0                 0   \n1000088                           0                      0                 0   \n1000103                           0                      0                 0   \n1000118                           0                      0                 0   \n1000119                           0                      0                 0   \n1000120                           0                      0                 0   \n1000122                           0                      0                 0   \n1000142                           0                      0                 0   \n1000143                           0                      0                 0   \n1000150                           0                      0                 0   \n1000157                           0                      0                 0   \n1000164                           0                      0                 0   \n1000167                           0                      0                 0   \n1000169                           0                      0                 0   \n1000171                           0                      0                 0   \n1000172                           0                      0                 0   \n1000176                           0                      0                 0   \n\n         baby_unique_services  baby_cnt_sms_in  pay_sys_cat_present  \\\nabon_id                                                               \n1000006                     0                0                    0   \n1000009                     0                0                    0   \n1000012                     0                0                    0   \n1000015                     0                0                    0   \n1000020                     0                0                    0   \n1000021                     0                0                    0   \n1000024                     0                0                    0   \n1000025                     0                0                    0   \n1000030                     0                0                    0   \n1000043                     0                0                    0   \n1000045                     0                0                    0   \n1000047                     0                0                    0   \n1000054                     0                0                    0   \n1000055                     0                0                    0   \n1000058                     0                0                    0   \n1000063                     0                0                    0   \n1000064                     0                0                    0   \n1000068                     0                0                    0   \n1000084                     0                0                    0   \n1000088                     0                0                    0   \n1000103                     0                0                    0   \n1000118                     0                0                    0   \n1000119                     0                0                    0   \n1000120                     0                0                    0   \n1000122                     0                0                    0   \n1000142                     0                0                    0   \n1000143                     0                0                    0   \n1000150                     0                0                    0   \n1000157                     0                0                    0   \n1000164                     0                0                    0   \n1000167                     0                0                    0   \n1000169                     0                0                    0   \n1000171                     0                0                    0   \n1000172                     0                0                    0   \n1000176                     0                0                    0   \n\n         pay_sys_unique_services  pay_sys_cnt_sms_in  \nabon_id                                               \n1000006                        0                   0  \n1000009                        0                   0  \n1000012                        0                   0  \n1000015                        0                   0  \n1000020                        0                   0  \n1000021                        0                   0  \n1000024                        0                   0  \n1000025                        0                   0  \n1000030                        0                   0  \n1000043                        0                   0  \n1000045                        0                   0  \n1000047                        0                   0  \n1000054                        0                   0  \n1000055                        0                   0  \n1000058                        0                   0  \n1000063                        0                   0  \n1000064                        0                   0  \n1000068                        0                   0  \n1000084                        0                   0  \n1000088                        0                   0  \n1000103                        0                   0  \n1000118                        0                   0  \n1000119                        0                   0  \n1000120                        0                   0  \n1000122                        0                   0  \n1000142                        0                   0  \n1000143                        0                   0  \n1000150                        0                   0  \n1000157                        0                   0  \n1000164                        0                   0  \n1000167                        0                   0  \n1000169                        0                   0  \n1000171                        0                   0  \n1000172                        0                   0  \n1000176                        0                   0  \n\n[35 rows x 61 columns]",
      "text/html": "<div>\n<style scoped>\n    .dataframe tbody tr th:only-of-type {\n        vertical-align: middle;\n    }\n\n    .dataframe tbody tr th {\n        vertical-align: top;\n    }\n\n    .dataframe thead th {\n        text-align: right;\n    }\n</style>\n<table border=\"1\" class=\"dataframe\">\n  <thead>\n    <tr style=\"text-align: right;\">\n      <th></th>\n      <th>unique_bnum</th>\n      <th>total_call_cnt_out</th>\n      <th>total_call_cnt_in</th>\n      <th>total_call_dur_out</th>\n      <th>total_call_dur_in</th>\n      <th>total_cnt_sms_out</th>\n      <th>total_cnt_sms_in</th>\n      <th>marginal_cat_present</th>\n      <th>marginal_unique_services</th>\n      <th>marginal_cnt_sms_in</th>\n      <th>...</th>\n      <th>pets_cnt_sms_in</th>\n      <th>work_board_cat_present</th>\n      <th>work_board_unique_services</th>\n      <th>work_board_cnt_sms_in</th>\n      <th>baby_cat_present</th>\n      <th>baby_unique_services</th>\n      <th>baby_cnt_sms_in</th>\n      <th>pay_sys_cat_present</th>\n      <th>pay_sys_unique_services</th>\n      <th>pay_sys_cnt_sms_in</th>\n    </tr>\n    <tr>\n      <th>abon_id</th>\n      <th></th>\n      <th></th>\n      <th></th>\n      <th></th>\n      <th></th>\n      <th></th>\n      <th></th>\n      <th></th>\n      <th></th>\n      <th></th>\n      <th></th>\n      <th></th>\n      <th></th>\n      <th></th>\n      <th></th>\n      <th></th>\n      <th></th>\n      <th></th>\n      <th></th>\n      <th></th>\n      <th></th>\n    </tr>\n  </thead>\n  <tbody>\n    <tr>\n      <th>1000006</th>\n      <td>5</td>\n      <td>1</td>\n      <td>0</td>\n      <td>13</td>\n      <td>0</td>\n      <td>2</td>\n      <td>11</td>\n      <td>0</td>\n      <td>0</td>\n      <td>0</td>\n      <td>...</td>\n      <td>0</td>\n      <td>0</td>\n      <td>0</td>\n      <td>0</td>\n      <td>0</td>\n      <td>0</td>\n      <td>0</td>\n      <td>0</td>\n      <td>0</td>\n      <td>0</td>\n    </tr>\n    <tr>\n      <th>1000009</th>\n      <td>1</td>\n      <td>0</td>\n      <td>0</td>\n      <td>0</td>\n      <td>0</td>\n      <td>0</td>\n      <td>11</td>\n      <td>0</td>\n      <td>0</td>\n      <td>0</td>\n      <td>...</td>\n      <td>0</td>\n      <td>0</td>\n      <td>0</td>\n      <td>0</td>\n      <td>0</td>\n      <td>0</td>\n      <td>0</td>\n      <td>0</td>\n      <td>0</td>\n      <td>0</td>\n    </tr>\n    <tr>\n      <th>1000012</th>\n      <td>3</td>\n      <td>0</td>\n      <td>0</td>\n      <td>0</td>\n      <td>0</td>\n      <td>0</td>\n      <td>5</td>\n      <td>0</td>\n      <td>0</td>\n      <td>0</td>\n      <td>...</td>\n      <td>0</td>\n      <td>0</td>\n      <td>0</td>\n      <td>0</td>\n      <td>0</td>\n      <td>0</td>\n      <td>0</td>\n      <td>0</td>\n      <td>0</td>\n      <td>0</td>\n    </tr>\n    <tr>\n      <th>1000015</th>\n      <td>1</td>\n      <td>0</td>\n      <td>0</td>\n      <td>0</td>\n      <td>0</td>\n      <td>0</td>\n      <td>1</td>\n      <td>0</td>\n      <td>0</td>\n      <td>0</td>\n      <td>...</td>\n      <td>0</td>\n      <td>0</td>\n      <td>0</td>\n      <td>0</td>\n      <td>0</td>\n      <td>0</td>\n      <td>0</td>\n      <td>0</td>\n      <td>0</td>\n      <td>0</td>\n    </tr>\n    <tr>\n      <th>1000020</th>\n      <td>2</td>\n      <td>0</td>\n      <td>0</td>\n      <td>0</td>\n      <td>0</td>\n      <td>0</td>\n      <td>9</td>\n      <td>0</td>\n      <td>0</td>\n      <td>0</td>\n      <td>...</td>\n      <td>0</td>\n      <td>0</td>\n      <td>0</td>\n      <td>0</td>\n      <td>0</td>\n      <td>0</td>\n      <td>0</td>\n      <td>0</td>\n      <td>0</td>\n      <td>0</td>\n    </tr>\n    <tr>\n      <th>1000021</th>\n      <td>3</td>\n      <td>1</td>\n      <td>0</td>\n      <td>12</td>\n      <td>0</td>\n      <td>0</td>\n      <td>5</td>\n      <td>0</td>\n      <td>0</td>\n      <td>0</td>\n      <td>...</td>\n      <td>0</td>\n      <td>0</td>\n      <td>0</td>\n      <td>0</td>\n      <td>0</td>\n      <td>0</td>\n      <td>0</td>\n      <td>0</td>\n      <td>0</td>\n      <td>0</td>\n    </tr>\n    <tr>\n      <th>1000024</th>\n      <td>2</td>\n      <td>0</td>\n      <td>0</td>\n      <td>0</td>\n      <td>0</td>\n      <td>0</td>\n      <td>7</td>\n      <td>0</td>\n      <td>0</td>\n      <td>0</td>\n      <td>...</td>\n      <td>0</td>\n      <td>0</td>\n      <td>0</td>\n      <td>0</td>\n      <td>0</td>\n      <td>0</td>\n      <td>0</td>\n      <td>0</td>\n      <td>0</td>\n      <td>0</td>\n    </tr>\n    <tr>\n      <th>1000025</th>\n      <td>3</td>\n      <td>0</td>\n      <td>0</td>\n      <td>0</td>\n      <td>0</td>\n      <td>0</td>\n      <td>31</td>\n      <td>1</td>\n      <td>1</td>\n      <td>24</td>\n      <td>...</td>\n      <td>0</td>\n      <td>0</td>\n      <td>0</td>\n      <td>0</td>\n      <td>0</td>\n      <td>0</td>\n      <td>0</td>\n      <td>0</td>\n      <td>0</td>\n      <td>0</td>\n    </tr>\n    <tr>\n      <th>1000030</th>\n      <td>1</td>\n      <td>0</td>\n      <td>0</td>\n      <td>0</td>\n      <td>0</td>\n      <td>0</td>\n      <td>2</td>\n      <td>0</td>\n      <td>0</td>\n      <td>0</td>\n      <td>...</td>\n      <td>0</td>\n      <td>0</td>\n      <td>0</td>\n      <td>0</td>\n      <td>0</td>\n      <td>0</td>\n      <td>0</td>\n      <td>0</td>\n      <td>0</td>\n      <td>0</td>\n    </tr>\n    <tr>\n      <th>1000043</th>\n      <td>1</td>\n      <td>0</td>\n      <td>0</td>\n      <td>0</td>\n      <td>0</td>\n      <td>0</td>\n      <td>5</td>\n      <td>0</td>\n      <td>0</td>\n      <td>0</td>\n      <td>...</td>\n      <td>0</td>\n      <td>0</td>\n      <td>0</td>\n      <td>0</td>\n      <td>0</td>\n      <td>0</td>\n      <td>0</td>\n      <td>0</td>\n      <td>0</td>\n      <td>0</td>\n    </tr>\n    <tr>\n      <th>1000045</th>\n      <td>1</td>\n      <td>0</td>\n      <td>0</td>\n      <td>0</td>\n      <td>0</td>\n      <td>1</td>\n      <td>0</td>\n      <td>0</td>\n      <td>0</td>\n      <td>0</td>\n      <td>...</td>\n      <td>0</td>\n      <td>0</td>\n      <td>0</td>\n      <td>0</td>\n      <td>0</td>\n      <td>0</td>\n      <td>0</td>\n      <td>0</td>\n      <td>0</td>\n      <td>0</td>\n    </tr>\n    <tr>\n      <th>1000047</th>\n      <td>3</td>\n      <td>1</td>\n      <td>0</td>\n      <td>7</td>\n      <td>0</td>\n      <td>0</td>\n      <td>4</td>\n      <td>0</td>\n      <td>0</td>\n      <td>0</td>\n      <td>...</td>\n      <td>0</td>\n      <td>0</td>\n      <td>0</td>\n      <td>0</td>\n      <td>0</td>\n      <td>0</td>\n      <td>0</td>\n      <td>0</td>\n      <td>0</td>\n      <td>0</td>\n    </tr>\n    <tr>\n      <th>1000054</th>\n      <td>1</td>\n      <td>0</td>\n      <td>0</td>\n      <td>0</td>\n      <td>0</td>\n      <td>0</td>\n      <td>22</td>\n      <td>0</td>\n      <td>0</td>\n      <td>0</td>\n      <td>...</td>\n      <td>0</td>\n      <td>0</td>\n      <td>0</td>\n      <td>0</td>\n      <td>0</td>\n      <td>0</td>\n      <td>0</td>\n      <td>0</td>\n      <td>0</td>\n      <td>0</td>\n    </tr>\n    <tr>\n      <th>1000055</th>\n      <td>1</td>\n      <td>0</td>\n      <td>0</td>\n      <td>0</td>\n      <td>0</td>\n      <td>0</td>\n      <td>6</td>\n      <td>0</td>\n      <td>0</td>\n      <td>0</td>\n      <td>...</td>\n      <td>0</td>\n      <td>0</td>\n      <td>0</td>\n      <td>0</td>\n      <td>0</td>\n      <td>0</td>\n      <td>0</td>\n      <td>0</td>\n      <td>0</td>\n      <td>0</td>\n    </tr>\n    <tr>\n      <th>1000058</th>\n      <td>3</td>\n      <td>0</td>\n      <td>0</td>\n      <td>0</td>\n      <td>0</td>\n      <td>0</td>\n      <td>33</td>\n      <td>1</td>\n      <td>1</td>\n      <td>2</td>\n      <td>...</td>\n      <td>0</td>\n      <td>0</td>\n      <td>0</td>\n      <td>0</td>\n      <td>0</td>\n      <td>0</td>\n      <td>0</td>\n      <td>0</td>\n      <td>0</td>\n      <td>0</td>\n    </tr>\n    <tr>\n      <th>1000063</th>\n      <td>2</td>\n      <td>0</td>\n      <td>0</td>\n      <td>0</td>\n      <td>0</td>\n      <td>0</td>\n      <td>2</td>\n      <td>0</td>\n      <td>0</td>\n      <td>0</td>\n      <td>...</td>\n      <td>0</td>\n      <td>0</td>\n      <td>0</td>\n      <td>0</td>\n      <td>0</td>\n      <td>0</td>\n      <td>0</td>\n      <td>0</td>\n      <td>0</td>\n      <td>0</td>\n    </tr>\n    <tr>\n      <th>1000064</th>\n      <td>1</td>\n      <td>0</td>\n      <td>0</td>\n      <td>0</td>\n      <td>0</td>\n      <td>0</td>\n      <td>1</td>\n      <td>0</td>\n      <td>0</td>\n      <td>0</td>\n      <td>...</td>\n      <td>0</td>\n      <td>0</td>\n      <td>0</td>\n      <td>0</td>\n      <td>0</td>\n      <td>0</td>\n      <td>0</td>\n      <td>0</td>\n      <td>0</td>\n      <td>0</td>\n    </tr>\n    <tr>\n      <th>1000068</th>\n      <td>3</td>\n      <td>0</td>\n      <td>0</td>\n      <td>0</td>\n      <td>0</td>\n      <td>0</td>\n      <td>5</td>\n      <td>0</td>\n      <td>0</td>\n      <td>0</td>\n      <td>...</td>\n      <td>0</td>\n      <td>0</td>\n      <td>0</td>\n      <td>0</td>\n      <td>0</td>\n      <td>0</td>\n      <td>0</td>\n      <td>0</td>\n      <td>0</td>\n      <td>0</td>\n    </tr>\n    <tr>\n      <th>1000084</th>\n      <td>3</td>\n      <td>0</td>\n      <td>0</td>\n      <td>0</td>\n      <td>0</td>\n      <td>0</td>\n      <td>9</td>\n      <td>0</td>\n      <td>0</td>\n      <td>0</td>\n      <td>...</td>\n      <td>0</td>\n      <td>0</td>\n      <td>0</td>\n      <td>0</td>\n      <td>0</td>\n      <td>0</td>\n      <td>0</td>\n      <td>0</td>\n      <td>0</td>\n      <td>0</td>\n    </tr>\n    <tr>\n      <th>1000088</th>\n      <td>3</td>\n      <td>0</td>\n      <td>0</td>\n      <td>0</td>\n      <td>0</td>\n      <td>8</td>\n      <td>15</td>\n      <td>0</td>\n      <td>0</td>\n      <td>0</td>\n      <td>...</td>\n      <td>0</td>\n      <td>0</td>\n      <td>0</td>\n      <td>0</td>\n      <td>0</td>\n      <td>0</td>\n      <td>0</td>\n      <td>0</td>\n      <td>0</td>\n      <td>0</td>\n    </tr>\n    <tr>\n      <th>1000103</th>\n      <td>2</td>\n      <td>0</td>\n      <td>0</td>\n      <td>0</td>\n      <td>0</td>\n      <td>0</td>\n      <td>2</td>\n      <td>0</td>\n      <td>0</td>\n      <td>0</td>\n      <td>...</td>\n      <td>0</td>\n      <td>0</td>\n      <td>0</td>\n      <td>0</td>\n      <td>0</td>\n      <td>0</td>\n      <td>0</td>\n      <td>0</td>\n      <td>0</td>\n      <td>0</td>\n    </tr>\n    <tr>\n      <th>1000118</th>\n      <td>1</td>\n      <td>0</td>\n      <td>0</td>\n      <td>0</td>\n      <td>0</td>\n      <td>0</td>\n      <td>1</td>\n      <td>0</td>\n      <td>0</td>\n      <td>0</td>\n      <td>...</td>\n      <td>0</td>\n      <td>0</td>\n      <td>0</td>\n      <td>0</td>\n      <td>0</td>\n      <td>0</td>\n      <td>0</td>\n      <td>0</td>\n      <td>0</td>\n      <td>0</td>\n    </tr>\n    <tr>\n      <th>1000119</th>\n      <td>5</td>\n      <td>0</td>\n      <td>0</td>\n      <td>0</td>\n      <td>0</td>\n      <td>0</td>\n      <td>9</td>\n      <td>0</td>\n      <td>0</td>\n      <td>0</td>\n      <td>...</td>\n      <td>0</td>\n      <td>0</td>\n      <td>0</td>\n      <td>0</td>\n      <td>0</td>\n      <td>0</td>\n      <td>0</td>\n      <td>0</td>\n      <td>0</td>\n      <td>0</td>\n    </tr>\n    <tr>\n      <th>1000120</th>\n      <td>2</td>\n      <td>0</td>\n      <td>0</td>\n      <td>0</td>\n      <td>0</td>\n      <td>0</td>\n      <td>16</td>\n      <td>0</td>\n      <td>0</td>\n      <td>0</td>\n      <td>...</td>\n      <td>0</td>\n      <td>0</td>\n      <td>0</td>\n      <td>0</td>\n      <td>0</td>\n      <td>0</td>\n      <td>0</td>\n      <td>0</td>\n      <td>0</td>\n      <td>0</td>\n    </tr>\n    <tr>\n      <th>1000122</th>\n      <td>1</td>\n      <td>0</td>\n      <td>0</td>\n      <td>0</td>\n      <td>0</td>\n      <td>0</td>\n      <td>2</td>\n      <td>0</td>\n      <td>0</td>\n      <td>0</td>\n      <td>...</td>\n      <td>0</td>\n      <td>0</td>\n      <td>0</td>\n      <td>0</td>\n      <td>0</td>\n      <td>0</td>\n      <td>0</td>\n      <td>0</td>\n      <td>0</td>\n      <td>0</td>\n    </tr>\n    <tr>\n      <th>1000142</th>\n      <td>14</td>\n      <td>0</td>\n      <td>0</td>\n      <td>0</td>\n      <td>0</td>\n      <td>0</td>\n      <td>32</td>\n      <td>0</td>\n      <td>0</td>\n      <td>0</td>\n      <td>...</td>\n      <td>0</td>\n      <td>0</td>\n      <td>0</td>\n      <td>0</td>\n      <td>0</td>\n      <td>0</td>\n      <td>0</td>\n      <td>0</td>\n      <td>0</td>\n      <td>0</td>\n    </tr>\n    <tr>\n      <th>1000143</th>\n      <td>3</td>\n      <td>1</td>\n      <td>0</td>\n      <td>4</td>\n      <td>0</td>\n      <td>0</td>\n      <td>3</td>\n      <td>0</td>\n      <td>0</td>\n      <td>0</td>\n      <td>...</td>\n      <td>0</td>\n      <td>0</td>\n      <td>0</td>\n      <td>0</td>\n      <td>0</td>\n      <td>0</td>\n      <td>0</td>\n      <td>0</td>\n      <td>0</td>\n      <td>0</td>\n    </tr>\n    <tr>\n      <th>1000150</th>\n      <td>2</td>\n      <td>0</td>\n      <td>0</td>\n      <td>0</td>\n      <td>0</td>\n      <td>0</td>\n      <td>8</td>\n      <td>0</td>\n      <td>0</td>\n      <td>0</td>\n      <td>...</td>\n      <td>0</td>\n      <td>0</td>\n      <td>0</td>\n      <td>0</td>\n      <td>0</td>\n      <td>0</td>\n      <td>0</td>\n      <td>0</td>\n      <td>0</td>\n      <td>0</td>\n    </tr>\n    <tr>\n      <th>1000157</th>\n      <td>5</td>\n      <td>0</td>\n      <td>0</td>\n      <td>0</td>\n      <td>0</td>\n      <td>0</td>\n      <td>7</td>\n      <td>0</td>\n      <td>0</td>\n      <td>0</td>\n      <td>...</td>\n      <td>0</td>\n      <td>0</td>\n      <td>0</td>\n      <td>0</td>\n      <td>0</td>\n      <td>0</td>\n      <td>0</td>\n      <td>0</td>\n      <td>0</td>\n      <td>0</td>\n    </tr>\n    <tr>\n      <th>1000164</th>\n      <td>1</td>\n      <td>0</td>\n      <td>0</td>\n      <td>0</td>\n      <td>0</td>\n      <td>0</td>\n      <td>1</td>\n      <td>0</td>\n      <td>0</td>\n      <td>0</td>\n      <td>...</td>\n      <td>0</td>\n      <td>0</td>\n      <td>0</td>\n      <td>0</td>\n      <td>0</td>\n      <td>0</td>\n      <td>0</td>\n      <td>0</td>\n      <td>0</td>\n      <td>0</td>\n    </tr>\n    <tr>\n      <th>1000167</th>\n      <td>1</td>\n      <td>0</td>\n      <td>0</td>\n      <td>0</td>\n      <td>0</td>\n      <td>0</td>\n      <td>4</td>\n      <td>0</td>\n      <td>0</td>\n      <td>0</td>\n      <td>...</td>\n      <td>0</td>\n      <td>0</td>\n      <td>0</td>\n      <td>0</td>\n      <td>0</td>\n      <td>0</td>\n      <td>0</td>\n      <td>0</td>\n      <td>0</td>\n      <td>0</td>\n    </tr>\n    <tr>\n      <th>1000169</th>\n      <td>2</td>\n      <td>0</td>\n      <td>0</td>\n      <td>0</td>\n      <td>0</td>\n      <td>0</td>\n      <td>24</td>\n      <td>0</td>\n      <td>0</td>\n      <td>0</td>\n      <td>...</td>\n      <td>0</td>\n      <td>0</td>\n      <td>0</td>\n      <td>0</td>\n      <td>0</td>\n      <td>0</td>\n      <td>0</td>\n      <td>0</td>\n      <td>0</td>\n      <td>0</td>\n    </tr>\n    <tr>\n      <th>1000171</th>\n      <td>3</td>\n      <td>0</td>\n      <td>0</td>\n      <td>0</td>\n      <td>0</td>\n      <td>0</td>\n      <td>9</td>\n      <td>0</td>\n      <td>0</td>\n      <td>0</td>\n      <td>...</td>\n      <td>0</td>\n      <td>0</td>\n      <td>0</td>\n      <td>0</td>\n      <td>0</td>\n      <td>0</td>\n      <td>0</td>\n      <td>0</td>\n      <td>0</td>\n      <td>0</td>\n    </tr>\n    <tr>\n      <th>1000172</th>\n      <td>2</td>\n      <td>0</td>\n      <td>0</td>\n      <td>0</td>\n      <td>0</td>\n      <td>0</td>\n      <td>3</td>\n      <td>0</td>\n      <td>0</td>\n      <td>0</td>\n      <td>...</td>\n      <td>0</td>\n      <td>0</td>\n      <td>0</td>\n      <td>0</td>\n      <td>0</td>\n      <td>0</td>\n      <td>0</td>\n      <td>0</td>\n      <td>0</td>\n      <td>0</td>\n    </tr>\n    <tr>\n      <th>1000176</th>\n      <td>4</td>\n      <td>0</td>\n      <td>0</td>\n      <td>0</td>\n      <td>0</td>\n      <td>0</td>\n      <td>16</td>\n      <td>0</td>\n      <td>0</td>\n      <td>0</td>\n      <td>...</td>\n      <td>0</td>\n      <td>0</td>\n      <td>0</td>\n      <td>0</td>\n      <td>0</td>\n      <td>0</td>\n      <td>0</td>\n      <td>0</td>\n      <td>0</td>\n      <td>0</td>\n    </tr>\n  </tbody>\n</table>\n<p>35 rows × 61 columns</p>\n</div>"
     },
     "execution_count": 67,
     "metadata": {},
     "output_type": "execute_result"
    }
   ],
   "source": [
    "df_converted_train_services.drop(columns=zero_cols_serv, inplace=True)\n",
    "df_converted_train_services.fillna(0, inplace=True)\n",
    "df_converted_train_services.head(35)"
   ],
   "metadata": {
    "collapsed": false,
    "pycharm": {
     "name": "#%%\n"
    }
   }
  },
  {
   "cell_type": "code",
   "execution_count": 68,
   "outputs": [],
   "source": [
    "df_converted_train_services.to_pickle('df_train_service_new_features.pickle')"
   ],
   "metadata": {
    "collapsed": false,
    "pycharm": {
     "name": "#%%\n"
    }
   }
  },
  {
   "cell_type": "markdown",
   "source": [
    "### Опрацювання Test (bnum)"
   ],
   "metadata": {
    "collapsed": false,
    "pycharm": {
     "name": "#%% md\n"
    }
   }
  },
  {
   "cell_type": "code",
   "execution_count": 69,
   "outputs": [],
   "source": [
    "df_converted_test_services = service_feature_handler.convert_services(test_services)"
   ],
   "metadata": {
    "collapsed": false,
    "pycharm": {
     "name": "#%%\n"
    }
   }
  },
  {
   "cell_type": "code",
   "execution_count": 70,
   "outputs": [],
   "source": [
    "df_converted_test_services.index = pd.to_numeric(df_converted_test_services.index, downcast='integer')\n",
    "for col in df_converted_test_services.columns:\n",
    "    df_converted_test_services[col] = pd.to_numeric(df_converted_test_services[col], downcast='integer')"
   ],
   "metadata": {
    "collapsed": false,
    "pycharm": {
     "name": "#%%\n"
    }
   }
  },
  {
   "cell_type": "code",
   "execution_count": 72,
   "outputs": [
    {
     "data": {
      "text/plain": "         unique_bnum  total_call_cnt_out  total_call_cnt_in  \\\nabon_id                                                       \n1000003            2                   0                  0   \n1000007            1                   0                  0   \n1000023            2                   0                  0   \n1000026            2                   0                  0   \n1000027            2                   0                  0   \n1000032            6                   0                  0   \n1000035            3                   0                  0   \n1000036            1                   0                  0   \n1000037            2                   9                  0   \n1000040            2                   0                  0   \n1000057            1                   0                  0   \n1000060            2                   0                  0   \n1000065            1                   6                  0   \n1000070            4                   3                  0   \n1000071            1                   0                  0   \n1000082            4                   1                  0   \n1000085            1                   0                  0   \n1000087            2                   0                  0   \n1000098            9                   5                  0   \n1000099            7                   0                  0   \n1000100            2                   0                  0   \n1000102           10                   0                  0   \n1000106            4                   1                  0   \n1000107            3                   0                  0   \n1000109           16                   0                  0   \n1000110            7                   0                  0   \n1000114            2                   3                  0   \n1000115            1                   0                  0   \n1000116            4                   0                  0   \n1000117            3                   0                  0   \n1000136            1                   0                  0   \n1000139            3                   0                  0   \n1000141            5                   2                  0   \n1000145            4                   0                  0   \n1000146            4                   0                  0   \n\n         total_call_dur_out  total_call_dur_in  total_cnt_sms_out  \\\nabon_id                                                             \n1000003                   0                  0                  0   \n1000007                   0                  0                  0   \n1000023                   0                  0                  0   \n1000026                   0                  0                  0   \n1000027                   0                  0                  0   \n1000032                   0                  0                 25   \n1000035                   0                  0                  0   \n1000036                   0                  0                  0   \n1000037                  62                  0                  0   \n1000040                   0                  0                  0   \n1000057                   0                  0                  0   \n1000060                   0                  0                  0   \n1000065                  55                  0                  0   \n1000070                  26                  0                  0   \n1000071                   0                  0                  0   \n1000082                  52                  0                  0   \n1000085                   0                  0                  0   \n1000087                   0                  0                  0   \n1000098                 147                  0                  0   \n1000099                   0                  0                  2   \n1000100                   0                  0                  0   \n1000102                   0                  0                  0   \n1000106                 311                  0                  0   \n1000107                   0                  0                  3   \n1000109                   0                  0                  0   \n1000110                   0                  0                  0   \n1000114                1132                  0                  0   \n1000115                   0                  0                  0   \n1000116                   0                  0                  0   \n1000117                   0                  0                  0   \n1000136                   0                  0                  0   \n1000139                   0                  0                  0   \n1000141                  12                  0                  2   \n1000145                   0                  0                  0   \n1000146                   0                  0                  0   \n\n         total_cnt_sms_in  marginal_cat_present  marginal_unique_services  \\\nabon_id                                                                     \n1000003                 5                     0                         0   \n1000007                 1                     0                         0   \n1000023                13                     0                         0   \n1000026                 3                     0                         0   \n1000027                 4                     0                         0   \n1000032                19                     0                         0   \n1000035                 8                     0                         0   \n1000036                 6                     0                         0   \n1000037                 2                     0                         0   \n1000040                 4                     0                         0   \n1000057                17                     0                         0   \n1000060                 6                     0                         0   \n1000065                 0                     0                         0   \n1000070                16                     1                         1   \n1000071                 1                     0                         0   \n1000082                 4                     0                         0   \n1000085                21                     0                         0   \n1000087                 2                     0                         0   \n1000098                 9                     0                         0   \n1000099                34                     0                         0   \n1000100                 2                     0                         0   \n1000102                47                     0                         0   \n1000106                15                     0                         0   \n1000107                28                     0                         0   \n1000109                39                     0                         0   \n1000110                32                     0                         0   \n1000114                 5                     0                         0   \n1000115                 6                     0                         0   \n1000116                 8                     0                         0   \n1000117                 8                     0                         0   \n1000136                 2                     0                         0   \n1000139                14                     0                         0   \n1000141                25                     0                         0   \n1000145                 9                     0                         0   \n1000146                12                     0                         0   \n\n         marginal_cnt_sms_in  ...  pets_cnt_sms_in  work_board_cat_present  \\\nabon_id                       ...                                            \n1000003                    0  ...                0                       0   \n1000007                    0  ...                0                       0   \n1000023                    0  ...                0                       0   \n1000026                    0  ...                0                       0   \n1000027                    0  ...                0                       0   \n1000032                    0  ...                0                       0   \n1000035                    0  ...                0                       0   \n1000036                    0  ...                0                       0   \n1000037                    0  ...                0                       0   \n1000040                    0  ...                0                       0   \n1000057                    0  ...                0                       0   \n1000060                    0  ...                0                       0   \n1000065                    0  ...                0                       0   \n1000070                    2  ...                0                       0   \n1000071                    0  ...                0                       0   \n1000082                    0  ...                0                       0   \n1000085                    0  ...                0                       0   \n1000087                    0  ...                0                       0   \n1000098                    0  ...                0                       0   \n1000099                    0  ...                0                       0   \n1000100                    0  ...                0                       0   \n1000102                    0  ...                0                       0   \n1000106                    0  ...                0                       0   \n1000107                    0  ...                0                       0   \n1000109                    0  ...                0                       0   \n1000110                    0  ...                0                       0   \n1000114                    0  ...                0                       0   \n1000115                    0  ...                0                       0   \n1000116                    0  ...                0                       0   \n1000117                    0  ...                0                       0   \n1000136                    0  ...                0                       0   \n1000139                    0  ...                0                       0   \n1000141                    0  ...                0                       0   \n1000145                    0  ...                0                       0   \n1000146                    0  ...                0                       0   \n\n         work_board_unique_services  work_board_cnt_sms_in  baby_cat_present  \\\nabon_id                                                                        \n1000003                           0                      0                 0   \n1000007                           0                      0                 0   \n1000023                           0                      0                 0   \n1000026                           0                      0                 0   \n1000027                           0                      0                 0   \n1000032                           0                      0                 0   \n1000035                           0                      0                 0   \n1000036                           0                      0                 0   \n1000037                           0                      0                 0   \n1000040                           0                      0                 0   \n1000057                           0                      0                 0   \n1000060                           0                      0                 0   \n1000065                           0                      0                 0   \n1000070                           0                      0                 0   \n1000071                           0                      0                 0   \n1000082                           0                      0                 0   \n1000085                           0                      0                 0   \n1000087                           0                      0                 0   \n1000098                           0                      0                 0   \n1000099                           0                      0                 0   \n1000100                           0                      0                 0   \n1000102                           0                      0                 0   \n1000106                           0                      0                 0   \n1000107                           0                      0                 0   \n1000109                           0                      0                 0   \n1000110                           0                      0                 0   \n1000114                           0                      0                 0   \n1000115                           0                      0                 0   \n1000116                           0                      0                 0   \n1000117                           0                      0                 0   \n1000136                           0                      0                 0   \n1000139                           0                      0                 0   \n1000141                           0                      0                 0   \n1000145                           0                      0                 0   \n1000146                           0                      0                 0   \n\n         baby_unique_services  baby_cnt_sms_in  pay_sys_cat_present  \\\nabon_id                                                               \n1000003                     0                0                    0   \n1000007                     0                0                    0   \n1000023                     0                0                    0   \n1000026                     0                0                    0   \n1000027                     0                0                    0   \n1000032                     0                0                    0   \n1000035                     0                0                    0   \n1000036                     0                0                    0   \n1000037                     0                0                    0   \n1000040                     0                0                    0   \n1000057                     0                0                    0   \n1000060                     0                0                    0   \n1000065                     0                0                    0   \n1000070                     0                0                    0   \n1000071                     0                0                    0   \n1000082                     0                0                    0   \n1000085                     0                0                    0   \n1000087                     0                0                    0   \n1000098                     0                0                    0   \n1000099                     0                0                    0   \n1000100                     0                0                    0   \n1000102                     0                0                    0   \n1000106                     0                0                    0   \n1000107                     0                0                    0   \n1000109                     0                0                    0   \n1000110                     0                0                    0   \n1000114                     0                0                    0   \n1000115                     0                0                    0   \n1000116                     0                0                    0   \n1000117                     0                0                    0   \n1000136                     0                0                    0   \n1000139                     0                0                    0   \n1000141                     0                0                    0   \n1000145                     0                0                    0   \n1000146                     0                0                    0   \n\n         pay_sys_unique_services  pay_sys_cnt_sms_in  \nabon_id                                               \n1000003                        0                   0  \n1000007                        0                   0  \n1000023                        0                   0  \n1000026                        0                   0  \n1000027                        0                   0  \n1000032                        0                   0  \n1000035                        0                   0  \n1000036                        0                   0  \n1000037                        0                   0  \n1000040                        0                   0  \n1000057                        0                   0  \n1000060                        0                   0  \n1000065                        0                   0  \n1000070                        0                   0  \n1000071                        0                   0  \n1000082                        0                   0  \n1000085                        0                   0  \n1000087                        0                   0  \n1000098                        0                   0  \n1000099                        0                   0  \n1000100                        0                   0  \n1000102                        0                   0  \n1000106                        0                   0  \n1000107                        0                   0  \n1000109                        0                   0  \n1000110                        0                   0  \n1000114                        0                   0  \n1000115                        0                   0  \n1000116                        0                   0  \n1000117                        0                   0  \n1000136                        0                   0  \n1000139                        0                   0  \n1000141                        0                   0  \n1000145                        0                   0  \n1000146                        0                   0  \n\n[35 rows x 61 columns]",
      "text/html": "<div>\n<style scoped>\n    .dataframe tbody tr th:only-of-type {\n        vertical-align: middle;\n    }\n\n    .dataframe tbody tr th {\n        vertical-align: top;\n    }\n\n    .dataframe thead th {\n        text-align: right;\n    }\n</style>\n<table border=\"1\" class=\"dataframe\">\n  <thead>\n    <tr style=\"text-align: right;\">\n      <th></th>\n      <th>unique_bnum</th>\n      <th>total_call_cnt_out</th>\n      <th>total_call_cnt_in</th>\n      <th>total_call_dur_out</th>\n      <th>total_call_dur_in</th>\n      <th>total_cnt_sms_out</th>\n      <th>total_cnt_sms_in</th>\n      <th>marginal_cat_present</th>\n      <th>marginal_unique_services</th>\n      <th>marginal_cnt_sms_in</th>\n      <th>...</th>\n      <th>pets_cnt_sms_in</th>\n      <th>work_board_cat_present</th>\n      <th>work_board_unique_services</th>\n      <th>work_board_cnt_sms_in</th>\n      <th>baby_cat_present</th>\n      <th>baby_unique_services</th>\n      <th>baby_cnt_sms_in</th>\n      <th>pay_sys_cat_present</th>\n      <th>pay_sys_unique_services</th>\n      <th>pay_sys_cnt_sms_in</th>\n    </tr>\n    <tr>\n      <th>abon_id</th>\n      <th></th>\n      <th></th>\n      <th></th>\n      <th></th>\n      <th></th>\n      <th></th>\n      <th></th>\n      <th></th>\n      <th></th>\n      <th></th>\n      <th></th>\n      <th></th>\n      <th></th>\n      <th></th>\n      <th></th>\n      <th></th>\n      <th></th>\n      <th></th>\n      <th></th>\n      <th></th>\n      <th></th>\n    </tr>\n  </thead>\n  <tbody>\n    <tr>\n      <th>1000003</th>\n      <td>2</td>\n      <td>0</td>\n      <td>0</td>\n      <td>0</td>\n      <td>0</td>\n      <td>0</td>\n      <td>5</td>\n      <td>0</td>\n      <td>0</td>\n      <td>0</td>\n      <td>...</td>\n      <td>0</td>\n      <td>0</td>\n      <td>0</td>\n      <td>0</td>\n      <td>0</td>\n      <td>0</td>\n      <td>0</td>\n      <td>0</td>\n      <td>0</td>\n      <td>0</td>\n    </tr>\n    <tr>\n      <th>1000007</th>\n      <td>1</td>\n      <td>0</td>\n      <td>0</td>\n      <td>0</td>\n      <td>0</td>\n      <td>0</td>\n      <td>1</td>\n      <td>0</td>\n      <td>0</td>\n      <td>0</td>\n      <td>...</td>\n      <td>0</td>\n      <td>0</td>\n      <td>0</td>\n      <td>0</td>\n      <td>0</td>\n      <td>0</td>\n      <td>0</td>\n      <td>0</td>\n      <td>0</td>\n      <td>0</td>\n    </tr>\n    <tr>\n      <th>1000023</th>\n      <td>2</td>\n      <td>0</td>\n      <td>0</td>\n      <td>0</td>\n      <td>0</td>\n      <td>0</td>\n      <td>13</td>\n      <td>0</td>\n      <td>0</td>\n      <td>0</td>\n      <td>...</td>\n      <td>0</td>\n      <td>0</td>\n      <td>0</td>\n      <td>0</td>\n      <td>0</td>\n      <td>0</td>\n      <td>0</td>\n      <td>0</td>\n      <td>0</td>\n      <td>0</td>\n    </tr>\n    <tr>\n      <th>1000026</th>\n      <td>2</td>\n      <td>0</td>\n      <td>0</td>\n      <td>0</td>\n      <td>0</td>\n      <td>0</td>\n      <td>3</td>\n      <td>0</td>\n      <td>0</td>\n      <td>0</td>\n      <td>...</td>\n      <td>0</td>\n      <td>0</td>\n      <td>0</td>\n      <td>0</td>\n      <td>0</td>\n      <td>0</td>\n      <td>0</td>\n      <td>0</td>\n      <td>0</td>\n      <td>0</td>\n    </tr>\n    <tr>\n      <th>1000027</th>\n      <td>2</td>\n      <td>0</td>\n      <td>0</td>\n      <td>0</td>\n      <td>0</td>\n      <td>0</td>\n      <td>4</td>\n      <td>0</td>\n      <td>0</td>\n      <td>0</td>\n      <td>...</td>\n      <td>0</td>\n      <td>0</td>\n      <td>0</td>\n      <td>0</td>\n      <td>0</td>\n      <td>0</td>\n      <td>0</td>\n      <td>0</td>\n      <td>0</td>\n      <td>0</td>\n    </tr>\n    <tr>\n      <th>1000032</th>\n      <td>6</td>\n      <td>0</td>\n      <td>0</td>\n      <td>0</td>\n      <td>0</td>\n      <td>25</td>\n      <td>19</td>\n      <td>0</td>\n      <td>0</td>\n      <td>0</td>\n      <td>...</td>\n      <td>0</td>\n      <td>0</td>\n      <td>0</td>\n      <td>0</td>\n      <td>0</td>\n      <td>0</td>\n      <td>0</td>\n      <td>0</td>\n      <td>0</td>\n      <td>0</td>\n    </tr>\n    <tr>\n      <th>1000035</th>\n      <td>3</td>\n      <td>0</td>\n      <td>0</td>\n      <td>0</td>\n      <td>0</td>\n      <td>0</td>\n      <td>8</td>\n      <td>0</td>\n      <td>0</td>\n      <td>0</td>\n      <td>...</td>\n      <td>0</td>\n      <td>0</td>\n      <td>0</td>\n      <td>0</td>\n      <td>0</td>\n      <td>0</td>\n      <td>0</td>\n      <td>0</td>\n      <td>0</td>\n      <td>0</td>\n    </tr>\n    <tr>\n      <th>1000036</th>\n      <td>1</td>\n      <td>0</td>\n      <td>0</td>\n      <td>0</td>\n      <td>0</td>\n      <td>0</td>\n      <td>6</td>\n      <td>0</td>\n      <td>0</td>\n      <td>0</td>\n      <td>...</td>\n      <td>0</td>\n      <td>0</td>\n      <td>0</td>\n      <td>0</td>\n      <td>0</td>\n      <td>0</td>\n      <td>0</td>\n      <td>0</td>\n      <td>0</td>\n      <td>0</td>\n    </tr>\n    <tr>\n      <th>1000037</th>\n      <td>2</td>\n      <td>9</td>\n      <td>0</td>\n      <td>62</td>\n      <td>0</td>\n      <td>0</td>\n      <td>2</td>\n      <td>0</td>\n      <td>0</td>\n      <td>0</td>\n      <td>...</td>\n      <td>0</td>\n      <td>0</td>\n      <td>0</td>\n      <td>0</td>\n      <td>0</td>\n      <td>0</td>\n      <td>0</td>\n      <td>0</td>\n      <td>0</td>\n      <td>0</td>\n    </tr>\n    <tr>\n      <th>1000040</th>\n      <td>2</td>\n      <td>0</td>\n      <td>0</td>\n      <td>0</td>\n      <td>0</td>\n      <td>0</td>\n      <td>4</td>\n      <td>0</td>\n      <td>0</td>\n      <td>0</td>\n      <td>...</td>\n      <td>0</td>\n      <td>0</td>\n      <td>0</td>\n      <td>0</td>\n      <td>0</td>\n      <td>0</td>\n      <td>0</td>\n      <td>0</td>\n      <td>0</td>\n      <td>0</td>\n    </tr>\n    <tr>\n      <th>1000057</th>\n      <td>1</td>\n      <td>0</td>\n      <td>0</td>\n      <td>0</td>\n      <td>0</td>\n      <td>0</td>\n      <td>17</td>\n      <td>0</td>\n      <td>0</td>\n      <td>0</td>\n      <td>...</td>\n      <td>0</td>\n      <td>0</td>\n      <td>0</td>\n      <td>0</td>\n      <td>0</td>\n      <td>0</td>\n      <td>0</td>\n      <td>0</td>\n      <td>0</td>\n      <td>0</td>\n    </tr>\n    <tr>\n      <th>1000060</th>\n      <td>2</td>\n      <td>0</td>\n      <td>0</td>\n      <td>0</td>\n      <td>0</td>\n      <td>0</td>\n      <td>6</td>\n      <td>0</td>\n      <td>0</td>\n      <td>0</td>\n      <td>...</td>\n      <td>0</td>\n      <td>0</td>\n      <td>0</td>\n      <td>0</td>\n      <td>0</td>\n      <td>0</td>\n      <td>0</td>\n      <td>0</td>\n      <td>0</td>\n      <td>0</td>\n    </tr>\n    <tr>\n      <th>1000065</th>\n      <td>1</td>\n      <td>6</td>\n      <td>0</td>\n      <td>55</td>\n      <td>0</td>\n      <td>0</td>\n      <td>0</td>\n      <td>0</td>\n      <td>0</td>\n      <td>0</td>\n      <td>...</td>\n      <td>0</td>\n      <td>0</td>\n      <td>0</td>\n      <td>0</td>\n      <td>0</td>\n      <td>0</td>\n      <td>0</td>\n      <td>0</td>\n      <td>0</td>\n      <td>0</td>\n    </tr>\n    <tr>\n      <th>1000070</th>\n      <td>4</td>\n      <td>3</td>\n      <td>0</td>\n      <td>26</td>\n      <td>0</td>\n      <td>0</td>\n      <td>16</td>\n      <td>1</td>\n      <td>1</td>\n      <td>2</td>\n      <td>...</td>\n      <td>0</td>\n      <td>0</td>\n      <td>0</td>\n      <td>0</td>\n      <td>0</td>\n      <td>0</td>\n      <td>0</td>\n      <td>0</td>\n      <td>0</td>\n      <td>0</td>\n    </tr>\n    <tr>\n      <th>1000071</th>\n      <td>1</td>\n      <td>0</td>\n      <td>0</td>\n      <td>0</td>\n      <td>0</td>\n      <td>0</td>\n      <td>1</td>\n      <td>0</td>\n      <td>0</td>\n      <td>0</td>\n      <td>...</td>\n      <td>0</td>\n      <td>0</td>\n      <td>0</td>\n      <td>0</td>\n      <td>0</td>\n      <td>0</td>\n      <td>0</td>\n      <td>0</td>\n      <td>0</td>\n      <td>0</td>\n    </tr>\n    <tr>\n      <th>1000082</th>\n      <td>4</td>\n      <td>1</td>\n      <td>0</td>\n      <td>52</td>\n      <td>0</td>\n      <td>0</td>\n      <td>4</td>\n      <td>0</td>\n      <td>0</td>\n      <td>0</td>\n      <td>...</td>\n      <td>0</td>\n      <td>0</td>\n      <td>0</td>\n      <td>0</td>\n      <td>0</td>\n      <td>0</td>\n      <td>0</td>\n      <td>0</td>\n      <td>0</td>\n      <td>0</td>\n    </tr>\n    <tr>\n      <th>1000085</th>\n      <td>1</td>\n      <td>0</td>\n      <td>0</td>\n      <td>0</td>\n      <td>0</td>\n      <td>0</td>\n      <td>21</td>\n      <td>0</td>\n      <td>0</td>\n      <td>0</td>\n      <td>...</td>\n      <td>0</td>\n      <td>0</td>\n      <td>0</td>\n      <td>0</td>\n      <td>0</td>\n      <td>0</td>\n      <td>0</td>\n      <td>0</td>\n      <td>0</td>\n      <td>0</td>\n    </tr>\n    <tr>\n      <th>1000087</th>\n      <td>2</td>\n      <td>0</td>\n      <td>0</td>\n      <td>0</td>\n      <td>0</td>\n      <td>0</td>\n      <td>2</td>\n      <td>0</td>\n      <td>0</td>\n      <td>0</td>\n      <td>...</td>\n      <td>0</td>\n      <td>0</td>\n      <td>0</td>\n      <td>0</td>\n      <td>0</td>\n      <td>0</td>\n      <td>0</td>\n      <td>0</td>\n      <td>0</td>\n      <td>0</td>\n    </tr>\n    <tr>\n      <th>1000098</th>\n      <td>9</td>\n      <td>5</td>\n      <td>0</td>\n      <td>147</td>\n      <td>0</td>\n      <td>0</td>\n      <td>9</td>\n      <td>0</td>\n      <td>0</td>\n      <td>0</td>\n      <td>...</td>\n      <td>0</td>\n      <td>0</td>\n      <td>0</td>\n      <td>0</td>\n      <td>0</td>\n      <td>0</td>\n      <td>0</td>\n      <td>0</td>\n      <td>0</td>\n      <td>0</td>\n    </tr>\n    <tr>\n      <th>1000099</th>\n      <td>7</td>\n      <td>0</td>\n      <td>0</td>\n      <td>0</td>\n      <td>0</td>\n      <td>2</td>\n      <td>34</td>\n      <td>0</td>\n      <td>0</td>\n      <td>0</td>\n      <td>...</td>\n      <td>0</td>\n      <td>0</td>\n      <td>0</td>\n      <td>0</td>\n      <td>0</td>\n      <td>0</td>\n      <td>0</td>\n      <td>0</td>\n      <td>0</td>\n      <td>0</td>\n    </tr>\n    <tr>\n      <th>1000100</th>\n      <td>2</td>\n      <td>0</td>\n      <td>0</td>\n      <td>0</td>\n      <td>0</td>\n      <td>0</td>\n      <td>2</td>\n      <td>0</td>\n      <td>0</td>\n      <td>0</td>\n      <td>...</td>\n      <td>0</td>\n      <td>0</td>\n      <td>0</td>\n      <td>0</td>\n      <td>0</td>\n      <td>0</td>\n      <td>0</td>\n      <td>0</td>\n      <td>0</td>\n      <td>0</td>\n    </tr>\n    <tr>\n      <th>1000102</th>\n      <td>10</td>\n      <td>0</td>\n      <td>0</td>\n      <td>0</td>\n      <td>0</td>\n      <td>0</td>\n      <td>47</td>\n      <td>0</td>\n      <td>0</td>\n      <td>0</td>\n      <td>...</td>\n      <td>0</td>\n      <td>0</td>\n      <td>0</td>\n      <td>0</td>\n      <td>0</td>\n      <td>0</td>\n      <td>0</td>\n      <td>0</td>\n      <td>0</td>\n      <td>0</td>\n    </tr>\n    <tr>\n      <th>1000106</th>\n      <td>4</td>\n      <td>1</td>\n      <td>0</td>\n      <td>311</td>\n      <td>0</td>\n      <td>0</td>\n      <td>15</td>\n      <td>0</td>\n      <td>0</td>\n      <td>0</td>\n      <td>...</td>\n      <td>0</td>\n      <td>0</td>\n      <td>0</td>\n      <td>0</td>\n      <td>0</td>\n      <td>0</td>\n      <td>0</td>\n      <td>0</td>\n      <td>0</td>\n      <td>0</td>\n    </tr>\n    <tr>\n      <th>1000107</th>\n      <td>3</td>\n      <td>0</td>\n      <td>0</td>\n      <td>0</td>\n      <td>0</td>\n      <td>3</td>\n      <td>28</td>\n      <td>0</td>\n      <td>0</td>\n      <td>0</td>\n      <td>...</td>\n      <td>0</td>\n      <td>0</td>\n      <td>0</td>\n      <td>0</td>\n      <td>0</td>\n      <td>0</td>\n      <td>0</td>\n      <td>0</td>\n      <td>0</td>\n      <td>0</td>\n    </tr>\n    <tr>\n      <th>1000109</th>\n      <td>16</td>\n      <td>0</td>\n      <td>0</td>\n      <td>0</td>\n      <td>0</td>\n      <td>0</td>\n      <td>39</td>\n      <td>0</td>\n      <td>0</td>\n      <td>0</td>\n      <td>...</td>\n      <td>0</td>\n      <td>0</td>\n      <td>0</td>\n      <td>0</td>\n      <td>0</td>\n      <td>0</td>\n      <td>0</td>\n      <td>0</td>\n      <td>0</td>\n      <td>0</td>\n    </tr>\n    <tr>\n      <th>1000110</th>\n      <td>7</td>\n      <td>0</td>\n      <td>0</td>\n      <td>0</td>\n      <td>0</td>\n      <td>0</td>\n      <td>32</td>\n      <td>0</td>\n      <td>0</td>\n      <td>0</td>\n      <td>...</td>\n      <td>0</td>\n      <td>0</td>\n      <td>0</td>\n      <td>0</td>\n      <td>0</td>\n      <td>0</td>\n      <td>0</td>\n      <td>0</td>\n      <td>0</td>\n      <td>0</td>\n    </tr>\n    <tr>\n      <th>1000114</th>\n      <td>2</td>\n      <td>3</td>\n      <td>0</td>\n      <td>1132</td>\n      <td>0</td>\n      <td>0</td>\n      <td>5</td>\n      <td>0</td>\n      <td>0</td>\n      <td>0</td>\n      <td>...</td>\n      <td>0</td>\n      <td>0</td>\n      <td>0</td>\n      <td>0</td>\n      <td>0</td>\n      <td>0</td>\n      <td>0</td>\n      <td>0</td>\n      <td>0</td>\n      <td>0</td>\n    </tr>\n    <tr>\n      <th>1000115</th>\n      <td>1</td>\n      <td>0</td>\n      <td>0</td>\n      <td>0</td>\n      <td>0</td>\n      <td>0</td>\n      <td>6</td>\n      <td>0</td>\n      <td>0</td>\n      <td>0</td>\n      <td>...</td>\n      <td>0</td>\n      <td>0</td>\n      <td>0</td>\n      <td>0</td>\n      <td>0</td>\n      <td>0</td>\n      <td>0</td>\n      <td>0</td>\n      <td>0</td>\n      <td>0</td>\n    </tr>\n    <tr>\n      <th>1000116</th>\n      <td>4</td>\n      <td>0</td>\n      <td>0</td>\n      <td>0</td>\n      <td>0</td>\n      <td>0</td>\n      <td>8</td>\n      <td>0</td>\n      <td>0</td>\n      <td>0</td>\n      <td>...</td>\n      <td>0</td>\n      <td>0</td>\n      <td>0</td>\n      <td>0</td>\n      <td>0</td>\n      <td>0</td>\n      <td>0</td>\n      <td>0</td>\n      <td>0</td>\n      <td>0</td>\n    </tr>\n    <tr>\n      <th>1000117</th>\n      <td>3</td>\n      <td>0</td>\n      <td>0</td>\n      <td>0</td>\n      <td>0</td>\n      <td>0</td>\n      <td>8</td>\n      <td>0</td>\n      <td>0</td>\n      <td>0</td>\n      <td>...</td>\n      <td>0</td>\n      <td>0</td>\n      <td>0</td>\n      <td>0</td>\n      <td>0</td>\n      <td>0</td>\n      <td>0</td>\n      <td>0</td>\n      <td>0</td>\n      <td>0</td>\n    </tr>\n    <tr>\n      <th>1000136</th>\n      <td>1</td>\n      <td>0</td>\n      <td>0</td>\n      <td>0</td>\n      <td>0</td>\n      <td>0</td>\n      <td>2</td>\n      <td>0</td>\n      <td>0</td>\n      <td>0</td>\n      <td>...</td>\n      <td>0</td>\n      <td>0</td>\n      <td>0</td>\n      <td>0</td>\n      <td>0</td>\n      <td>0</td>\n      <td>0</td>\n      <td>0</td>\n      <td>0</td>\n      <td>0</td>\n    </tr>\n    <tr>\n      <th>1000139</th>\n      <td>3</td>\n      <td>0</td>\n      <td>0</td>\n      <td>0</td>\n      <td>0</td>\n      <td>0</td>\n      <td>14</td>\n      <td>0</td>\n      <td>0</td>\n      <td>0</td>\n      <td>...</td>\n      <td>0</td>\n      <td>0</td>\n      <td>0</td>\n      <td>0</td>\n      <td>0</td>\n      <td>0</td>\n      <td>0</td>\n      <td>0</td>\n      <td>0</td>\n      <td>0</td>\n    </tr>\n    <tr>\n      <th>1000141</th>\n      <td>5</td>\n      <td>2</td>\n      <td>0</td>\n      <td>12</td>\n      <td>0</td>\n      <td>2</td>\n      <td>25</td>\n      <td>0</td>\n      <td>0</td>\n      <td>0</td>\n      <td>...</td>\n      <td>0</td>\n      <td>0</td>\n      <td>0</td>\n      <td>0</td>\n      <td>0</td>\n      <td>0</td>\n      <td>0</td>\n      <td>0</td>\n      <td>0</td>\n      <td>0</td>\n    </tr>\n    <tr>\n      <th>1000145</th>\n      <td>4</td>\n      <td>0</td>\n      <td>0</td>\n      <td>0</td>\n      <td>0</td>\n      <td>0</td>\n      <td>9</td>\n      <td>0</td>\n      <td>0</td>\n      <td>0</td>\n      <td>...</td>\n      <td>0</td>\n      <td>0</td>\n      <td>0</td>\n      <td>0</td>\n      <td>0</td>\n      <td>0</td>\n      <td>0</td>\n      <td>0</td>\n      <td>0</td>\n      <td>0</td>\n    </tr>\n    <tr>\n      <th>1000146</th>\n      <td>4</td>\n      <td>0</td>\n      <td>0</td>\n      <td>0</td>\n      <td>0</td>\n      <td>0</td>\n      <td>12</td>\n      <td>0</td>\n      <td>0</td>\n      <td>0</td>\n      <td>...</td>\n      <td>0</td>\n      <td>0</td>\n      <td>0</td>\n      <td>0</td>\n      <td>0</td>\n      <td>0</td>\n      <td>0</td>\n      <td>0</td>\n      <td>0</td>\n      <td>0</td>\n    </tr>\n  </tbody>\n</table>\n<p>35 rows × 61 columns</p>\n</div>"
     },
     "execution_count": 72,
     "metadata": {},
     "output_type": "execute_result"
    }
   ],
   "source": [
    "df_converted_test_services.drop(columns=zero_cols_serv, inplace=True)\n",
    "df_converted_test_services.fillna(0, inplace=True)\n",
    "df_converted_test_services.head(35)"
   ],
   "metadata": {
    "collapsed": false,
    "pycharm": {
     "name": "#%%\n"
    }
   }
  },
  {
   "cell_type": "code",
   "execution_count": 73,
   "outputs": [],
   "source": [
    "df_converted_test_services.to_pickle('df_test_service_new_features.pickle')"
   ],
   "metadata": {
    "collapsed": false,
    "pycharm": {
     "name": "#%%\n"
    }
   }
  },
  {
   "cell_type": "markdown",
   "source": [
    "# Огляд та опрацювання датафрейму з відомостіями про використані додатки (apps)"
   ],
   "metadata": {
    "collapsed": false,
    "pycharm": {
     "name": "#%% md\n"
    }
   }
  },
  {
   "cell_type": "markdown",
   "source": [
    "### Огляд"
   ],
   "metadata": {
    "collapsed": false,
    "pycharm": {
     "name": "#%% md\n"
    }
   }
  },
  {
   "cell_type": "code",
   "execution_count": 11,
   "outputs": [
    {
     "data": {
      "text/plain": "     abon_id  Application  SUM_of_Duration_sec  SUM_of_Volume_kb  \\\n0  1000009.0         17.0                  2.0              2.41   \n1  1000009.0        232.0               1749.0           2190.77   \n2  1000009.0        246.0               2997.0           1397.89   \n3  1000009.0        249.0                694.0             52.67   \n4  1000009.0        250.0              12268.0          11305.78   \n5  1000009.0        373.0               4567.0         343726.29   \n6  1000009.0        538.0               1392.0            538.50   \n7  1000009.0        580.0                 28.0              5.72   \n8  1000009.0        590.0                113.0            405.25   \n9  1000009.0        596.0                  0.0              0.60   \n\n   SUM_of_Count_events  MAX_of_day_cnt  \n0                  8.0             3.0  \n1                146.0             5.0  \n2                102.0             4.0  \n3                 30.0             4.0  \n4                552.0             4.0  \n5               1665.0             5.0  \n6                125.0             5.0  \n7                  6.0             1.0  \n8               1898.0             8.0  \n9                  4.0             1.0  ",
      "text/html": "<div>\n<style scoped>\n    .dataframe tbody tr th:only-of-type {\n        vertical-align: middle;\n    }\n\n    .dataframe tbody tr th {\n        vertical-align: top;\n    }\n\n    .dataframe thead th {\n        text-align: right;\n    }\n</style>\n<table border=\"1\" class=\"dataframe\">\n  <thead>\n    <tr style=\"text-align: right;\">\n      <th></th>\n      <th>abon_id</th>\n      <th>Application</th>\n      <th>SUM_of_Duration_sec</th>\n      <th>SUM_of_Volume_kb</th>\n      <th>SUM_of_Count_events</th>\n      <th>MAX_of_day_cnt</th>\n    </tr>\n  </thead>\n  <tbody>\n    <tr>\n      <th>0</th>\n      <td>1000009.0</td>\n      <td>17.0</td>\n      <td>2.0</td>\n      <td>2.41</td>\n      <td>8.0</td>\n      <td>3.0</td>\n    </tr>\n    <tr>\n      <th>1</th>\n      <td>1000009.0</td>\n      <td>232.0</td>\n      <td>1749.0</td>\n      <td>2190.77</td>\n      <td>146.0</td>\n      <td>5.0</td>\n    </tr>\n    <tr>\n      <th>2</th>\n      <td>1000009.0</td>\n      <td>246.0</td>\n      <td>2997.0</td>\n      <td>1397.89</td>\n      <td>102.0</td>\n      <td>4.0</td>\n    </tr>\n    <tr>\n      <th>3</th>\n      <td>1000009.0</td>\n      <td>249.0</td>\n      <td>694.0</td>\n      <td>52.67</td>\n      <td>30.0</td>\n      <td>4.0</td>\n    </tr>\n    <tr>\n      <th>4</th>\n      <td>1000009.0</td>\n      <td>250.0</td>\n      <td>12268.0</td>\n      <td>11305.78</td>\n      <td>552.0</td>\n      <td>4.0</td>\n    </tr>\n    <tr>\n      <th>5</th>\n      <td>1000009.0</td>\n      <td>373.0</td>\n      <td>4567.0</td>\n      <td>343726.29</td>\n      <td>1665.0</td>\n      <td>5.0</td>\n    </tr>\n    <tr>\n      <th>6</th>\n      <td>1000009.0</td>\n      <td>538.0</td>\n      <td>1392.0</td>\n      <td>538.50</td>\n      <td>125.0</td>\n      <td>5.0</td>\n    </tr>\n    <tr>\n      <th>7</th>\n      <td>1000009.0</td>\n      <td>580.0</td>\n      <td>28.0</td>\n      <td>5.72</td>\n      <td>6.0</td>\n      <td>1.0</td>\n    </tr>\n    <tr>\n      <th>8</th>\n      <td>1000009.0</td>\n      <td>590.0</td>\n      <td>113.0</td>\n      <td>405.25</td>\n      <td>1898.0</td>\n      <td>8.0</td>\n    </tr>\n    <tr>\n      <th>9</th>\n      <td>1000009.0</td>\n      <td>596.0</td>\n      <td>0.0</td>\n      <td>0.60</td>\n      <td>4.0</td>\n      <td>1.0</td>\n    </tr>\n  </tbody>\n</table>\n</div>"
     },
     "execution_count": 11,
     "metadata": {},
     "output_type": "execute_result"
    }
   ],
   "source": [
    "train_apps.head(10)"
   ],
   "metadata": {
    "collapsed": false,
    "pycharm": {
     "name": "#%%\n"
    }
   }
  },
  {
   "cell_type": "code",
   "execution_count": 12,
   "outputs": [
    {
     "data": {
      "text/plain": "(6647895, 6)"
     },
     "execution_count": 12,
     "metadata": {},
     "output_type": "execute_result"
    }
   ],
   "source": [
    "train_apps.shape"
   ],
   "metadata": {
    "collapsed": false,
    "pycharm": {
     "name": "#%%\n"
    }
   }
  },
  {
   "cell_type": "code",
   "execution_count": 13,
   "outputs": [
    {
     "data": {
      "text/plain": "140830"
     },
     "execution_count": 13,
     "metadata": {},
     "output_type": "execute_result"
    }
   ],
   "source": [
    "train_apps['abon_id'].nunique()"
   ],
   "metadata": {
    "collapsed": false,
    "pycharm": {
     "name": "#%%\n"
    }
   }
  },
  {
   "cell_type": "code",
   "execution_count": 14,
   "outputs": [
    {
     "data": {
      "text/plain": "719"
     },
     "execution_count": 14,
     "metadata": {},
     "output_type": "execute_result"
    }
   ],
   "source": [
    "train_apps['Application'].nunique()"
   ],
   "metadata": {
    "collapsed": false,
    "pycharm": {
     "name": "#%%\n"
    }
   }
  },
  {
   "cell_type": "code",
   "execution_count": 40,
   "outputs": [
    {
     "data": {
      "text/plain": "abon_id                float64\nApplication            float64\nSUM_of_Duration_sec    float64\nSUM_of_Volume_kb       float64\nSUM_of_Count_events    float64\nMAX_of_day_cnt         float64\ndtype: object"
     },
     "execution_count": 40,
     "metadata": {},
     "output_type": "execute_result"
    }
   ],
   "source": [
    "train_apps.dtypes"
   ],
   "metadata": {
    "collapsed": false,
    "pycharm": {
     "name": "#%%\n"
    }
   }
  },
  {
   "cell_type": "code",
   "execution_count": 41,
   "outputs": [
    {
     "data": {
      "text/plain": "abon_id                int32\nApplication            int16\nSUM_of_Duration_sec    int32\nSUM_of_Volume_kb       int32\nSUM_of_Count_events    int32\nMAX_of_day_cnt          int8\ndtype: object"
     },
     "execution_count": 41,
     "metadata": {},
     "output_type": "execute_result"
    }
   ],
   "source": [
    "for col in train_apps.columns:\n",
    "    train_apps[col] = pd.to_numeric(round(train_apps[col]), downcast='integer')\n",
    "train_apps.dtypes"
   ],
   "metadata": {
    "collapsed": false,
    "pycharm": {
     "name": "#%%\n"
    }
   }
  },
  {
   "cell_type": "code",
   "execution_count": 42,
   "outputs": [
    {
     "data": {
      "text/plain": "140830"
     },
     "execution_count": 42,
     "metadata": {},
     "output_type": "execute_result"
    }
   ],
   "source": [
    "abons = train_apps['abon_id'].unique().tolist()\n",
    "len(abons)"
   ],
   "metadata": {
    "collapsed": false,
    "pycharm": {
     "name": "#%%\n"
    }
   }
  },
  {
   "cell_type": "code",
   "execution_count": 43,
   "outputs": [
    {
     "data": {
      "text/plain": "719"
     },
     "execution_count": 43,
     "metadata": {},
     "output_type": "execute_result"
    }
   ],
   "source": [
    "apps = train_apps['Application'].unique().tolist()\n",
    "len(apps)"
   ],
   "metadata": {
    "collapsed": false,
    "pycharm": {
     "name": "#%%\n"
    }
   }
  },
  {
   "cell_type": "markdown",
   "source": [
    "### Клас опрацювання Application"
   ],
   "metadata": {
    "collapsed": false,
    "pycharm": {
     "name": "#%% md\n"
    }
   }
  },
  {
   "cell_type": "code",
   "execution_count": 38,
   "outputs": [],
   "source": [
    "class AppsFeatureHandler:\n",
    "    res_features_list = {\"806_sum_cnt_events\", \"806_sum_duration_sec\", \"806_sum_vol_kb\", \"889_sum_duration_sec\", \"1023_max_day_cnt\", \"246_sum_vol_kb\", \"876_sum_duration_sec\", \"889_sum_vol_kb\", \"max_mean_day\", \"869_sum_cnt_events\", \"596_sum_cnt_events\", \"1345_sum_vol_kb\", \"249_sum_duration_sec\", \"807_max_day_cnt\", \"1357_max_day_cnt\", \"249_sum_cnt_events\", \"889_sum_cnt_events\", \"824_sum_vol_kb\", \"1347_sum_duration_sec\", \"669_max_day_cnt\", \"1345_sum_cnt_events\", \"232_sum_vol_kb\", \"670_sum_duration_sec\", \"249_sum_vol_kb\", \"580_sum_duration_sec\", \"670_sum_vol_kb\", \"232_sum_duration_sec\", \"1345_sum_duration_sec\", \"842_sum_duration_sec\", \"1411_max_day_cnt\", \"373_sum_duration_sec\", \"670_sum_cnt_events\", \"580_sum_cnt_events\", \"246_sum_duration_sec\", \"824_sum_duration_sec\", \"1863_sum_duration_sec\", \"232_sum_cnt_events\", \"869_sum_vol_kb\", \"682_sum_cnt_events\", \"708_sum_vol_kb\", \"824_sum_cnt_events\", \"580_sum_vol_kb\", \"669_sum_vol_kb\", \"sum_duration_apps\", \"689_sum_duration_sec\", \"590_sum_duration_sec\", \"1411_sum_cnt_events\", \"708_sum_duration_sec\", \"669_sum_duration_sec\", \"250_sum_duration_sec\", \"769_sum_duration_sec\", \"842_sum_vol_kb\", \"836_sum_vol_kb\", \"1367_max_day_cnt\", \"836_sum_cnt_events\", \"1365_sum_duration_sec\", \"266_max_day_cnt\", \"682_sum_vol_kb\", \"250_sum_vol_kb\", \"708_sum_cnt_events\", \"apps_unique\", \"682_sum_duration_sec\", \"876_max_day_cnt\", \"246_sum_cnt_events\", \"373_sum_cnt_events\", \"sum_vol_kb_apps\", \"1406_sum_duration_sec\", \"1406_sum_cnt_events\", \"842_sum_cnt_events\", \"669_sum_cnt_events\", \"538_sum_cnt_events\", \"250_sum_cnt_events\", \"538_sum_vol_kb\", \"1412_max_day_cnt\", \"869_sum_duration_sec\", \"249_max_day_cnt\", \"580_max_day_cnt\", \"1111_max_day_cnt\", \"538_sum_duration_sec\", \"800_max_day_cnt\", \"373_sum_vol_kb\", \"836_max_day_cnt\", \"sum_of_cnt_events_apps\", \"1365_sum_vol_kb\", \"839_max_day_cnt\", \"250_max_day_cnt\", \"1464_sum_cnt_events\", \"806_max_day_cnt\", \"590_sum_cnt_events\", \"826_max_day_cnt\", \"1365_sum_cnt_events\", \"590_sum_vol_kb\", \"889_max_day_cnt\", \"1464_max_day_cnt\", \"1023_app_present\", \"1406_max_day_cnt\", \"1457_max_day_cnt\", \"722_max_day_cnt\", \"15_max_day_cnt\", \"1127_max_day_cnt\", \"782_max_day_cnt\", \"940_max_day_cnt\", \"1476_max_day_cnt\", \"703_max_day_cnt\", \"1357_app_present\", \"1893_max_day_cnt\", \"1490_max_day_cnt\", \"803_max_day_cnt\", \"1412_app_present\", \"1111_app_present\", \"782_app_present\", \"675_max_day_cnt\", \"1459_max_day_cnt\", \"1127_app_present\", \"697_sum_cnt_events\", \"876_app_present\", \"812_max_day_cnt\", \"1476_app_present\", \"901_sum_cnt_events\", \"812_app_present\", \"307_app_present\", \"697_max_day_cnt\", \"1459_app_present\", \"1490_app_present\", \"889_app_present\", \"904_max_day_cnt\", \"803_app_present\"}\n",
    "    apps_to_convert = {15, 232, 246, 249, 250, 266, 307, 373, 538, 580, 590, 596, 669, 670, 675, 682, 689, 697, 703, 708, 722, 769, 782, 800, 803, 806, 807, 812, 824, 826, 836, 839, 842, 869, 876, 889, 901, 904, 940, 1023, 1111, 1127, 1345, 1347, 1357, 1365, 1367, 1406, 1411, 1412, 1457, 1459, 1464, 1476, 1490, 1863, 1893}\n",
    "\n",
    "    cols_total_apps = ['abon_id','apps_unique','sum_duration_apps','sum_vol_kb_apps','sum_of_cnt_events_apps', 'max_mean_day']\n",
    "    cols_by_app = ['_app_present', '_sum_duration_sec', '_sum_vol_kb', '_sum_cnt_events', '_max_day_cnt']\n",
    "\n",
    "\n",
    "    def __init__(self, feature_list=None):\n",
    "        \"\"\"\n",
    "        Якщо зміниться перелік фіч (наприклад їх планується більше), можна передати список\n",
    "\n",
    "        :param feature_list: список вихідних фіч(найменувань колонок, які очікуються у вихідному датафреймі) потрібно враховувати побудову назви фічі прийнятою у класі (prepare_apps_feaures())\n",
    "        \"\"\"\n",
    "        if feature_list is not None:\n",
    "            self.res_features_list = feature_list  # фічі, які мають бути у вихідному датафреймі\n",
    "            features_splited = []\n",
    "\n",
    "            # для більш швидкого опрацювання визначаються лише ті додатки, які потрібні для вихідного датафрейму\n",
    "            for f in feature_list:\n",
    "                features_splited += f.split('_')\n",
    "            numbers_in_features = [x for x in features_splited if x.isdigit()]\n",
    "            self.apps_to_convert = set(numbers_in_features)\n",
    "\n",
    "        self.headers_apps = []\n",
    "        self.headers_apps += self.cols_total_apps\n",
    "        for app in self.apps_to_convert:\n",
    "            for metr in self.cols_by_app:\n",
    "                self.headers_apps += [str(app)+metr]\n",
    "\n",
    "    def prepare_apps_feaures(self, df_apps: pd.DataFrame) -> pd.DataFrame:\n",
    "        \"\"\"\n",
    "        Підготовка фіч використання додатків: з загальної таблиці фактів використання додатків абонентами форматує новий датасет з унікальністю запису відповідно ідентифікатора абонента (відомості про кожен окремий додаток формуються додатковими стовпчиками.\n",
    "        :param df_apps: датафрейм з відомостями про використання додатків\n",
    "        :return: датафрейм з показниками по абонентам (індекс - ід абонента для подальшого джоіну\n",
    "        \"\"\"\n",
    "        df_apps = df_apps.copy(deep=True)\n",
    "        for col in df_apps.columns:\n",
    "            df_apps[col] = pd.to_numeric(df_apps[col], downcast='integer')\n",
    "\n",
    "        apps_data = []\n",
    "        abons = df_apps['abon_id'].unique().tolist()\n",
    "\n",
    "        for pos, abon in enumerate(abons):\n",
    "            if pos%1000 == 0:\n",
    "                print(round((pos/len(abons))*100, 2), \" %\")\n",
    "            abon_df_part = df_apps.loc[df_apps['abon_id'] == abon].drop(columns=['abon_id'])\n",
    "            abon_data_row = []\n",
    "            abon_data_row.append(abon)\n",
    "            abon_data_row.append(abon_df_part['Application'].nunique())\n",
    "            abon_data_row.append(abon_df_part['SUM_of_Duration_sec'].sum())\n",
    "            abon_data_row.append(abon_df_part['SUM_of_Volume_kb'].sum())\n",
    "            abon_data_row.append(abon_df_part['SUM_of_Count_events'].sum())\n",
    "            abon_data_row.append(abon_df_part['MAX_of_day_cnt'].mean())\n",
    "\n",
    "            df_grouped_apps = abon_df_part.groupby(by='Application').sum()\n",
    "            for app in self.apps_to_convert:\n",
    "                if app in df_grouped_apps.index:\n",
    "                    abon_data_row.append(1)\n",
    "                    abon_data_row.append(df_grouped_apps.loc[app]['SUM_of_Duration_sec'])\n",
    "                    abon_data_row.append(df_grouped_apps.loc[app]['SUM_of_Volume_kb'])\n",
    "                    abon_data_row.append(df_grouped_apps.loc[app]['SUM_of_Count_events'])\n",
    "                    abon_data_row.append(df_grouped_apps.loc[app]['MAX_of_day_cnt'])\n",
    "                else:\n",
    "                    abon_data_row.append(0)\n",
    "                    abon_data_row.append(0)\n",
    "                    abon_data_row.append(0)\n",
    "                    abon_data_row.append(0)\n",
    "                    abon_data_row.append(0)\n",
    "\n",
    "            apps_data.append(abon_data_row)\n",
    "\n",
    "        apps_feature_df = pd.DataFrame(data=apps_data, columns=self.headers_apps)\n",
    "        return apps_feature_df"
   ],
   "metadata": {
    "collapsed": false,
    "pycharm": {
     "name": "#%%\n"
    }
   }
  },
  {
   "cell_type": "markdown",
   "source": [
    "### Опрацювання Train (apps)"
   ],
   "metadata": {
    "collapsed": false,
    "pycharm": {
     "name": "#%% md\n"
    }
   }
  },
  {
   "cell_type": "code",
   "execution_count": 39,
   "outputs": [],
   "source": [
    "apps_handler = AppsFeatureHandler()"
   ],
   "metadata": {
    "collapsed": false,
    "pycharm": {
     "name": "#%%\n"
    }
   }
  },
  {
   "cell_type": "code",
   "execution_count": 40,
   "outputs": [
    {
     "name": "stdout",
     "output_type": "stream",
     "text": [
      "0.0  %\n",
      "0.71  %\n",
      "1.42  %\n",
      "2.13  %\n",
      "2.84  %\n",
      "3.55  %\n",
      "4.26  %\n",
      "4.97  %\n",
      "5.68  %\n",
      "6.39  %\n",
      "7.1  %\n",
      "7.81  %\n",
      "8.52  %\n",
      "9.23  %\n",
      "9.94  %\n",
      "10.65  %\n",
      "11.36  %\n",
      "12.07  %\n",
      "12.78  %\n",
      "13.49  %\n",
      "14.2  %\n",
      "14.91  %\n",
      "15.62  %\n",
      "16.33  %\n",
      "17.04  %\n",
      "17.75  %\n",
      "18.46  %\n",
      "19.17  %\n",
      "19.88  %\n",
      "20.59  %\n",
      "21.3  %\n",
      "22.01  %\n",
      "22.72  %\n",
      "23.43  %\n",
      "24.14  %\n",
      "24.85  %\n",
      "25.56  %\n",
      "26.27  %\n",
      "26.98  %\n",
      "27.69  %\n",
      "28.4  %\n",
      "29.11  %\n",
      "29.82  %\n",
      "30.53  %\n",
      "31.24  %\n",
      "31.95  %\n",
      "32.66  %\n",
      "33.37  %\n",
      "34.08  %\n",
      "34.79  %\n",
      "35.5  %\n",
      "36.21  %\n",
      "36.92  %\n",
      "37.63  %\n",
      "38.34  %\n",
      "39.05  %\n",
      "39.76  %\n",
      "40.47  %\n",
      "41.18  %\n",
      "41.89  %\n",
      "42.6  %\n",
      "43.31  %\n",
      "44.02  %\n",
      "44.73  %\n",
      "45.44  %\n",
      "46.15  %\n",
      "46.87  %\n",
      "47.58  %\n",
      "48.29  %\n",
      "49.0  %\n",
      "49.71  %\n",
      "50.42  %\n",
      "51.13  %\n",
      "51.84  %\n",
      "52.55  %\n",
      "53.26  %\n",
      "53.97  %\n",
      "54.68  %\n",
      "55.39  %\n",
      "56.1  %\n",
      "56.81  %\n",
      "57.52  %\n",
      "58.23  %\n",
      "58.94  %\n",
      "59.65  %\n",
      "60.36  %\n",
      "61.07  %\n",
      "61.78  %\n",
      "62.49  %\n",
      "63.2  %\n",
      "63.91  %\n",
      "64.62  %\n",
      "65.33  %\n",
      "66.04  %\n",
      "66.75  %\n",
      "67.46  %\n",
      "68.17  %\n",
      "68.88  %\n",
      "69.59  %\n",
      "70.3  %\n",
      "71.01  %\n",
      "71.72  %\n",
      "72.43  %\n",
      "73.14  %\n",
      "73.85  %\n",
      "74.56  %\n",
      "75.27  %\n",
      "75.98  %\n",
      "76.69  %\n",
      "77.4  %\n",
      "78.11  %\n",
      "78.82  %\n",
      "79.53  %\n",
      "80.24  %\n",
      "80.95  %\n",
      "81.66  %\n",
      "82.37  %\n",
      "83.08  %\n",
      "83.79  %\n",
      "84.5  %\n",
      "85.21  %\n",
      "85.92  %\n",
      "86.63  %\n",
      "87.34  %\n",
      "88.05  %\n",
      "88.76  %\n",
      "89.47  %\n",
      "90.18  %\n",
      "90.89  %\n",
      "91.6  %\n",
      "92.31  %\n",
      "93.02  %\n",
      "93.73  %\n",
      "94.44  %\n",
      "95.15  %\n",
      "95.86  %\n",
      "96.57  %\n",
      "97.28  %\n",
      "97.99  %\n",
      "98.7  %\n",
      "99.41  %\n"
     ]
    }
   ],
   "source": [
    "df_train_apps_features = apps_handler.prepare_apps_feaures(train_apps)"
   ],
   "metadata": {
    "collapsed": false,
    "pycharm": {
     "name": "#%%\n"
    }
   }
  },
  {
   "cell_type": "code",
   "execution_count": 41,
   "outputs": [],
   "source": [
    "df_train_apps_features.set_index('abon_id', inplace=True, drop=True)"
   ],
   "metadata": {
    "collapsed": false,
    "pycharm": {
     "name": "#%%\n"
    }
   }
  },
  {
   "cell_type": "code",
   "execution_count": 42,
   "outputs": [
    {
     "data": {
      "text/plain": "         apps_unique  sum_duration_apps  sum_vol_kb_apps  \\\nabon_id                                                    \n1000009           34              75176        468046.39   \n1000012           37             136466        255362.46   \n1000015           50             265303       1066408.44   \n1000016            4                165            58.64   \n1000020           54             440335       1225026.32   \n\n         sum_of_cnt_events_apps  max_mean_day  769_app_present  \\\nabon_id                                                          \n1000009                    8280      3.735294                1   \n1000012                   11808      7.243243                1   \n1000015                   16498      5.640000                1   \n1000016                     107      3.000000                0   \n1000020                   34825      4.537037                1   \n\n         769_sum_duration_sec  769_sum_vol_kb  769_sum_cnt_events  \\\nabon_id                                                             \n1000009                 217.0          254.49                26.0   \n1000012                  10.0          424.15                39.0   \n1000015                   0.0           12.42                 1.0   \n1000016                   0.0            0.00                 0.0   \n1000020                  82.0         2132.59                63.0   \n\n         769_max_day_cnt  ...  1406_app_present  1406_sum_duration_sec  \\\nabon_id                   ...                                            \n1000009              4.0  ...                 0                    0.0   \n1000012              7.0  ...                 0                    0.0   \n1000015              1.0  ...                 1                28385.0   \n1000016              0.0  ...                 0                    0.0   \n1000020              8.0  ...                 0                    0.0   \n\n         1406_sum_vol_kb  1406_sum_cnt_events  1406_max_day_cnt  \\\nabon_id                                                           \n1000009             0.00                  0.0               0.0   \n1000012             0.00                  0.0               0.0   \n1000015        152084.95                797.0               4.0   \n1000016             0.00                  0.0               0.0   \n1000020             0.00                  0.0               0.0   \n\n         1023_app_present  1023_sum_duration_sec  1023_sum_vol_kb  \\\nabon_id                                                             \n1000009                 1                    6.0           101.99   \n1000012                 0                    0.0             0.00   \n1000015                 1                    2.0            26.35   \n1000016                 0                    0.0             0.00   \n1000020                 0                    0.0             0.00   \n\n         1023_sum_cnt_events  1023_max_day_cnt  \nabon_id                                         \n1000009                  7.0               4.0  \n1000012                  0.0               0.0  \n1000015                  2.0               1.0  \n1000016                  0.0               0.0  \n1000020                  0.0               0.0  \n\n[5 rows x 290 columns]",
      "text/html": "<div>\n<style scoped>\n    .dataframe tbody tr th:only-of-type {\n        vertical-align: middle;\n    }\n\n    .dataframe tbody tr th {\n        vertical-align: top;\n    }\n\n    .dataframe thead th {\n        text-align: right;\n    }\n</style>\n<table border=\"1\" class=\"dataframe\">\n  <thead>\n    <tr style=\"text-align: right;\">\n      <th></th>\n      <th>apps_unique</th>\n      <th>sum_duration_apps</th>\n      <th>sum_vol_kb_apps</th>\n      <th>sum_of_cnt_events_apps</th>\n      <th>max_mean_day</th>\n      <th>769_app_present</th>\n      <th>769_sum_duration_sec</th>\n      <th>769_sum_vol_kb</th>\n      <th>769_sum_cnt_events</th>\n      <th>769_max_day_cnt</th>\n      <th>...</th>\n      <th>1406_app_present</th>\n      <th>1406_sum_duration_sec</th>\n      <th>1406_sum_vol_kb</th>\n      <th>1406_sum_cnt_events</th>\n      <th>1406_max_day_cnt</th>\n      <th>1023_app_present</th>\n      <th>1023_sum_duration_sec</th>\n      <th>1023_sum_vol_kb</th>\n      <th>1023_sum_cnt_events</th>\n      <th>1023_max_day_cnt</th>\n    </tr>\n    <tr>\n      <th>abon_id</th>\n      <th></th>\n      <th></th>\n      <th></th>\n      <th></th>\n      <th></th>\n      <th></th>\n      <th></th>\n      <th></th>\n      <th></th>\n      <th></th>\n      <th></th>\n      <th></th>\n      <th></th>\n      <th></th>\n      <th></th>\n      <th></th>\n      <th></th>\n      <th></th>\n      <th></th>\n      <th></th>\n      <th></th>\n    </tr>\n  </thead>\n  <tbody>\n    <tr>\n      <th>1000009</th>\n      <td>34</td>\n      <td>75176</td>\n      <td>468046.39</td>\n      <td>8280</td>\n      <td>3.735294</td>\n      <td>1</td>\n      <td>217.0</td>\n      <td>254.49</td>\n      <td>26.0</td>\n      <td>4.0</td>\n      <td>...</td>\n      <td>0</td>\n      <td>0.0</td>\n      <td>0.00</td>\n      <td>0.0</td>\n      <td>0.0</td>\n      <td>1</td>\n      <td>6.0</td>\n      <td>101.99</td>\n      <td>7.0</td>\n      <td>4.0</td>\n    </tr>\n    <tr>\n      <th>1000012</th>\n      <td>37</td>\n      <td>136466</td>\n      <td>255362.46</td>\n      <td>11808</td>\n      <td>7.243243</td>\n      <td>1</td>\n      <td>10.0</td>\n      <td>424.15</td>\n      <td>39.0</td>\n      <td>7.0</td>\n      <td>...</td>\n      <td>0</td>\n      <td>0.0</td>\n      <td>0.00</td>\n      <td>0.0</td>\n      <td>0.0</td>\n      <td>0</td>\n      <td>0.0</td>\n      <td>0.00</td>\n      <td>0.0</td>\n      <td>0.0</td>\n    </tr>\n    <tr>\n      <th>1000015</th>\n      <td>50</td>\n      <td>265303</td>\n      <td>1066408.44</td>\n      <td>16498</td>\n      <td>5.640000</td>\n      <td>1</td>\n      <td>0.0</td>\n      <td>12.42</td>\n      <td>1.0</td>\n      <td>1.0</td>\n      <td>...</td>\n      <td>1</td>\n      <td>28385.0</td>\n      <td>152084.95</td>\n      <td>797.0</td>\n      <td>4.0</td>\n      <td>1</td>\n      <td>2.0</td>\n      <td>26.35</td>\n      <td>2.0</td>\n      <td>1.0</td>\n    </tr>\n    <tr>\n      <th>1000016</th>\n      <td>4</td>\n      <td>165</td>\n      <td>58.64</td>\n      <td>107</td>\n      <td>3.000000</td>\n      <td>0</td>\n      <td>0.0</td>\n      <td>0.00</td>\n      <td>0.0</td>\n      <td>0.0</td>\n      <td>...</td>\n      <td>0</td>\n      <td>0.0</td>\n      <td>0.00</td>\n      <td>0.0</td>\n      <td>0.0</td>\n      <td>0</td>\n      <td>0.0</td>\n      <td>0.00</td>\n      <td>0.0</td>\n      <td>0.0</td>\n    </tr>\n    <tr>\n      <th>1000020</th>\n      <td>54</td>\n      <td>440335</td>\n      <td>1225026.32</td>\n      <td>34825</td>\n      <td>4.537037</td>\n      <td>1</td>\n      <td>82.0</td>\n      <td>2132.59</td>\n      <td>63.0</td>\n      <td>8.0</td>\n      <td>...</td>\n      <td>0</td>\n      <td>0.0</td>\n      <td>0.00</td>\n      <td>0.0</td>\n      <td>0.0</td>\n      <td>0</td>\n      <td>0.0</td>\n      <td>0.00</td>\n      <td>0.0</td>\n      <td>0.0</td>\n    </tr>\n  </tbody>\n</table>\n<p>5 rows × 290 columns</p>\n</div>"
     },
     "execution_count": 42,
     "metadata": {},
     "output_type": "execute_result"
    }
   ],
   "source": [
    "df_train_apps_features.head()"
   ],
   "metadata": {
    "collapsed": false,
    "pycharm": {
     "name": "#%%\n"
    }
   }
  },
  {
   "cell_type": "code",
   "execution_count": 43,
   "outputs": [],
   "source": [
    "df_train_apps_features.to_pickle('df_train_apps_new_features.pickle')"
   ],
   "metadata": {
    "collapsed": false,
    "pycharm": {
     "name": "#%%\n"
    }
   }
  },
  {
   "cell_type": "markdown",
   "source": [
    "### Опрацювання Test (apps)"
   ],
   "metadata": {
    "collapsed": false,
    "pycharm": {
     "name": "#%% md\n"
    }
   }
  },
  {
   "cell_type": "code",
   "execution_count": 44,
   "outputs": [
    {
     "name": "stdout",
     "output_type": "stream",
     "text": [
      "0.0  %\n",
      "0.87  %\n",
      "1.73  %\n",
      "2.6  %\n",
      "3.47  %\n",
      "4.33  %\n",
      "5.2  %\n",
      "6.07  %\n",
      "6.93  %\n",
      "7.8  %\n",
      "8.67  %\n",
      "9.53  %\n",
      "10.4  %\n",
      "11.27  %\n",
      "12.14  %\n",
      "13.0  %\n",
      "13.87  %\n",
      "14.74  %\n",
      "15.6  %\n",
      "16.47  %\n",
      "17.34  %\n",
      "18.2  %\n",
      "19.07  %\n",
      "19.94  %\n",
      "20.8  %\n",
      "21.67  %\n",
      "22.54  %\n",
      "23.4  %\n",
      "24.27  %\n",
      "25.14  %\n",
      "26.0  %\n",
      "26.87  %\n",
      "27.74  %\n",
      "28.6  %\n",
      "29.47  %\n",
      "30.34  %\n",
      "31.21  %\n",
      "32.07  %\n",
      "32.94  %\n",
      "33.81  %\n",
      "34.67  %\n",
      "35.54  %\n",
      "36.41  %\n",
      "37.27  %\n",
      "38.14  %\n",
      "39.01  %\n",
      "39.87  %\n",
      "40.74  %\n",
      "41.61  %\n",
      "42.47  %\n",
      "43.34  %\n",
      "44.21  %\n",
      "45.07  %\n",
      "45.94  %\n",
      "46.81  %\n",
      "47.67  %\n",
      "48.54  %\n",
      "49.41  %\n",
      "50.28  %\n",
      "51.14  %\n",
      "52.01  %\n",
      "52.88  %\n",
      "53.74  %\n",
      "54.61  %\n",
      "55.48  %\n",
      "56.34  %\n",
      "57.21  %\n",
      "58.08  %\n",
      "58.94  %\n",
      "59.81  %\n",
      "60.68  %\n",
      "61.54  %\n",
      "62.41  %\n",
      "63.28  %\n",
      "64.14  %\n",
      "65.01  %\n",
      "65.88  %\n",
      "66.74  %\n",
      "67.61  %\n",
      "68.48  %\n",
      "69.35  %\n",
      "70.21  %\n",
      "71.08  %\n",
      "71.95  %\n",
      "72.81  %\n",
      "73.68  %\n",
      "74.55  %\n",
      "75.41  %\n",
      "76.28  %\n",
      "77.15  %\n",
      "78.01  %\n",
      "78.88  %\n",
      "79.75  %\n",
      "80.61  %\n",
      "81.48  %\n",
      "82.35  %\n",
      "83.21  %\n",
      "84.08  %\n",
      "84.95  %\n",
      "85.81  %\n",
      "86.68  %\n",
      "87.55  %\n",
      "88.42  %\n",
      "89.28  %\n",
      "90.15  %\n",
      "91.02  %\n",
      "91.88  %\n",
      "92.75  %\n",
      "93.62  %\n",
      "94.48  %\n",
      "95.35  %\n",
      "96.22  %\n",
      "97.08  %\n",
      "97.95  %\n",
      "98.82  %\n",
      "99.68  %\n"
     ]
    }
   ],
   "source": [
    "df_test_apps_features = apps_handler.prepare_apps_feaures(test_apps)"
   ],
   "metadata": {
    "collapsed": false,
    "pycharm": {
     "name": "#%%\n"
    }
   }
  },
  {
   "cell_type": "code",
   "execution_count": 45,
   "outputs": [],
   "source": [
    "df_test_apps_features.set_index('abon_id', inplace=True, drop=True)"
   ],
   "metadata": {
    "collapsed": false,
    "pycharm": {
     "name": "#%%\n"
    }
   }
  },
  {
   "cell_type": "code",
   "execution_count": 48,
   "outputs": [
    {
     "data": {
      "text/plain": "         apps_unique  sum_duration_apps  sum_vol_kb_apps  \\\nabon_id                                                    \n1000023           41             314014       2480347.73   \n1000026           73            2006861       4387456.83   \n1000027           47             497786       1190688.60   \n1000032           42             403237       3567840.39   \n1000036            5                 87            17.03   \n1000057           57             351517       2418892.78   \n1000060           57            2529465       4871598.21   \n1000070           65            3555429      36101233.39   \n1000071           38             558161        378475.94   \n1000087           38              51114        482814.72   \n1000098            1                 61             1.62   \n1000099           83            2791730      41746940.72   \n1000107           36             191512        222761.37   \n1000109           83             933467       5399480.42   \n1000114           53             460758       4849834.70   \n1000115            9               5341            72.54   \n1000146           20              14241          5240.91   \n1000147           58             669926        923640.98   \n1000153           51             778968       6711136.17   \n1000156           45             297646        936462.18   \n1000159           75            3626471      12832055.47   \n1000170           63            1892336       5800737.00   \n1000175           15              28511           296.47   \n1000195           64            2349490       1674315.69   \n1000196           43             265593        437090.29   \n1000199           64             486222       3327823.06   \n1000204           87            1672935      39633418.16   \n1000221            3               1772            58.29   \n1000224           51             471828       1170477.90   \n1000225           49             358253        535668.94   \n\n         sum_of_cnt_events_apps  max_mean_day  769_app_present  \\\nabon_id                                                          \n1000023                   21713      7.121951                1   \n1000026                  207578     15.136986                1   \n1000027                   60009     14.787234                1   \n1000032                   40043      7.190476                1   \n1000036                      42      1.600000                0   \n1000057                   38247      5.263158                1   \n1000060                  283759     16.842105                1   \n1000070                  288901     15.369231                1   \n1000071                   52107     19.078947                1   \n1000087                    5294      6.131579                1   \n1000098                      12      5.000000                0   \n1000099                  149806     12.240964                1   \n1000107                   26644     12.194444                1   \n1000109                  143386     14.590361                1   \n1000114                   58408     17.433962                1   \n1000115                     304      6.444444                0   \n1000146                    1618      1.700000                0   \n1000147                  119374     14.413793                1   \n1000153                   87119     11.470588                1   \n1000156                   38095      8.066667                1   \n1000159                  279202     15.773333                1   \n1000170                  204596     12.730159                1   \n1000175                    1276      1.000000                0   \n1000195                  279385     14.546875                1   \n1000196                   22563     10.953488                1   \n1000199                   80070     16.062500                1   \n1000204                  130928     12.172414                1   \n1000221                      60      1.000000                0   \n1000224                   48963      9.411765                1   \n1000225                   59816      6.714286                1   \n\n         769_sum_duration_sec  769_sum_vol_kb  769_sum_cnt_events  \\\nabon_id                                                             \n1000023                  59.0         3907.46                41.0   \n1000026                2922.0       159912.67              3148.0   \n1000027                 576.0        10050.23               417.0   \n1000032                1216.0         3837.10               106.0   \n1000036                   0.0            0.00                 0.0   \n1000057                 322.0        10543.90               215.0   \n1000060                 784.0        29716.37               440.0   \n1000070                3278.0        93506.06              1635.0   \n1000071                2532.0         2595.10               227.0   \n1000087                 298.0        19700.44               122.0   \n1000098                   0.0            0.00                 0.0   \n1000099                1304.0         5730.52                56.0   \n1000107                 105.0          424.50               169.0   \n1000109                 647.0        20650.61                67.0   \n1000114                 101.0          488.57                 4.0   \n1000115                   0.0            0.00                 0.0   \n1000146                   0.0            0.00                 0.0   \n1000147                 415.0        13180.55               419.0   \n1000153                 456.0         9397.29               152.0   \n1000156                 496.0          386.85                43.0   \n1000159                 291.0         1371.93                69.0   \n1000170                 498.0        21978.79               117.0   \n1000175                   0.0            0.00                 0.0   \n1000195                5059.0        31853.89              1438.0   \n1000196                 141.0         2415.76                49.0   \n1000199                 145.0          397.44                28.0   \n1000204                1849.0        23381.10               109.0   \n1000221                   0.0            0.00                 0.0   \n1000224                 214.0         6746.81               201.0   \n1000225                1524.0        50385.60               620.0   \n\n         769_max_day_cnt  ...  1406_app_present  1406_sum_duration_sec  \\\nabon_id                   ...                                            \n1000023              9.0  ...                 1                    0.0   \n1000026             30.0  ...                 0                    0.0   \n1000027             26.0  ...                 0                    0.0   \n1000032             12.0  ...                 0                    0.0   \n1000036              0.0  ...                 0                    0.0   \n1000057              9.0  ...                 0                    0.0   \n1000060             27.0  ...                 1                  694.0   \n1000070             31.0  ...                 1                   22.0   \n1000071             31.0  ...                 0                    0.0   \n1000087              7.0  ...                 0                    0.0   \n1000098              0.0  ...                 0                    0.0   \n1000099              6.0  ...                 0                    0.0   \n1000107             31.0  ...                 0                    0.0   \n1000109             11.0  ...                 1                    4.0   \n1000114              2.0  ...                 0                    0.0   \n1000115              0.0  ...                 0                    0.0   \n1000146              0.0  ...                 0                    0.0   \n1000147             31.0  ...                 1                 1534.0   \n1000153             18.0  ...                 0                    0.0   \n1000156              9.0  ...                 1                  116.0   \n1000159             21.0  ...                 1                  329.0   \n1000170             14.0  ...                 1               412744.0   \n1000175              0.0  ...                 0                    0.0   \n1000195             30.0  ...                 0                    0.0   \n1000196             10.0  ...                 0                    0.0   \n1000199              3.0  ...                 0                    0.0   \n1000204             12.0  ...                 0                    0.0   \n1000221              0.0  ...                 0                    0.0   \n1000224             11.0  ...                 1                   22.0   \n1000225              8.0  ...                 0                    0.0   \n\n         1406_sum_vol_kb  1406_sum_cnt_events  1406_max_day_cnt  \\\nabon_id                                                           \n1000023             3.62                  1.0               1.0   \n1000026             0.00                  0.0               0.0   \n1000027             0.00                  0.0               0.0   \n1000032             0.00                  0.0               0.0   \n1000036             0.00                  0.0               0.0   \n1000057             0.00                  0.0               0.0   \n1000060         18449.08                 21.0               1.0   \n1000070             7.87                  1.0               1.0   \n1000071             0.00                  0.0               0.0   \n1000087             0.00                  0.0               0.0   \n1000098             0.00                  0.0               0.0   \n1000099             0.00                  0.0               0.0   \n1000107             0.00                  0.0               0.0   \n1000109            51.96                  2.0               1.0   \n1000114             0.00                  0.0               0.0   \n1000115             0.00                  0.0               0.0   \n1000146             0.00                  0.0               0.0   \n1000147         15587.44                 75.0               3.0   \n1000153             0.00                  0.0               0.0   \n1000156            15.73                  3.0               2.0   \n1000159         10081.90                 15.0               2.0   \n1000170        124306.30               9591.0              21.0   \n1000175             0.00                  0.0               0.0   \n1000195             0.00                  0.0               0.0   \n1000196             0.00                  0.0               0.0   \n1000199             0.00                  0.0               0.0   \n1000204             0.00                  0.0               0.0   \n1000221             0.00                  0.0               0.0   \n1000224            32.81                  2.0               1.0   \n1000225             0.00                  0.0               0.0   \n\n         1023_app_present  1023_sum_duration_sec  1023_sum_vol_kb  \\\nabon_id                                                             \n1000023                 0                    0.0             0.00   \n1000026                 1                    1.0            15.73   \n1000027                 0                    0.0             0.00   \n1000032                 1                    2.0            13.62   \n1000036                 0                    0.0             0.00   \n1000057                 1                    1.0            13.37   \n1000060                 0                    0.0             0.00   \n1000070                 1                  196.0          1170.35   \n1000071                 0                    0.0             0.00   \n1000087                 1                  117.0          1369.97   \n1000098                 0                    0.0             0.00   \n1000099                 0                    0.0             0.00   \n1000107                 1                  119.0           317.99   \n1000109                 0                    0.0             0.00   \n1000114                 0                    0.0             0.00   \n1000115                 0                    0.0             0.00   \n1000146                 0                    0.0             0.00   \n1000147                 1                   52.0           638.82   \n1000153                 1                  164.0           456.45   \n1000156                 0                    0.0             0.00   \n1000159                 1                   14.0            84.88   \n1000170                 1                  111.0           323.75   \n1000175                 0                    0.0             0.00   \n1000195                 0                    0.0             0.00   \n1000196                 1                   14.0            31.08   \n1000199                 0                    0.0             0.00   \n1000204                 1                   65.0            23.92   \n1000221                 0                    0.0             0.00   \n1000224                 0                    0.0             0.00   \n1000225                 1                   70.0           275.71   \n\n         1023_sum_cnt_events  1023_max_day_cnt  \nabon_id                                         \n1000023                  0.0               0.0  \n1000026                  2.0               1.0  \n1000027                  0.0               0.0  \n1000032                  2.0               1.0  \n1000036                  0.0               0.0  \n1000057                  2.0               1.0  \n1000060                  0.0               0.0  \n1000070                102.0              28.0  \n1000071                  0.0               0.0  \n1000087                  8.0               1.0  \n1000098                  0.0               0.0  \n1000099                  0.0               0.0  \n1000107                 26.0               8.0  \n1000109                  0.0               0.0  \n1000114                  0.0               0.0  \n1000115                  0.0               0.0  \n1000146                  0.0               0.0  \n1000147                 40.0              30.0  \n1000153                 34.0              16.0  \n1000156                  0.0               0.0  \n1000159                  5.0               4.0  \n1000170                 26.0               9.0  \n1000175                  0.0               0.0  \n1000195                  0.0               0.0  \n1000196                  4.0               2.0  \n1000199                  0.0               0.0  \n1000204                  3.0               3.0  \n1000221                  0.0               0.0  \n1000224                  0.0               0.0  \n1000225                 20.0               9.0  \n\n[30 rows x 290 columns]",
      "text/html": "<div>\n<style scoped>\n    .dataframe tbody tr th:only-of-type {\n        vertical-align: middle;\n    }\n\n    .dataframe tbody tr th {\n        vertical-align: top;\n    }\n\n    .dataframe thead th {\n        text-align: right;\n    }\n</style>\n<table border=\"1\" class=\"dataframe\">\n  <thead>\n    <tr style=\"text-align: right;\">\n      <th></th>\n      <th>apps_unique</th>\n      <th>sum_duration_apps</th>\n      <th>sum_vol_kb_apps</th>\n      <th>sum_of_cnt_events_apps</th>\n      <th>max_mean_day</th>\n      <th>769_app_present</th>\n      <th>769_sum_duration_sec</th>\n      <th>769_sum_vol_kb</th>\n      <th>769_sum_cnt_events</th>\n      <th>769_max_day_cnt</th>\n      <th>...</th>\n      <th>1406_app_present</th>\n      <th>1406_sum_duration_sec</th>\n      <th>1406_sum_vol_kb</th>\n      <th>1406_sum_cnt_events</th>\n      <th>1406_max_day_cnt</th>\n      <th>1023_app_present</th>\n      <th>1023_sum_duration_sec</th>\n      <th>1023_sum_vol_kb</th>\n      <th>1023_sum_cnt_events</th>\n      <th>1023_max_day_cnt</th>\n    </tr>\n    <tr>\n      <th>abon_id</th>\n      <th></th>\n      <th></th>\n      <th></th>\n      <th></th>\n      <th></th>\n      <th></th>\n      <th></th>\n      <th></th>\n      <th></th>\n      <th></th>\n      <th></th>\n      <th></th>\n      <th></th>\n      <th></th>\n      <th></th>\n      <th></th>\n      <th></th>\n      <th></th>\n      <th></th>\n      <th></th>\n      <th></th>\n    </tr>\n  </thead>\n  <tbody>\n    <tr>\n      <th>1000023</th>\n      <td>41</td>\n      <td>314014</td>\n      <td>2480347.73</td>\n      <td>21713</td>\n      <td>7.121951</td>\n      <td>1</td>\n      <td>59.0</td>\n      <td>3907.46</td>\n      <td>41.0</td>\n      <td>9.0</td>\n      <td>...</td>\n      <td>1</td>\n      <td>0.0</td>\n      <td>3.62</td>\n      <td>1.0</td>\n      <td>1.0</td>\n      <td>0</td>\n      <td>0.0</td>\n      <td>0.00</td>\n      <td>0.0</td>\n      <td>0.0</td>\n    </tr>\n    <tr>\n      <th>1000026</th>\n      <td>73</td>\n      <td>2006861</td>\n      <td>4387456.83</td>\n      <td>207578</td>\n      <td>15.136986</td>\n      <td>1</td>\n      <td>2922.0</td>\n      <td>159912.67</td>\n      <td>3148.0</td>\n      <td>30.0</td>\n      <td>...</td>\n      <td>0</td>\n      <td>0.0</td>\n      <td>0.00</td>\n      <td>0.0</td>\n      <td>0.0</td>\n      <td>1</td>\n      <td>1.0</td>\n      <td>15.73</td>\n      <td>2.0</td>\n      <td>1.0</td>\n    </tr>\n    <tr>\n      <th>1000027</th>\n      <td>47</td>\n      <td>497786</td>\n      <td>1190688.60</td>\n      <td>60009</td>\n      <td>14.787234</td>\n      <td>1</td>\n      <td>576.0</td>\n      <td>10050.23</td>\n      <td>417.0</td>\n      <td>26.0</td>\n      <td>...</td>\n      <td>0</td>\n      <td>0.0</td>\n      <td>0.00</td>\n      <td>0.0</td>\n      <td>0.0</td>\n      <td>0</td>\n      <td>0.0</td>\n      <td>0.00</td>\n      <td>0.0</td>\n      <td>0.0</td>\n    </tr>\n    <tr>\n      <th>1000032</th>\n      <td>42</td>\n      <td>403237</td>\n      <td>3567840.39</td>\n      <td>40043</td>\n      <td>7.190476</td>\n      <td>1</td>\n      <td>1216.0</td>\n      <td>3837.10</td>\n      <td>106.0</td>\n      <td>12.0</td>\n      <td>...</td>\n      <td>0</td>\n      <td>0.0</td>\n      <td>0.00</td>\n      <td>0.0</td>\n      <td>0.0</td>\n      <td>1</td>\n      <td>2.0</td>\n      <td>13.62</td>\n      <td>2.0</td>\n      <td>1.0</td>\n    </tr>\n    <tr>\n      <th>1000036</th>\n      <td>5</td>\n      <td>87</td>\n      <td>17.03</td>\n      <td>42</td>\n      <td>1.600000</td>\n      <td>0</td>\n      <td>0.0</td>\n      <td>0.00</td>\n      <td>0.0</td>\n      <td>0.0</td>\n      <td>...</td>\n      <td>0</td>\n      <td>0.0</td>\n      <td>0.00</td>\n      <td>0.0</td>\n      <td>0.0</td>\n      <td>0</td>\n      <td>0.0</td>\n      <td>0.00</td>\n      <td>0.0</td>\n      <td>0.0</td>\n    </tr>\n    <tr>\n      <th>1000057</th>\n      <td>57</td>\n      <td>351517</td>\n      <td>2418892.78</td>\n      <td>38247</td>\n      <td>5.263158</td>\n      <td>1</td>\n      <td>322.0</td>\n      <td>10543.90</td>\n      <td>215.0</td>\n      <td>9.0</td>\n      <td>...</td>\n      <td>0</td>\n      <td>0.0</td>\n      <td>0.00</td>\n      <td>0.0</td>\n      <td>0.0</td>\n      <td>1</td>\n      <td>1.0</td>\n      <td>13.37</td>\n      <td>2.0</td>\n      <td>1.0</td>\n    </tr>\n    <tr>\n      <th>1000060</th>\n      <td>57</td>\n      <td>2529465</td>\n      <td>4871598.21</td>\n      <td>283759</td>\n      <td>16.842105</td>\n      <td>1</td>\n      <td>784.0</td>\n      <td>29716.37</td>\n      <td>440.0</td>\n      <td>27.0</td>\n      <td>...</td>\n      <td>1</td>\n      <td>694.0</td>\n      <td>18449.08</td>\n      <td>21.0</td>\n      <td>1.0</td>\n      <td>0</td>\n      <td>0.0</td>\n      <td>0.00</td>\n      <td>0.0</td>\n      <td>0.0</td>\n    </tr>\n    <tr>\n      <th>1000070</th>\n      <td>65</td>\n      <td>3555429</td>\n      <td>36101233.39</td>\n      <td>288901</td>\n      <td>15.369231</td>\n      <td>1</td>\n      <td>3278.0</td>\n      <td>93506.06</td>\n      <td>1635.0</td>\n      <td>31.0</td>\n      <td>...</td>\n      <td>1</td>\n      <td>22.0</td>\n      <td>7.87</td>\n      <td>1.0</td>\n      <td>1.0</td>\n      <td>1</td>\n      <td>196.0</td>\n      <td>1170.35</td>\n      <td>102.0</td>\n      <td>28.0</td>\n    </tr>\n    <tr>\n      <th>1000071</th>\n      <td>38</td>\n      <td>558161</td>\n      <td>378475.94</td>\n      <td>52107</td>\n      <td>19.078947</td>\n      <td>1</td>\n      <td>2532.0</td>\n      <td>2595.10</td>\n      <td>227.0</td>\n      <td>31.0</td>\n      <td>...</td>\n      <td>0</td>\n      <td>0.0</td>\n      <td>0.00</td>\n      <td>0.0</td>\n      <td>0.0</td>\n      <td>0</td>\n      <td>0.0</td>\n      <td>0.00</td>\n      <td>0.0</td>\n      <td>0.0</td>\n    </tr>\n    <tr>\n      <th>1000087</th>\n      <td>38</td>\n      <td>51114</td>\n      <td>482814.72</td>\n      <td>5294</td>\n      <td>6.131579</td>\n      <td>1</td>\n      <td>298.0</td>\n      <td>19700.44</td>\n      <td>122.0</td>\n      <td>7.0</td>\n      <td>...</td>\n      <td>0</td>\n      <td>0.0</td>\n      <td>0.00</td>\n      <td>0.0</td>\n      <td>0.0</td>\n      <td>1</td>\n      <td>117.0</td>\n      <td>1369.97</td>\n      <td>8.0</td>\n      <td>1.0</td>\n    </tr>\n    <tr>\n      <th>1000098</th>\n      <td>1</td>\n      <td>61</td>\n      <td>1.62</td>\n      <td>12</td>\n      <td>5.000000</td>\n      <td>0</td>\n      <td>0.0</td>\n      <td>0.00</td>\n      <td>0.0</td>\n      <td>0.0</td>\n      <td>...</td>\n      <td>0</td>\n      <td>0.0</td>\n      <td>0.00</td>\n      <td>0.0</td>\n      <td>0.0</td>\n      <td>0</td>\n      <td>0.0</td>\n      <td>0.00</td>\n      <td>0.0</td>\n      <td>0.0</td>\n    </tr>\n    <tr>\n      <th>1000099</th>\n      <td>83</td>\n      <td>2791730</td>\n      <td>41746940.72</td>\n      <td>149806</td>\n      <td>12.240964</td>\n      <td>1</td>\n      <td>1304.0</td>\n      <td>5730.52</td>\n      <td>56.0</td>\n      <td>6.0</td>\n      <td>...</td>\n      <td>0</td>\n      <td>0.0</td>\n      <td>0.00</td>\n      <td>0.0</td>\n      <td>0.0</td>\n      <td>0</td>\n      <td>0.0</td>\n      <td>0.00</td>\n      <td>0.0</td>\n      <td>0.0</td>\n    </tr>\n    <tr>\n      <th>1000107</th>\n      <td>36</td>\n      <td>191512</td>\n      <td>222761.37</td>\n      <td>26644</td>\n      <td>12.194444</td>\n      <td>1</td>\n      <td>105.0</td>\n      <td>424.50</td>\n      <td>169.0</td>\n      <td>31.0</td>\n      <td>...</td>\n      <td>0</td>\n      <td>0.0</td>\n      <td>0.00</td>\n      <td>0.0</td>\n      <td>0.0</td>\n      <td>1</td>\n      <td>119.0</td>\n      <td>317.99</td>\n      <td>26.0</td>\n      <td>8.0</td>\n    </tr>\n    <tr>\n      <th>1000109</th>\n      <td>83</td>\n      <td>933467</td>\n      <td>5399480.42</td>\n      <td>143386</td>\n      <td>14.590361</td>\n      <td>1</td>\n      <td>647.0</td>\n      <td>20650.61</td>\n      <td>67.0</td>\n      <td>11.0</td>\n      <td>...</td>\n      <td>1</td>\n      <td>4.0</td>\n      <td>51.96</td>\n      <td>2.0</td>\n      <td>1.0</td>\n      <td>0</td>\n      <td>0.0</td>\n      <td>0.00</td>\n      <td>0.0</td>\n      <td>0.0</td>\n    </tr>\n    <tr>\n      <th>1000114</th>\n      <td>53</td>\n      <td>460758</td>\n      <td>4849834.70</td>\n      <td>58408</td>\n      <td>17.433962</td>\n      <td>1</td>\n      <td>101.0</td>\n      <td>488.57</td>\n      <td>4.0</td>\n      <td>2.0</td>\n      <td>...</td>\n      <td>0</td>\n      <td>0.0</td>\n      <td>0.00</td>\n      <td>0.0</td>\n      <td>0.0</td>\n      <td>0</td>\n      <td>0.0</td>\n      <td>0.00</td>\n      <td>0.0</td>\n      <td>0.0</td>\n    </tr>\n    <tr>\n      <th>1000115</th>\n      <td>9</td>\n      <td>5341</td>\n      <td>72.54</td>\n      <td>304</td>\n      <td>6.444444</td>\n      <td>0</td>\n      <td>0.0</td>\n      <td>0.00</td>\n      <td>0.0</td>\n      <td>0.0</td>\n      <td>...</td>\n      <td>0</td>\n      <td>0.0</td>\n      <td>0.00</td>\n      <td>0.0</td>\n      <td>0.0</td>\n      <td>0</td>\n      <td>0.0</td>\n      <td>0.00</td>\n      <td>0.0</td>\n      <td>0.0</td>\n    </tr>\n    <tr>\n      <th>1000146</th>\n      <td>20</td>\n      <td>14241</td>\n      <td>5240.91</td>\n      <td>1618</td>\n      <td>1.700000</td>\n      <td>0</td>\n      <td>0.0</td>\n      <td>0.00</td>\n      <td>0.0</td>\n      <td>0.0</td>\n      <td>...</td>\n      <td>0</td>\n      <td>0.0</td>\n      <td>0.00</td>\n      <td>0.0</td>\n      <td>0.0</td>\n      <td>0</td>\n      <td>0.0</td>\n      <td>0.00</td>\n      <td>0.0</td>\n      <td>0.0</td>\n    </tr>\n    <tr>\n      <th>1000147</th>\n      <td>58</td>\n      <td>669926</td>\n      <td>923640.98</td>\n      <td>119374</td>\n      <td>14.413793</td>\n      <td>1</td>\n      <td>415.0</td>\n      <td>13180.55</td>\n      <td>419.0</td>\n      <td>31.0</td>\n      <td>...</td>\n      <td>1</td>\n      <td>1534.0</td>\n      <td>15587.44</td>\n      <td>75.0</td>\n      <td>3.0</td>\n      <td>1</td>\n      <td>52.0</td>\n      <td>638.82</td>\n      <td>40.0</td>\n      <td>30.0</td>\n    </tr>\n    <tr>\n      <th>1000153</th>\n      <td>51</td>\n      <td>778968</td>\n      <td>6711136.17</td>\n      <td>87119</td>\n      <td>11.470588</td>\n      <td>1</td>\n      <td>456.0</td>\n      <td>9397.29</td>\n      <td>152.0</td>\n      <td>18.0</td>\n      <td>...</td>\n      <td>0</td>\n      <td>0.0</td>\n      <td>0.00</td>\n      <td>0.0</td>\n      <td>0.0</td>\n      <td>1</td>\n      <td>164.0</td>\n      <td>456.45</td>\n      <td>34.0</td>\n      <td>16.0</td>\n    </tr>\n    <tr>\n      <th>1000156</th>\n      <td>45</td>\n      <td>297646</td>\n      <td>936462.18</td>\n      <td>38095</td>\n      <td>8.066667</td>\n      <td>1</td>\n      <td>496.0</td>\n      <td>386.85</td>\n      <td>43.0</td>\n      <td>9.0</td>\n      <td>...</td>\n      <td>1</td>\n      <td>116.0</td>\n      <td>15.73</td>\n      <td>3.0</td>\n      <td>2.0</td>\n      <td>0</td>\n      <td>0.0</td>\n      <td>0.00</td>\n      <td>0.0</td>\n      <td>0.0</td>\n    </tr>\n    <tr>\n      <th>1000159</th>\n      <td>75</td>\n      <td>3626471</td>\n      <td>12832055.47</td>\n      <td>279202</td>\n      <td>15.773333</td>\n      <td>1</td>\n      <td>291.0</td>\n      <td>1371.93</td>\n      <td>69.0</td>\n      <td>21.0</td>\n      <td>...</td>\n      <td>1</td>\n      <td>329.0</td>\n      <td>10081.90</td>\n      <td>15.0</td>\n      <td>2.0</td>\n      <td>1</td>\n      <td>14.0</td>\n      <td>84.88</td>\n      <td>5.0</td>\n      <td>4.0</td>\n    </tr>\n    <tr>\n      <th>1000170</th>\n      <td>63</td>\n      <td>1892336</td>\n      <td>5800737.00</td>\n      <td>204596</td>\n      <td>12.730159</td>\n      <td>1</td>\n      <td>498.0</td>\n      <td>21978.79</td>\n      <td>117.0</td>\n      <td>14.0</td>\n      <td>...</td>\n      <td>1</td>\n      <td>412744.0</td>\n      <td>124306.30</td>\n      <td>9591.0</td>\n      <td>21.0</td>\n      <td>1</td>\n      <td>111.0</td>\n      <td>323.75</td>\n      <td>26.0</td>\n      <td>9.0</td>\n    </tr>\n    <tr>\n      <th>1000175</th>\n      <td>15</td>\n      <td>28511</td>\n      <td>296.47</td>\n      <td>1276</td>\n      <td>1.000000</td>\n      <td>0</td>\n      <td>0.0</td>\n      <td>0.00</td>\n      <td>0.0</td>\n      <td>0.0</td>\n      <td>...</td>\n      <td>0</td>\n      <td>0.0</td>\n      <td>0.00</td>\n      <td>0.0</td>\n      <td>0.0</td>\n      <td>0</td>\n      <td>0.0</td>\n      <td>0.00</td>\n      <td>0.0</td>\n      <td>0.0</td>\n    </tr>\n    <tr>\n      <th>1000195</th>\n      <td>64</td>\n      <td>2349490</td>\n      <td>1674315.69</td>\n      <td>279385</td>\n      <td>14.546875</td>\n      <td>1</td>\n      <td>5059.0</td>\n      <td>31853.89</td>\n      <td>1438.0</td>\n      <td>30.0</td>\n      <td>...</td>\n      <td>0</td>\n      <td>0.0</td>\n      <td>0.00</td>\n      <td>0.0</td>\n      <td>0.0</td>\n      <td>0</td>\n      <td>0.0</td>\n      <td>0.00</td>\n      <td>0.0</td>\n      <td>0.0</td>\n    </tr>\n    <tr>\n      <th>1000196</th>\n      <td>43</td>\n      <td>265593</td>\n      <td>437090.29</td>\n      <td>22563</td>\n      <td>10.953488</td>\n      <td>1</td>\n      <td>141.0</td>\n      <td>2415.76</td>\n      <td>49.0</td>\n      <td>10.0</td>\n      <td>...</td>\n      <td>0</td>\n      <td>0.0</td>\n      <td>0.00</td>\n      <td>0.0</td>\n      <td>0.0</td>\n      <td>1</td>\n      <td>14.0</td>\n      <td>31.08</td>\n      <td>4.0</td>\n      <td>2.0</td>\n    </tr>\n    <tr>\n      <th>1000199</th>\n      <td>64</td>\n      <td>486222</td>\n      <td>3327823.06</td>\n      <td>80070</td>\n      <td>16.062500</td>\n      <td>1</td>\n      <td>145.0</td>\n      <td>397.44</td>\n      <td>28.0</td>\n      <td>3.0</td>\n      <td>...</td>\n      <td>0</td>\n      <td>0.0</td>\n      <td>0.00</td>\n      <td>0.0</td>\n      <td>0.0</td>\n      <td>0</td>\n      <td>0.0</td>\n      <td>0.00</td>\n      <td>0.0</td>\n      <td>0.0</td>\n    </tr>\n    <tr>\n      <th>1000204</th>\n      <td>87</td>\n      <td>1672935</td>\n      <td>39633418.16</td>\n      <td>130928</td>\n      <td>12.172414</td>\n      <td>1</td>\n      <td>1849.0</td>\n      <td>23381.10</td>\n      <td>109.0</td>\n      <td>12.0</td>\n      <td>...</td>\n      <td>0</td>\n      <td>0.0</td>\n      <td>0.00</td>\n      <td>0.0</td>\n      <td>0.0</td>\n      <td>1</td>\n      <td>65.0</td>\n      <td>23.92</td>\n      <td>3.0</td>\n      <td>3.0</td>\n    </tr>\n    <tr>\n      <th>1000221</th>\n      <td>3</td>\n      <td>1772</td>\n      <td>58.29</td>\n      <td>60</td>\n      <td>1.000000</td>\n      <td>0</td>\n      <td>0.0</td>\n      <td>0.00</td>\n      <td>0.0</td>\n      <td>0.0</td>\n      <td>...</td>\n      <td>0</td>\n      <td>0.0</td>\n      <td>0.00</td>\n      <td>0.0</td>\n      <td>0.0</td>\n      <td>0</td>\n      <td>0.0</td>\n      <td>0.00</td>\n      <td>0.0</td>\n      <td>0.0</td>\n    </tr>\n    <tr>\n      <th>1000224</th>\n      <td>51</td>\n      <td>471828</td>\n      <td>1170477.90</td>\n      <td>48963</td>\n      <td>9.411765</td>\n      <td>1</td>\n      <td>214.0</td>\n      <td>6746.81</td>\n      <td>201.0</td>\n      <td>11.0</td>\n      <td>...</td>\n      <td>1</td>\n      <td>22.0</td>\n      <td>32.81</td>\n      <td>2.0</td>\n      <td>1.0</td>\n      <td>0</td>\n      <td>0.0</td>\n      <td>0.00</td>\n      <td>0.0</td>\n      <td>0.0</td>\n    </tr>\n    <tr>\n      <th>1000225</th>\n      <td>49</td>\n      <td>358253</td>\n      <td>535668.94</td>\n      <td>59816</td>\n      <td>6.714286</td>\n      <td>1</td>\n      <td>1524.0</td>\n      <td>50385.60</td>\n      <td>620.0</td>\n      <td>8.0</td>\n      <td>...</td>\n      <td>0</td>\n      <td>0.0</td>\n      <td>0.00</td>\n      <td>0.0</td>\n      <td>0.0</td>\n      <td>1</td>\n      <td>70.0</td>\n      <td>275.71</td>\n      <td>20.0</td>\n      <td>9.0</td>\n    </tr>\n  </tbody>\n</table>\n<p>30 rows × 290 columns</p>\n</div>"
     },
     "execution_count": 48,
     "metadata": {},
     "output_type": "execute_result"
    }
   ],
   "source": [
    "df_test_apps_features.head(30)"
   ],
   "metadata": {
    "collapsed": false,
    "pycharm": {
     "name": "#%%\n"
    }
   }
  },
  {
   "cell_type": "code",
   "execution_count": 47,
   "outputs": [],
   "source": [
    "df_test_apps_features.to_pickle('df_test_apps_new_features.pickle')"
   ],
   "metadata": {
    "collapsed": false,
    "pycharm": {
     "name": "#%%\n"
    }
   }
  },
  {
   "cell_type": "markdown",
   "source": [
    "### Попередні опрацювання - вибірка переліку додатків, які мають значення (кореляція та важливі фічі рандом форесту) - результат доданий до класу опрацювання"
   ],
   "metadata": {
    "collapsed": false,
    "pycharm": {
     "name": "#%% md\n"
    }
   }
  },
  {
   "cell_type": "code",
   "execution_count": 66,
   "outputs": [],
   "source": [
    "apps_feature_df = pd.read_pickle('new_apps_features.pickle')"
   ],
   "metadata": {
    "collapsed": false,
    "pycharm": {
     "name": "#%%\n"
    }
   }
  },
  {
   "cell_type": "code",
   "execution_count": 47,
   "outputs": [],
   "source": [
    "apps_feature_df = pd.read_pickle('new_apps_features.pickle')"
   ],
   "metadata": {
    "collapsed": false,
    "pycharm": {
     "name": "#%%\n"
    }
   }
  },
  {
   "cell_type": "code",
   "execution_count": 6,
   "outputs": [],
   "source": [
    "apps_feature_df.set_index('abon_id', drop=False, inplace=True)"
   ],
   "metadata": {
    "collapsed": false,
    "pycharm": {
     "name": "#%%\n"
    }
   }
  },
  {
   "cell_type": "code",
   "execution_count": 7,
   "outputs": [
    {
     "data": {
      "text/plain": "         abon_id  apps_unique  sum_duration_apps  sum_vol_kb_apps  \\\nabon_id                                                             \n1000009  1000009           34              75176           468047   \n1000012  1000012           37             136466           255361   \n1000015  1000015           50             265303          1066403   \n1000016  1000016            4                165               59   \n1000020  1000020           54             440335          1225030   \n\n         sum_of_cnt_events_apps  max_mean_day  17_app_present  \\\nabon_id                                                         \n1000009                    8280      3.735294               1   \n1000012                   11808      7.243243               1   \n1000015                   16498      5.640000               1   \n1000016                     107      3.000000               0   \n1000020                   34825      4.537037               1   \n\n         17_sum_duration_sec  17_sum_vol_kb  17_sum_cnt_events  ...  \\\nabon_id                                                         ...   \n1000009                    2              2                  8  ...   \n1000012                    3              3                  9  ...   \n1000015                    0              0                  1  ...   \n1000016                    0              0                  0  ...   \n1000020                    7              7                 11  ...   \n\n         894_app_present  894_sum_duration_sec  894_sum_vol_kb  \\\nabon_id                                                          \n1000009                0                     0               0   \n1000012                0                     0               0   \n1000015                0                     0               0   \n1000016                0                     0               0   \n1000020                0                     0               0   \n\n         894_sum_cnt_events  894_max_day_cnt  1132_app_present  \\\nabon_id                                                          \n1000009                   0                0                 0   \n1000012                   0                0                 0   \n1000015                   0                0                 0   \n1000016                   0                0                 0   \n1000020                   0                0                 0   \n\n         1132_sum_duration_sec  1132_sum_vol_kb  1132_sum_cnt_events  \\\nabon_id                                                                \n1000009                      0                0                    0   \n1000012                      0                0                    0   \n1000015                      0                0                    0   \n1000016                      0                0                    0   \n1000020                      0                0                    0   \n\n         1132_max_day_cnt  \nabon_id                    \n1000009                 0  \n1000012                 0  \n1000015                 0  \n1000016                 0  \n1000020                 0  \n\n[5 rows x 3601 columns]",
      "text/html": "<div>\n<style scoped>\n    .dataframe tbody tr th:only-of-type {\n        vertical-align: middle;\n    }\n\n    .dataframe tbody tr th {\n        vertical-align: top;\n    }\n\n    .dataframe thead th {\n        text-align: right;\n    }\n</style>\n<table border=\"1\" class=\"dataframe\">\n  <thead>\n    <tr style=\"text-align: right;\">\n      <th></th>\n      <th>abon_id</th>\n      <th>apps_unique</th>\n      <th>sum_duration_apps</th>\n      <th>sum_vol_kb_apps</th>\n      <th>sum_of_cnt_events_apps</th>\n      <th>max_mean_day</th>\n      <th>17_app_present</th>\n      <th>17_sum_duration_sec</th>\n      <th>17_sum_vol_kb</th>\n      <th>17_sum_cnt_events</th>\n      <th>...</th>\n      <th>894_app_present</th>\n      <th>894_sum_duration_sec</th>\n      <th>894_sum_vol_kb</th>\n      <th>894_sum_cnt_events</th>\n      <th>894_max_day_cnt</th>\n      <th>1132_app_present</th>\n      <th>1132_sum_duration_sec</th>\n      <th>1132_sum_vol_kb</th>\n      <th>1132_sum_cnt_events</th>\n      <th>1132_max_day_cnt</th>\n    </tr>\n    <tr>\n      <th>abon_id</th>\n      <th></th>\n      <th></th>\n      <th></th>\n      <th></th>\n      <th></th>\n      <th></th>\n      <th></th>\n      <th></th>\n      <th></th>\n      <th></th>\n      <th></th>\n      <th></th>\n      <th></th>\n      <th></th>\n      <th></th>\n      <th></th>\n      <th></th>\n      <th></th>\n      <th></th>\n      <th></th>\n      <th></th>\n    </tr>\n  </thead>\n  <tbody>\n    <tr>\n      <th>1000009</th>\n      <td>1000009</td>\n      <td>34</td>\n      <td>75176</td>\n      <td>468047</td>\n      <td>8280</td>\n      <td>3.735294</td>\n      <td>1</td>\n      <td>2</td>\n      <td>2</td>\n      <td>8</td>\n      <td>...</td>\n      <td>0</td>\n      <td>0</td>\n      <td>0</td>\n      <td>0</td>\n      <td>0</td>\n      <td>0</td>\n      <td>0</td>\n      <td>0</td>\n      <td>0</td>\n      <td>0</td>\n    </tr>\n    <tr>\n      <th>1000012</th>\n      <td>1000012</td>\n      <td>37</td>\n      <td>136466</td>\n      <td>255361</td>\n      <td>11808</td>\n      <td>7.243243</td>\n      <td>1</td>\n      <td>3</td>\n      <td>3</td>\n      <td>9</td>\n      <td>...</td>\n      <td>0</td>\n      <td>0</td>\n      <td>0</td>\n      <td>0</td>\n      <td>0</td>\n      <td>0</td>\n      <td>0</td>\n      <td>0</td>\n      <td>0</td>\n      <td>0</td>\n    </tr>\n    <tr>\n      <th>1000015</th>\n      <td>1000015</td>\n      <td>50</td>\n      <td>265303</td>\n      <td>1066403</td>\n      <td>16498</td>\n      <td>5.640000</td>\n      <td>1</td>\n      <td>0</td>\n      <td>0</td>\n      <td>1</td>\n      <td>...</td>\n      <td>0</td>\n      <td>0</td>\n      <td>0</td>\n      <td>0</td>\n      <td>0</td>\n      <td>0</td>\n      <td>0</td>\n      <td>0</td>\n      <td>0</td>\n      <td>0</td>\n    </tr>\n    <tr>\n      <th>1000016</th>\n      <td>1000016</td>\n      <td>4</td>\n      <td>165</td>\n      <td>59</td>\n      <td>107</td>\n      <td>3.000000</td>\n      <td>0</td>\n      <td>0</td>\n      <td>0</td>\n      <td>0</td>\n      <td>...</td>\n      <td>0</td>\n      <td>0</td>\n      <td>0</td>\n      <td>0</td>\n      <td>0</td>\n      <td>0</td>\n      <td>0</td>\n      <td>0</td>\n      <td>0</td>\n      <td>0</td>\n    </tr>\n    <tr>\n      <th>1000020</th>\n      <td>1000020</td>\n      <td>54</td>\n      <td>440335</td>\n      <td>1225030</td>\n      <td>34825</td>\n      <td>4.537037</td>\n      <td>1</td>\n      <td>7</td>\n      <td>7</td>\n      <td>11</td>\n      <td>...</td>\n      <td>0</td>\n      <td>0</td>\n      <td>0</td>\n      <td>0</td>\n      <td>0</td>\n      <td>0</td>\n      <td>0</td>\n      <td>0</td>\n      <td>0</td>\n      <td>0</td>\n    </tr>\n  </tbody>\n</table>\n<p>5 rows × 3601 columns</p>\n</div>"
     },
     "execution_count": 7,
     "metadata": {},
     "output_type": "execute_result"
    }
   ],
   "source": [
    "apps_feature_df.head(5)"
   ],
   "metadata": {
    "collapsed": false,
    "pycharm": {
     "name": "#%%\n"
    }
   }
  },
  {
   "cell_type": "code",
   "execution_count": 8,
   "outputs": [],
   "source": [
    "y_train_temp = train_main_fe.loc[:][['abon_id', 'target']]"
   ],
   "metadata": {
    "collapsed": false,
    "pycharm": {
     "name": "#%%\n"
    }
   }
  },
  {
   "cell_type": "code",
   "execution_count": 9,
   "outputs": [
    {
     "data": {
      "text/plain": "         target\nabon_id        \n1215806       0\n1215139       0\n1236635       0\n1205230       0\n1019270       0\n...         ...\n1229807       0\n1441477       0\n1446209       0\n1322323       0\n1492899       0\n\n[205625 rows x 1 columns]",
      "text/html": "<div>\n<style scoped>\n    .dataframe tbody tr th:only-of-type {\n        vertical-align: middle;\n    }\n\n    .dataframe tbody tr th {\n        vertical-align: top;\n    }\n\n    .dataframe thead th {\n        text-align: right;\n    }\n</style>\n<table border=\"1\" class=\"dataframe\">\n  <thead>\n    <tr style=\"text-align: right;\">\n      <th></th>\n      <th>target</th>\n    </tr>\n    <tr>\n      <th>abon_id</th>\n      <th></th>\n    </tr>\n  </thead>\n  <tbody>\n    <tr>\n      <th>1215806</th>\n      <td>0</td>\n    </tr>\n    <tr>\n      <th>1215139</th>\n      <td>0</td>\n    </tr>\n    <tr>\n      <th>1236635</th>\n      <td>0</td>\n    </tr>\n    <tr>\n      <th>1205230</th>\n      <td>0</td>\n    </tr>\n    <tr>\n      <th>1019270</th>\n      <td>0</td>\n    </tr>\n    <tr>\n      <th>...</th>\n      <td>...</td>\n    </tr>\n    <tr>\n      <th>1229807</th>\n      <td>0</td>\n    </tr>\n    <tr>\n      <th>1441477</th>\n      <td>0</td>\n    </tr>\n    <tr>\n      <th>1446209</th>\n      <td>0</td>\n    </tr>\n    <tr>\n      <th>1322323</th>\n      <td>0</td>\n    </tr>\n    <tr>\n      <th>1492899</th>\n      <td>0</td>\n    </tr>\n  </tbody>\n</table>\n<p>205625 rows × 1 columns</p>\n</div>"
     },
     "execution_count": 9,
     "metadata": {},
     "output_type": "execute_result"
    }
   ],
   "source": [
    "y_train_temp['target'] = pd.to_numeric(y_train_temp['target'], downcast='integer')\n",
    "y_train_temp['abon_id'] = pd.to_numeric(y_train_temp['abon_id'], downcast='integer')\n",
    "y_train_temp.set_index('abon_id', drop=True, inplace=True)\n",
    "y_train_temp"
   ],
   "metadata": {
    "collapsed": false,
    "pycharm": {
     "name": "#%%\n"
    }
   }
  },
  {
   "cell_type": "code",
   "execution_count": 10,
   "outputs": [],
   "source": [
    "apps_feature_df_w_target = apps_feature_df.join(y_train_temp, how='left')"
   ],
   "metadata": {
    "collapsed": false,
    "pycharm": {
     "name": "#%%\n"
    }
   }
  },
  {
   "cell_type": "code",
   "execution_count": 11,
   "outputs": [
    {
     "data": {
      "text/plain": "0"
     },
     "execution_count": 11,
     "metadata": {},
     "output_type": "execute_result"
    }
   ],
   "source": [
    "apps_feature_df_w_target['target'].isnull().sum()"
   ],
   "metadata": {
    "collapsed": false,
    "pycharm": {
     "name": "#%%\n"
    }
   }
  },
  {
   "cell_type": "code",
   "execution_count": 12,
   "outputs": [],
   "source": [
    "from sklearn.ensemble import RandomForestClassifier"
   ],
   "metadata": {
    "collapsed": false,
    "pycharm": {
     "name": "#%%\n"
    }
   }
  },
  {
   "cell_type": "code",
   "execution_count": 17,
   "outputs": [
    {
     "data": {
      "text/plain": "RandomForestClassifier(n_estimators=500, n_jobs=30)",
      "text/html": "<style>#sk-container-id-3 {color: black;background-color: white;}#sk-container-id-3 pre{padding: 0;}#sk-container-id-3 div.sk-toggleable {background-color: white;}#sk-container-id-3 label.sk-toggleable__label {cursor: pointer;display: block;width: 100%;margin-bottom: 0;padding: 0.3em;box-sizing: border-box;text-align: center;}#sk-container-id-3 label.sk-toggleable__label-arrow:before {content: \"▸\";float: left;margin-right: 0.25em;color: #696969;}#sk-container-id-3 label.sk-toggleable__label-arrow:hover:before {color: black;}#sk-container-id-3 div.sk-estimator:hover label.sk-toggleable__label-arrow:before {color: black;}#sk-container-id-3 div.sk-toggleable__content {max-height: 0;max-width: 0;overflow: hidden;text-align: left;background-color: #f0f8ff;}#sk-container-id-3 div.sk-toggleable__content pre {margin: 0.2em;color: black;border-radius: 0.25em;background-color: #f0f8ff;}#sk-container-id-3 input.sk-toggleable__control:checked~div.sk-toggleable__content {max-height: 200px;max-width: 100%;overflow: auto;}#sk-container-id-3 input.sk-toggleable__control:checked~label.sk-toggleable__label-arrow:before {content: \"▾\";}#sk-container-id-3 div.sk-estimator input.sk-toggleable__control:checked~label.sk-toggleable__label {background-color: #d4ebff;}#sk-container-id-3 div.sk-label input.sk-toggleable__control:checked~label.sk-toggleable__label {background-color: #d4ebff;}#sk-container-id-3 input.sk-hidden--visually {border: 0;clip: rect(1px 1px 1px 1px);clip: rect(1px, 1px, 1px, 1px);height: 1px;margin: -1px;overflow: hidden;padding: 0;position: absolute;width: 1px;}#sk-container-id-3 div.sk-estimator {font-family: monospace;background-color: #f0f8ff;border: 1px dotted black;border-radius: 0.25em;box-sizing: border-box;margin-bottom: 0.5em;}#sk-container-id-3 div.sk-estimator:hover {background-color: #d4ebff;}#sk-container-id-3 div.sk-parallel-item::after {content: \"\";width: 100%;border-bottom: 1px solid gray;flex-grow: 1;}#sk-container-id-3 div.sk-label:hover label.sk-toggleable__label {background-color: #d4ebff;}#sk-container-id-3 div.sk-serial::before {content: \"\";position: absolute;border-left: 1px solid gray;box-sizing: border-box;top: 0;bottom: 0;left: 50%;z-index: 0;}#sk-container-id-3 div.sk-serial {display: flex;flex-direction: column;align-items: center;background-color: white;padding-right: 0.2em;padding-left: 0.2em;position: relative;}#sk-container-id-3 div.sk-item {position: relative;z-index: 1;}#sk-container-id-3 div.sk-parallel {display: flex;align-items: stretch;justify-content: center;background-color: white;position: relative;}#sk-container-id-3 div.sk-item::before, #sk-container-id-3 div.sk-parallel-item::before {content: \"\";position: absolute;border-left: 1px solid gray;box-sizing: border-box;top: 0;bottom: 0;left: 50%;z-index: -1;}#sk-container-id-3 div.sk-parallel-item {display: flex;flex-direction: column;z-index: 1;position: relative;background-color: white;}#sk-container-id-3 div.sk-parallel-item:first-child::after {align-self: flex-end;width: 50%;}#sk-container-id-3 div.sk-parallel-item:last-child::after {align-self: flex-start;width: 50%;}#sk-container-id-3 div.sk-parallel-item:only-child::after {width: 0;}#sk-container-id-3 div.sk-dashed-wrapped {border: 1px dashed gray;margin: 0 0.4em 0.5em 0.4em;box-sizing: border-box;padding-bottom: 0.4em;background-color: white;}#sk-container-id-3 div.sk-label label {font-family: monospace;font-weight: bold;display: inline-block;line-height: 1.2em;}#sk-container-id-3 div.sk-label-container {text-align: center;}#sk-container-id-3 div.sk-container {/* jupyter's `normalize.less` sets `[hidden] { display: none; }` but bootstrap.min.css set `[hidden] { display: none !important; }` so we also need the `!important` here to be able to override the default hidden behavior on the sphinx rendered scikit-learn.org. See: https://github.com/scikit-learn/scikit-learn/issues/21755 */display: inline-block !important;position: relative;}#sk-container-id-3 div.sk-text-repr-fallback {display: none;}</style><div id=\"sk-container-id-3\" class=\"sk-top-container\"><div class=\"sk-text-repr-fallback\"><pre>RandomForestClassifier(n_estimators=500, n_jobs=30)</pre><b>In a Jupyter environment, please rerun this cell to show the HTML representation or trust the notebook. <br />On GitHub, the HTML representation is unable to render, please try loading this page with nbviewer.org.</b></div><div class=\"sk-container\" hidden><div class=\"sk-item\"><div class=\"sk-estimator sk-toggleable\"><input class=\"sk-toggleable__control sk-hidden--visually\" id=\"sk-estimator-id-3\" type=\"checkbox\" checked><label for=\"sk-estimator-id-3\" class=\"sk-toggleable__label sk-toggleable__label-arrow\">RandomForestClassifier</label><div class=\"sk-toggleable__content\"><pre>RandomForestClassifier(n_estimators=500, n_jobs=30)</pre></div></div></div></div></div>"
     },
     "execution_count": 17,
     "metadata": {},
     "output_type": "execute_result"
    }
   ],
   "source": [
    "clf = RandomForestClassifier(n_estimators=500, n_jobs=30)\n",
    "clf.fit(apps_feature_df_w_target.drop(columns=['target']), apps_feature_df_w_target['target'])"
   ],
   "metadata": {
    "collapsed": false,
    "pycharm": {
     "name": "#%%\n"
    }
   }
  },
  {
   "cell_type": "code",
   "execution_count": 29,
   "outputs": [],
   "source": [
    "imp_vals = clf.feature_importances_"
   ],
   "metadata": {
    "collapsed": false,
    "pycharm": {
     "name": "#%%\n"
    }
   }
  },
  {
   "cell_type": "code",
   "execution_count": 38,
   "outputs": [
    {
     "data": {
      "text/plain": "abon_id                   1.542030e-02\napps_unique               4.924587e-03\nsum_duration_apps         8.161747e-03\nsum_vol_kb_apps           7.013348e-03\nsum_of_cnt_events_apps    7.191081e-03\n                              ...     \n1132_app_present          0.000000e+00\n1132_sum_duration_sec     0.000000e+00\n1132_sum_vol_kb           0.000000e+00\n1132_sum_cnt_events       3.744302e-08\n1132_max_day_cnt          4.992679e-08\nLength: 3601, dtype: float64"
     },
     "execution_count": 38,
     "metadata": {},
     "output_type": "execute_result"
    }
   ],
   "source": [
    "imp_names = apps_feature_df_w_target.drop(columns=['target']).columns.tolist()\n",
    "impot_fea = pd.Series(index=list(imp_names), data=imp_vals)\n",
    "impot_fea"
   ],
   "metadata": {
    "collapsed": false,
    "pycharm": {
     "name": "#%%\n"
    }
   }
  },
  {
   "cell_type": "code",
   "execution_count": 49,
   "outputs": [],
   "source": [
    "high_imp_list = impot_fea.loc[impot_fea > 0.0033].index.tolist()"
   ],
   "metadata": {
    "collapsed": false,
    "pycharm": {
     "name": "#%%\n"
    }
   }
  },
  {
   "cell_type": "code",
   "execution_count": 25,
   "outputs": [
    {
     "data": {
      "text/plain": "abon_id                   0.047744\napps_unique               0.006195\nsum_duration_apps         0.037300\nsum_vol_kb_apps           0.024853\nsum_of_cnt_events_apps    0.028926\n                            ...   \n1132_sum_duration_sec    -0.001559\n1132_sum_vol_kb          -0.001559\n1132_sum_cnt_events      -0.001559\n1132_max_day_cnt         -0.001559\ntarget                    1.000000\nLength: 3602, dtype: float64"
     },
     "execution_count": 25,
     "metadata": {},
     "output_type": "execute_result"
    }
   ],
   "source": [
    "temp_corr_mtx = apps_feature_df_w_target.corrwith(apps_feature_df_w_target['target'], axis=0)"
   ],
   "metadata": {
    "collapsed": false,
    "pycharm": {
     "name": "#%%\n"
    }
   }
  },
  {
   "cell_type": "code",
   "execution_count": 42,
   "outputs": [
    {
     "data": {
      "text/plain": "abon_id                   0.047744\napps_unique               0.006195\nsum_duration_apps         0.037300\nsum_vol_kb_apps           0.024853\nsum_of_cnt_events_apps    0.028926\n                            ...   \n1132_sum_duration_sec     0.001559\n1132_sum_vol_kb           0.001559\n1132_sum_cnt_events       0.001559\n1132_max_day_cnt          0.001559\ntarget                    1.000000\nLength: 3602, dtype: float64"
     },
     "execution_count": 42,
     "metadata": {},
     "output_type": "execute_result"
    }
   ],
   "source": [
    "temp_corr_mtx_abs = np.abs(temp_corr_mtx)\n",
    "temp_corr_mtx_abs"
   ],
   "metadata": {
    "collapsed": false,
    "pycharm": {
     "name": "#%%\n"
    }
   }
  },
  {
   "cell_type": "code",
   "execution_count": 59,
   "outputs": [],
   "source": [
    "high_target_list = temp_corr_mtx_abs.loc[temp_corr_mtx_abs > 0.02].index.tolist()"
   ],
   "metadata": {
    "collapsed": false,
    "pycharm": {
     "name": "#%%\n"
    }
   }
  },
  {
   "cell_type": "code",
   "execution_count": 64,
   "outputs": [
    {
     "data": {
      "text/plain": "138"
     },
     "execution_count": 64,
     "metadata": {},
     "output_type": "execute_result"
    }
   ],
   "source": [
    "apps_selected_colnames = set(high_target_list).union(set(high_imp_list))\n",
    "apps_selected_colnames = apps_selected_colnames - {'abon_id', 'target'}\n",
    "len(apps_selected_colnames)"
   ],
   "metadata": {
    "collapsed": false,
    "pycharm": {
     "name": "#%%\n"
    }
   }
  },
  {
   "cell_type": "code",
   "execution_count": 70,
   "outputs": [
    {
     "data": {
      "text/plain": "{'1023_app_present',\n '1023_max_day_cnt',\n '1111_app_present',\n '1111_max_day_cnt',\n '1127_app_present',\n '1127_max_day_cnt',\n '1280_app_present',\n '1345_sum_cnt_events',\n '1345_sum_duration_sec',\n '1345_sum_vol_kb',\n '1347_sum_duration_sec',\n '1357_app_present',\n '1357_max_day_cnt',\n '1365_sum_cnt_events',\n '1365_sum_duration_sec',\n '1365_sum_vol_kb',\n '1367_max_day_cnt',\n '1406_app_present',\n '1406_max_day_cnt',\n '1406_sum_cnt_events',\n '1406_sum_duration_sec',\n '1411_max_day_cnt',\n '1411_sum_cnt_events',\n '1412_app_present',\n '1412_max_day_cnt',\n '1413_app_present',\n '1457_max_day_cnt',\n '1459_app_present',\n '1459_max_day_cnt',\n '1464_max_day_cnt',\n '1464_sum_cnt_events',\n '1476_app_present',\n '1476_max_day_cnt',\n '1490_app_present',\n '1490_max_day_cnt',\n '15_max_day_cnt',\n '1863_sum_duration_sec',\n '1893_app_present',\n '1893_max_day_cnt',\n '232_sum_cnt_events',\n '232_sum_duration_sec',\n '232_sum_vol_kb',\n '246_sum_cnt_events',\n '246_sum_duration_sec',\n '246_sum_vol_kb',\n '249_max_day_cnt',\n '249_sum_cnt_events',\n '249_sum_duration_sec',\n '249_sum_vol_kb',\n '250_max_day_cnt',\n '250_sum_cnt_events',\n '250_sum_duration_sec',\n '250_sum_vol_kb',\n '266_max_day_cnt',\n '299_app_present',\n '307_app_present',\n '373_sum_cnt_events',\n '373_sum_duration_sec',\n '373_sum_vol_kb',\n '538_sum_cnt_events',\n '538_sum_duration_sec',\n '538_sum_vol_kb',\n '580_max_day_cnt',\n '580_sum_cnt_events',\n '580_sum_duration_sec',\n '580_sum_vol_kb',\n '590_app_present',\n '590_sum_cnt_events',\n '590_sum_duration_sec',\n '590_sum_vol_kb',\n '596_sum_cnt_events',\n '669_max_day_cnt',\n '669_sum_cnt_events',\n '669_sum_duration_sec',\n '669_sum_vol_kb',\n '670_sum_cnt_events',\n '670_sum_duration_sec',\n '670_sum_vol_kb',\n '675_app_present',\n '675_max_day_cnt',\n '682_sum_cnt_events',\n '682_sum_duration_sec',\n '682_sum_vol_kb',\n '689_sum_duration_sec',\n '697_max_day_cnt',\n '697_sum_cnt_events',\n '703_max_day_cnt',\n '708_sum_cnt_events',\n '708_sum_duration_sec',\n '708_sum_vol_kb',\n '722_app_present',\n '722_max_day_cnt',\n '769_sum_duration_sec',\n '782_app_present',\n '782_max_day_cnt',\n '800_max_day_cnt',\n '803_app_present',\n '803_max_day_cnt',\n '806_app_present',\n '806_max_day_cnt',\n '806_sum_cnt_events',\n '806_sum_duration_sec',\n '806_sum_vol_kb',\n '807_max_day_cnt',\n '812_app_present',\n '812_max_day_cnt',\n '822_app_present',\n '824_sum_cnt_events',\n '824_sum_duration_sec',\n '824_sum_vol_kb',\n '826_max_day_cnt',\n '836_max_day_cnt',\n '836_sum_cnt_events',\n '836_sum_vol_kb',\n '839_max_day_cnt',\n '842_sum_cnt_events',\n '842_sum_duration_sec',\n '842_sum_vol_kb',\n '869_sum_cnt_events',\n '869_sum_duration_sec',\n '869_sum_vol_kb',\n '876_app_present',\n '876_max_day_cnt',\n '876_sum_duration_sec',\n '889_app_present',\n '889_max_day_cnt',\n '889_sum_cnt_events',\n '889_sum_duration_sec',\n '889_sum_vol_kb',\n '901_sum_cnt_events',\n '904_app_present',\n '904_max_day_cnt',\n '940_max_day_cnt',\n 'apps_unique',\n 'max_mean_day',\n 'sum_duration_apps',\n 'sum_of_cnt_events_apps',\n 'sum_vol_kb_apps'}"
     },
     "execution_count": 70,
     "metadata": {},
     "output_type": "execute_result"
    }
   ],
   "source": [
    "apps_selected_colnames"
   ],
   "metadata": {
    "collapsed": false,
    "pycharm": {
     "name": "#%%\n"
    }
   }
  },
  {
   "cell_type": "code",
   "execution_count": null,
   "outputs": [],
   "source": [
    "apps_selected_colnames = {'1023_app_present',\n",
    " '1023_max_day_cnt',\n",
    " '1111_app_present',\n",
    " '1111_max_day_cnt',\n",
    " '1127_app_present',\n",
    " '1127_max_day_cnt',\n",
    " '1280_app_present',\n",
    " '1345_sum_cnt_events',\n",
    " '1345_sum_duration_sec',\n",
    " '1345_sum_vol_kb',\n",
    " '1347_sum_duration_sec',\n",
    " '1357_app_present',\n",
    " '1357_max_day_cnt',\n",
    " '1365_sum_cnt_events',\n",
    " '1365_sum_duration_sec',\n",
    " '1365_sum_vol_kb',\n",
    " '1367_max_day_cnt',\n",
    " '1406_app_present',\n",
    " '1406_max_day_cnt',\n",
    " '1406_sum_cnt_events',\n",
    " '1406_sum_duration_sec',\n",
    " '1411_max_day_cnt',\n",
    " '1411_sum_cnt_events',\n",
    " '1412_app_present',\n",
    " '1412_max_day_cnt',\n",
    " '1413_app_present',\n",
    " '1457_max_day_cnt',\n",
    " '1459_app_present',\n",
    " '1459_max_day_cnt',\n",
    " '1464_max_day_cnt',\n",
    " '1464_sum_cnt_events',\n",
    " '1476_app_present',\n",
    " '1476_max_day_cnt',\n",
    " '1490_app_present',\n",
    " '1490_max_day_cnt',\n",
    " '15_max_day_cnt',\n",
    " '1863_sum_duration_sec',\n",
    " '1893_app_present',\n",
    " '1893_max_day_cnt',\n",
    " '232_sum_cnt_events',\n",
    " '232_sum_duration_sec',\n",
    " '232_sum_vol_kb',\n",
    " '246_sum_cnt_events',\n",
    " '246_sum_duration_sec',\n",
    " '246_sum_vol_kb',\n",
    " '249_max_day_cnt',\n",
    " '249_sum_cnt_events',\n",
    " '249_sum_duration_sec',\n",
    " '249_sum_vol_kb',\n",
    " '250_max_day_cnt',\n",
    " '250_sum_cnt_events',\n",
    " '250_sum_duration_sec',\n",
    " '250_sum_vol_kb',\n",
    " '266_max_day_cnt',\n",
    " '299_app_present',\n",
    " '307_app_present',\n",
    " '373_sum_cnt_events',\n",
    " '373_sum_duration_sec',\n",
    " '373_sum_vol_kb',\n",
    " '538_sum_cnt_events',\n",
    " '538_sum_duration_sec',\n",
    " '538_sum_vol_kb',\n",
    " '580_max_day_cnt',\n",
    " '580_sum_cnt_events',\n",
    " '580_sum_duration_sec',\n",
    " '580_sum_vol_kb',\n",
    " '590_app_present',\n",
    " '590_sum_cnt_events',\n",
    " '590_sum_duration_sec',\n",
    " '590_sum_vol_kb',\n",
    " '596_sum_cnt_events',\n",
    " '669_max_day_cnt',\n",
    " '669_sum_cnt_events',\n",
    " '669_sum_duration_sec',\n",
    " '669_sum_vol_kb',\n",
    " '670_sum_cnt_events',\n",
    " '670_sum_duration_sec',\n",
    " '670_sum_vol_kb',\n",
    " '675_app_present',\n",
    " '675_max_day_cnt',\n",
    " '682_sum_cnt_events',\n",
    " '682_sum_duration_sec',\n",
    " '682_sum_vol_kb',\n",
    " '689_sum_duration_sec',\n",
    " '697_max_day_cnt',\n",
    " '697_sum_cnt_events',\n",
    " '703_max_day_cnt',\n",
    " '708_sum_cnt_events',\n",
    " '708_sum_duration_sec',\n",
    " '708_sum_vol_kb',\n",
    " '722_app_present',\n",
    " '722_max_day_cnt',\n",
    " '769_sum_duration_sec',\n",
    " '782_app_present',\n",
    " '782_max_day_cnt',\n",
    " '800_max_day_cnt',\n",
    " '803_app_present',\n",
    " '803_max_day_cnt',\n",
    " '806_app_present',\n",
    " '806_max_day_cnt',\n",
    " '806_sum_cnt_events',\n",
    " '806_sum_duration_sec',\n",
    " '806_sum_vol_kb',\n",
    " '807_max_day_cnt',\n",
    " '812_app_present',\n",
    " '812_max_day_cnt',\n",
    " '822_app_present',\n",
    " '824_sum_cnt_events',\n",
    " '824_sum_duration_sec',\n",
    " '824_sum_vol_kb',\n",
    " '826_max_day_cnt',\n",
    " '836_max_day_cnt',\n",
    " '836_sum_cnt_events',\n",
    " '836_sum_vol_kb',\n",
    " '839_max_day_cnt',\n",
    " '842_sum_cnt_events',\n",
    " '842_sum_duration_sec',\n",
    " '842_sum_vol_kb',\n",
    " '869_sum_cnt_events',\n",
    " '869_sum_duration_sec',\n",
    " '869_sum_vol_kb',\n",
    " '876_app_present',\n",
    " '876_max_day_cnt',\n",
    " '876_sum_duration_sec',\n",
    " '889_app_present',\n",
    " '889_max_day_cnt',\n",
    " '889_sum_cnt_events',\n",
    " '889_sum_duration_sec',\n",
    " '889_sum_vol_kb',\n",
    " '901_sum_cnt_events',\n",
    " '904_app_present',\n",
    " '904_max_day_cnt',\n",
    " '940_max_day_cnt',\n",
    " 'apps_unique',\n",
    " 'max_mean_day',\n",
    " 'sum_duration_apps',\n",
    " 'sum_of_cnt_events_apps',\n",
    " 'sum_vol_kb_apps'}"
   ],
   "metadata": {
    "collapsed": false,
    "pycharm": {
     "name": "#%%\n"
    }
   }
  },
  {
   "cell_type": "code",
   "execution_count": 66,
   "outputs": [
    {
     "data": {
      "text/plain": "         836_max_day_cnt  538_sum_duration_sec  1406_sum_duration_sec  \\\nabon_id                                                                 \n1000009                0                  1392                      0   \n1000012                0                   238                      0   \n1000015                0                  1561                  28385   \n1000016                0                     0                      0   \n1000020                0                  5304                      0   \n...                  ...                   ...                    ...   \n1888199                2                 15605                  23282   \n1888201                0                     0                      0   \n1888203                0                  1537                      0   \n1888218                8                     0                      0   \n1888225                7                   409                    102   \n\n         842_sum_vol_kb  803_max_day_cnt  250_max_day_cnt  889_sum_vol_kb  \\\nabon_id                                                                     \n1000009           18005                0                4               0   \n1000012           19885                0               14           13670   \n1000015            8106                0               14           27808   \n1000016               0                0                1               0   \n1000020           33082                0                8               0   \n...                 ...              ...              ...             ...   \n1888199           46862                0               26          952918   \n1888201               0                0                2               0   \n1888203            3078                0               18               0   \n1888218               2                0                1               0   \n1888225            1678                0                8              74   \n\n         901_sum_cnt_events  689_sum_duration_sec  806_sum_cnt_events  ...  \\\nabon_id                                                                ...   \n1000009                   0                    70                  60  ...   \n1000012                   0                   964                   7  ...   \n1000015                   0                    30                1010  ...   \n1000016                   0                     0                   0  ...   \n1000020                   0                   915                  31  ...   \n...                     ...                   ...                 ...  ...   \n1888199                   0                   749                1326  ...   \n1888201                   0                     0                   0  ...   \n1888203                   0                     4                   0  ...   \n1888218                   0                     0                   0  ...   \n1888225                   0                     0                   3  ...   \n\n         824_sum_duration_sec  1464_sum_cnt_events  876_max_day_cnt  \\\nabon_id                                                               \n1000009                   202                    0                0   \n1000012                    70                    0                0   \n1000015                  2120                   29                0   \n1000016                     0                    0                0   \n1000020                    62                    0                0   \n...                       ...                  ...              ...   \n1888199                   100                   64                0   \n1888201                     0                    0                0   \n1888203                  1718                    0                0   \n1888218                     0                    0                0   \n1888225                     0                    0                0   \n\n         307_app_present  1367_max_day_cnt  590_sum_vol_kb  1023_app_present  \\\nabon_id                                                                        \n1000009                0                 0             405                 1   \n1000012                0                 0             465                 0   \n1000015                0                 0            1125                 1   \n1000016                0                 0              57                 0   \n1000020                1                 0            1121                 0   \n...                  ...               ...             ...               ...   \n1888199                0                 2            3327                 1   \n1888201                0                 0               0                 0   \n1888203                0                 0             974                 0   \n1888218                0                 8            1451                 0   \n1888225                0                 3             252                 0   \n\n         538_sum_vol_kb  1357_max_day_cnt  250_sum_vol_kb  \nabon_id                                                    \n1000009             538                 0           11306  \n1000012             522                 8           80340  \n1000015             467                 0           21670  \n1000016               0                 0               1  \n1000020            1796                 0          216378  \n...                 ...               ...             ...  \n1888199            5140                21           18392  \n1888201               0                 0               0  \n1888203             342                 0           12606  \n1888218               0                 0              20  \n1888225             477                 0            1998  \n\n[140830 rows x 138 columns]",
      "text/html": "<div>\n<style scoped>\n    .dataframe tbody tr th:only-of-type {\n        vertical-align: middle;\n    }\n\n    .dataframe tbody tr th {\n        vertical-align: top;\n    }\n\n    .dataframe thead th {\n        text-align: right;\n    }\n</style>\n<table border=\"1\" class=\"dataframe\">\n  <thead>\n    <tr style=\"text-align: right;\">\n      <th></th>\n      <th>836_max_day_cnt</th>\n      <th>538_sum_duration_sec</th>\n      <th>1406_sum_duration_sec</th>\n      <th>842_sum_vol_kb</th>\n      <th>803_max_day_cnt</th>\n      <th>250_max_day_cnt</th>\n      <th>889_sum_vol_kb</th>\n      <th>901_sum_cnt_events</th>\n      <th>689_sum_duration_sec</th>\n      <th>806_sum_cnt_events</th>\n      <th>...</th>\n      <th>824_sum_duration_sec</th>\n      <th>1464_sum_cnt_events</th>\n      <th>876_max_day_cnt</th>\n      <th>307_app_present</th>\n      <th>1367_max_day_cnt</th>\n      <th>590_sum_vol_kb</th>\n      <th>1023_app_present</th>\n      <th>538_sum_vol_kb</th>\n      <th>1357_max_day_cnt</th>\n      <th>250_sum_vol_kb</th>\n    </tr>\n    <tr>\n      <th>abon_id</th>\n      <th></th>\n      <th></th>\n      <th></th>\n      <th></th>\n      <th></th>\n      <th></th>\n      <th></th>\n      <th></th>\n      <th></th>\n      <th></th>\n      <th></th>\n      <th></th>\n      <th></th>\n      <th></th>\n      <th></th>\n      <th></th>\n      <th></th>\n      <th></th>\n      <th></th>\n      <th></th>\n      <th></th>\n    </tr>\n  </thead>\n  <tbody>\n    <tr>\n      <th>1000009</th>\n      <td>0</td>\n      <td>1392</td>\n      <td>0</td>\n      <td>18005</td>\n      <td>0</td>\n      <td>4</td>\n      <td>0</td>\n      <td>0</td>\n      <td>70</td>\n      <td>60</td>\n      <td>...</td>\n      <td>202</td>\n      <td>0</td>\n      <td>0</td>\n      <td>0</td>\n      <td>0</td>\n      <td>405</td>\n      <td>1</td>\n      <td>538</td>\n      <td>0</td>\n      <td>11306</td>\n    </tr>\n    <tr>\n      <th>1000012</th>\n      <td>0</td>\n      <td>238</td>\n      <td>0</td>\n      <td>19885</td>\n      <td>0</td>\n      <td>14</td>\n      <td>13670</td>\n      <td>0</td>\n      <td>964</td>\n      <td>7</td>\n      <td>...</td>\n      <td>70</td>\n      <td>0</td>\n      <td>0</td>\n      <td>0</td>\n      <td>0</td>\n      <td>465</td>\n      <td>0</td>\n      <td>522</td>\n      <td>8</td>\n      <td>80340</td>\n    </tr>\n    <tr>\n      <th>1000015</th>\n      <td>0</td>\n      <td>1561</td>\n      <td>28385</td>\n      <td>8106</td>\n      <td>0</td>\n      <td>14</td>\n      <td>27808</td>\n      <td>0</td>\n      <td>30</td>\n      <td>1010</td>\n      <td>...</td>\n      <td>2120</td>\n      <td>29</td>\n      <td>0</td>\n      <td>0</td>\n      <td>0</td>\n      <td>1125</td>\n      <td>1</td>\n      <td>467</td>\n      <td>0</td>\n      <td>21670</td>\n    </tr>\n    <tr>\n      <th>1000016</th>\n      <td>0</td>\n      <td>0</td>\n      <td>0</td>\n      <td>0</td>\n      <td>0</td>\n      <td>1</td>\n      <td>0</td>\n      <td>0</td>\n      <td>0</td>\n      <td>0</td>\n      <td>...</td>\n      <td>0</td>\n      <td>0</td>\n      <td>0</td>\n      <td>0</td>\n      <td>0</td>\n      <td>57</td>\n      <td>0</td>\n      <td>0</td>\n      <td>0</td>\n      <td>1</td>\n    </tr>\n    <tr>\n      <th>1000020</th>\n      <td>0</td>\n      <td>5304</td>\n      <td>0</td>\n      <td>33082</td>\n      <td>0</td>\n      <td>8</td>\n      <td>0</td>\n      <td>0</td>\n      <td>915</td>\n      <td>31</td>\n      <td>...</td>\n      <td>62</td>\n      <td>0</td>\n      <td>0</td>\n      <td>1</td>\n      <td>0</td>\n      <td>1121</td>\n      <td>0</td>\n      <td>1796</td>\n      <td>0</td>\n      <td>216378</td>\n    </tr>\n    <tr>\n      <th>...</th>\n      <td>...</td>\n      <td>...</td>\n      <td>...</td>\n      <td>...</td>\n      <td>...</td>\n      <td>...</td>\n      <td>...</td>\n      <td>...</td>\n      <td>...</td>\n      <td>...</td>\n      <td>...</td>\n      <td>...</td>\n      <td>...</td>\n      <td>...</td>\n      <td>...</td>\n      <td>...</td>\n      <td>...</td>\n      <td>...</td>\n      <td>...</td>\n      <td>...</td>\n      <td>...</td>\n    </tr>\n    <tr>\n      <th>1888199</th>\n      <td>2</td>\n      <td>15605</td>\n      <td>23282</td>\n      <td>46862</td>\n      <td>0</td>\n      <td>26</td>\n      <td>952918</td>\n      <td>0</td>\n      <td>749</td>\n      <td>1326</td>\n      <td>...</td>\n      <td>100</td>\n      <td>64</td>\n      <td>0</td>\n      <td>0</td>\n      <td>2</td>\n      <td>3327</td>\n      <td>1</td>\n      <td>5140</td>\n      <td>21</td>\n      <td>18392</td>\n    </tr>\n    <tr>\n      <th>1888201</th>\n      <td>0</td>\n      <td>0</td>\n      <td>0</td>\n      <td>0</td>\n      <td>0</td>\n      <td>2</td>\n      <td>0</td>\n      <td>0</td>\n      <td>0</td>\n      <td>0</td>\n      <td>...</td>\n      <td>0</td>\n      <td>0</td>\n      <td>0</td>\n      <td>0</td>\n      <td>0</td>\n      <td>0</td>\n      <td>0</td>\n      <td>0</td>\n      <td>0</td>\n      <td>0</td>\n    </tr>\n    <tr>\n      <th>1888203</th>\n      <td>0</td>\n      <td>1537</td>\n      <td>0</td>\n      <td>3078</td>\n      <td>0</td>\n      <td>18</td>\n      <td>0</td>\n      <td>0</td>\n      <td>4</td>\n      <td>0</td>\n      <td>...</td>\n      <td>1718</td>\n      <td>0</td>\n      <td>0</td>\n      <td>0</td>\n      <td>0</td>\n      <td>974</td>\n      <td>0</td>\n      <td>342</td>\n      <td>0</td>\n      <td>12606</td>\n    </tr>\n    <tr>\n      <th>1888218</th>\n      <td>8</td>\n      <td>0</td>\n      <td>0</td>\n      <td>2</td>\n      <td>0</td>\n      <td>1</td>\n      <td>0</td>\n      <td>0</td>\n      <td>0</td>\n      <td>0</td>\n      <td>...</td>\n      <td>0</td>\n      <td>0</td>\n      <td>0</td>\n      <td>0</td>\n      <td>8</td>\n      <td>1451</td>\n      <td>0</td>\n      <td>0</td>\n      <td>0</td>\n      <td>20</td>\n    </tr>\n    <tr>\n      <th>1888225</th>\n      <td>7</td>\n      <td>409</td>\n      <td>102</td>\n      <td>1678</td>\n      <td>0</td>\n      <td>8</td>\n      <td>74</td>\n      <td>0</td>\n      <td>0</td>\n      <td>3</td>\n      <td>...</td>\n      <td>0</td>\n      <td>0</td>\n      <td>0</td>\n      <td>0</td>\n      <td>3</td>\n      <td>252</td>\n      <td>0</td>\n      <td>477</td>\n      <td>0</td>\n      <td>1998</td>\n    </tr>\n  </tbody>\n</table>\n<p>140830 rows × 138 columns</p>\n</div>"
     },
     "execution_count": 66,
     "metadata": {},
     "output_type": "execute_result"
    }
   ],
   "source": [
    "train_apps_df_selected = apps_feature_df.loc[:][list(apps_selected_colnames)]\n",
    "train_apps_df_selected"
   ],
   "metadata": {
    "collapsed": false,
    "pycharm": {
     "name": "#%%\n"
    }
   }
  },
  {
   "cell_type": "code",
   "execution_count": 67,
   "outputs": [],
   "source": [
    "#train_apps_df_selected.to_pickle('train_apps_df_selected.pickle')"
   ],
   "metadata": {
    "collapsed": false,
    "pycharm": {
     "name": "#%%\n"
    }
   }
  },
  {
   "cell_type": "markdown",
   "source": [
    "# Поєднання основного датафрейму фіч з підготовленими датафреймами додатків та сервісів"
   ],
   "metadata": {
    "collapsed": false,
    "pycharm": {
     "name": "#%% md\n"
    }
   }
  },
  {
   "cell_type": "code",
   "execution_count": 4,
   "outputs": [],
   "source": [
    "df_tr_main = pd.read_pickle('df_train_main_converted_with_spatial.pickle')\n",
    "df_tr_apps = pd.read_pickle('df_train_apps_new_features.pickle')\n",
    "df_tr_serv = pd.read_pickle('df_train_service_new_features.pickle')"
   ],
   "metadata": {
    "collapsed": false,
    "pycharm": {
     "name": "#%%\n"
    }
   }
  },
  {
   "cell_type": "code",
   "execution_count": 5,
   "outputs": [],
   "source": [
    "\n",
    "df_tr_comb = df_tr_main.join(df_tr_apps, how='left')\n",
    "df_tr_comb = df_tr_comb.join(df_tr_serv, how='left')\n",
    "df_tr_comb.fillna(0, inplace=True)\n",
    "df_tr_target = df_tr_comb['target']\n",
    "df_tr_comb.drop(columns=['target'], inplace=True)\n",
    "\n",
    "# for col in df_tr_comb.columns:\n",
    "#     if col not in selected_features:\n",
    "#         df_tr_comb.drop(columns=[col], inplace=True)\n",
    "#         print(f'For TRAIN DF column \"{col}\" - was dropped')\n",
    "columns_order = df_tr_comb.columns.tolist()\n",
    "df_tr_comb = df_tr_comb.join(df_tr_target, how='left')\n",
    "assert df_tr_comb.isnull().sum().sum() == 0\n",
    "df_tr_comb.reset_index(inplace=True, drop=True)\n",
    "X_train = df_tr_comb.drop(columns=['target'])\n",
    "y_train = df_tr_comb['target']"
   ],
   "metadata": {
    "collapsed": false,
    "pycharm": {
     "name": "#%%\n"
    }
   }
  },
  {
   "cell_type": "code",
   "execution_count": 6,
   "outputs": [
    {
     "data": {
      "text/plain": "(205625, 1207)"
     },
     "execution_count": 6,
     "metadata": {},
     "output_type": "execute_result"
    }
   ],
   "source": [
    "X_train.shape"
   ],
   "metadata": {
    "collapsed": false,
    "pycharm": {
     "name": "#%%\n"
    }
   }
  },
  {
   "cell_type": "code",
   "execution_count": 5,
   "outputs": [
    {
     "data": {
      "text/plain": "(205625,)"
     },
     "execution_count": 5,
     "metadata": {},
     "output_type": "execute_result"
    }
   ],
   "source": [
    "y_train.shape"
   ],
   "metadata": {
    "collapsed": false,
    "pycharm": {
     "name": "#%%\n"
    }
   }
  },
  {
   "cell_type": "code",
   "execution_count": 8,
   "outputs": [],
   "source": [
    "df_te_main = pd.read_pickle('df_test_main_converted_with_spatial.pickle')\n",
    "df_te_main.set_index('abon_id', inplace=True, drop=True)\n",
    "df_te_apps = pd.read_pickle('df_test_apps_new_features.pickle')\n",
    "\n",
    "df_te_serv = pd.read_pickle('df_test_service_new_features.pickle')\n",
    "df_te_comb = df_te_main.join(df_te_apps, how='left')\n",
    "df_te_comb = df_te_comb.join(df_te_serv, how='left')\n",
    "df_te_comb.fillna(0, inplace=True)\n",
    "df_te_target = test_target.set_index('abon_id', drop=True)\n",
    "\n",
    "# for col in df_te_comb.columns:\n",
    "#     if col not in selected_features:\n",
    "#         df_te_comb.drop(columns=[col], inplace=True)\n",
    "#         print(f'For TEST DF column \"{col}\" - was dropped')\n",
    "\n",
    "df_te_comb = df_te_comb[columns_order]\n",
    "df_te_comb = df_te_comb.join(df_te_target, how='left')\n",
    "assert df_te_comb.isnull().sum().sum() == 0\n",
    "df_te_comb.reset_index(inplace=True, drop=True)\n",
    "X_test = df_te_comb.drop(columns=['target'])\n",
    "y_test = df_te_comb['target']"
   ],
   "metadata": {
    "collapsed": false,
    "pycharm": {
     "name": "#%%\n"
    }
   }
  },
  {
   "cell_type": "code",
   "execution_count": 8,
   "outputs": [
    {
     "data": {
      "text/plain": "(170101, 1207)"
     },
     "execution_count": 8,
     "metadata": {},
     "output_type": "execute_result"
    }
   ],
   "source": [
    "X_test.shape"
   ],
   "metadata": {
    "collapsed": false,
    "pycharm": {
     "name": "#%%\n"
    }
   }
  },
  {
   "cell_type": "code",
   "execution_count": 9,
   "outputs": [
    {
     "data": {
      "text/plain": "(170101,)"
     },
     "execution_count": 9,
     "metadata": {},
     "output_type": "execute_result"
    }
   ],
   "source": [
    "y_test.shape"
   ],
   "metadata": {
    "collapsed": false,
    "pycharm": {
     "name": "#%%\n"
    }
   }
  },
  {
   "cell_type": "code",
   "execution_count": 9,
   "outputs": [],
   "source": [
    "X_train.to_pickle('X_train.pickle')\n",
    "y_train.to_pickle('y_train.pickle')\n",
    "X_test.to_pickle('X_test.pickle')\n",
    "y_test.to_pickle('y_test.pickle')"
   ],
   "metadata": {
    "collapsed": false,
    "pycharm": {
     "name": "#%%\n"
    }
   }
  },
  {
   "cell_type": "markdown",
   "source": [
    "#  Балансування та скейлінг"
   ],
   "metadata": {
    "collapsed": false,
    "pycharm": {
     "name": "#%% md\n"
    }
   }
  },
  {
   "cell_type": "code",
   "execution_count": 2,
   "outputs": [],
   "source": [
    "X_train = pd.read_pickle('X_train.pickle')\n",
    "y_train = pd.read_pickle('y_train.pickle')\n",
    "\n",
    "X_test = pd.read_pickle('X_test.pickle')\n",
    "y_test = pd.read_pickle('y_test.pickle')"
   ],
   "metadata": {
    "collapsed": false,
    "pycharm": {
     "name": "#%%\n"
    }
   }
  },
  {
   "cell_type": "code",
   "execution_count": 2,
   "outputs": [],
   "source": [
    "from imblearn.over_sampling import RandomOverSampler\n",
    "from sklearn.metrics import roc_auc_score, precision_score, accuracy_score, recall_score, f1_score\n",
    "from sklearn.model_selection import train_test_split, KFold, GridSearchCV\n",
    "from sklearn.preprocessing import RobustScaler, StandardScaler\n",
    "from sklearn.ensemble import RandomForestClassifier"
   ],
   "metadata": {
    "collapsed": false,
    "pycharm": {
     "name": "#%%\n"
    }
   }
  },
  {
   "cell_type": "code",
   "execution_count": 14,
   "outputs": [],
   "source": [
    "ros = RandomOverSampler()\n",
    "X_ros, y_ros = ros.fit_resample(X_train, y_train)"
   ],
   "metadata": {
    "collapsed": false,
    "pycharm": {
     "name": "#%%\n"
    }
   }
  },
  {
   "cell_type": "code",
   "execution_count": 7,
   "outputs": [],
   "source": [
    "df_test = pd.read_pickle('combine_train_df.pickle')"
   ],
   "metadata": {
    "collapsed": false,
    "pycharm": {
     "name": "#%%\n"
    }
   }
  },
  {
   "cell_type": "code",
   "execution_count": 12,
   "outputs": [
    {
     "data": {
      "text/plain": "(311526, 1207)"
     },
     "execution_count": 12,
     "metadata": {},
     "output_type": "execute_result"
    }
   ],
   "source": [
    "X_ros.shape"
   ],
   "metadata": {
    "collapsed": false,
    "pycharm": {
     "name": "#%%\n"
    }
   }
  },
  {
   "cell_type": "code",
   "execution_count": 26,
   "outputs": [
    {
     "data": {
      "text/plain": "(311526,)"
     },
     "execution_count": 26,
     "metadata": {},
     "output_type": "execute_result"
    }
   ],
   "source": [
    "y_ros.shape"
   ],
   "metadata": {
    "collapsed": false,
    "pycharm": {
     "name": "#%%\n"
    }
   }
  },
  {
   "cell_type": "code",
   "execution_count": 14,
   "outputs": [
    {
     "data": {
      "text/plain": "0.0    155763\n1.0    155763\nName: target, dtype: int64"
     },
     "execution_count": 14,
     "metadata": {},
     "output_type": "execute_result"
    }
   ],
   "source": [
    "y_ros.value_counts()"
   ],
   "metadata": {
    "collapsed": false,
    "pycharm": {
     "name": "#%%\n"
    }
   }
  },
  {
   "cell_type": "code",
   "execution_count": null,
   "outputs": [],
   "source": [
    "X_ros.to_pickle('x_ros.pickle')\n",
    "y_ros.to_pickle('y_ros.pickle')"
   ],
   "metadata": {
    "collapsed": false,
    "pycharm": {
     "name": "#%%\n"
    }
   }
  },
  {
   "cell_type": "code",
   "execution_count": 3,
   "outputs": [],
   "source": [
    "X_train = pd.read_pickle('X_train.pickle')\n",
    "y_train = pd.read_pickle('y_train.pickle')\n",
    "X_test = pd.read_pickle('x_test.pickle')\n",
    "y_test = pd.read_pickle('y_test.pickle')"
   ],
   "metadata": {
    "collapsed": false,
    "pycharm": {
     "name": "#%%\n"
    }
   }
  },
  {
   "cell_type": "code",
   "execution_count": 6,
   "outputs": [],
   "source": [
    "robuster = RobustScaler().fit(X_ros)\n",
    "X_train_scaled = robuster.transform(X_ros)\n",
    "X_test_scaled = robuster.transform(X_test)"
   ],
   "metadata": {
    "collapsed": false,
    "pycharm": {
     "name": "#%%\n"
    }
   }
  },
  {
   "cell_type": "code",
   "execution_count": 19,
   "outputs": [
    {
     "data": {
      "text/plain": "array([[ 4.49153621e-01,  7.18054476e-03, -6.10185149e-01, ...,\n         0.00000000e+00,  0.00000000e+00,  0.00000000e+00],\n       [-5.41555301e-01, -9.49246230e-03, -1.42484808e-02, ...,\n         0.00000000e+00,  0.00000000e+00,  0.00000000e+00],\n       [ 4.14025710e-01, -8.92659424e-03, -6.31896092e-01, ...,\n         0.00000000e+00,  0.00000000e+00,  0.00000000e+00],\n       ...,\n       [-1.16100293e+00,  5.13262139e-04,  0.00000000e+00, ...,\n         0.00000000e+00,  0.00000000e+00,  0.00000000e+00],\n       [-5.44482627e-01,  5.13262139e-04,  0.00000000e+00, ...,\n         0.00000000e+00,  0.00000000e+00,  0.00000000e+00],\n       [-6.02010946e-01,  5.13262139e-04,  0.00000000e+00, ...,\n         0.00000000e+00,  0.00000000e+00,  0.00000000e+00]])"
     },
     "execution_count": 19,
     "metadata": {},
     "output_type": "execute_result"
    }
   ],
   "source": [
    "X_test_scaled"
   ],
   "metadata": {
    "collapsed": false,
    "pycharm": {
     "name": "#%%\n"
    }
   }
  },
  {
   "cell_type": "code",
   "execution_count": null,
   "outputs": [],
   "source": [
    "X_test_scaled.to_pickle('x_test_scaled.pickle')\n",
    "X_train_scaled.to_pickle('x_train_ros_scaled.pickle')"
   ],
   "metadata": {
    "collapsed": false,
    "pycharm": {
     "name": "#%%\n"
    }
   }
  },
  {
   "cell_type": "markdown",
   "source": [
    "# RF"
   ],
   "metadata": {
    "collapsed": false,
    "pycharm": {
     "name": "#%% md\n"
    }
   }
  },
  {
   "cell_type": "code",
   "execution_count": 26,
   "outputs": [],
   "source": [
    "X_train_t, X_test_t, y_train_t, y_test_t = train_test_split(X_ros, y_ros, train_size=0.8, random_state=22)"
   ],
   "metadata": {
    "collapsed": false,
    "pycharm": {
     "name": "#%%\n"
    }
   }
  },
  {
   "cell_type": "code",
   "execution_count": null,
   "outputs": [],
   "source": [
    "rf_clf = RandomForestClassifier(n_jobs=30)\n",
    "param_grid = {\n",
    "    'n_estimators': [15, 25],\n",
    "    'max_depth': [18],\n",
    "    #'class_weight': ['balanced']\n",
    "    'min_samples_leaf': [1, 50, 190],\n",
    "    'min_samples_split': [2, 250, 605]\n",
    "}\n",
    "\n",
    "grid_clf = GridSearchCV(rf_clf, param_grid, cv=3, scoring='roc_auc', verbose=10)\n",
    "grid_clf.fit(X_train_t, y_train_t)"
   ],
   "metadata": {
    "collapsed": false,
    "pycharm": {
     "name": "#%%\n",
     "is_executing": true
    }
   }
  },
  {
   "cell_type": "code",
   "execution_count": 41,
   "outputs": [],
   "source": [
    "# pd.DataFrame(grid_clf.cv_results_).to_excel('cv_all2.xlsx')"
   ],
   "metadata": {
    "collapsed": false,
    "pycharm": {
     "name": "#%%\n"
    }
   }
  },
  {
   "cell_type": "code",
   "execution_count": 18,
   "outputs": [
    {
     "data": {
      "text/plain": "{'max_depth': 19,\n 'max_features': 'sqrt',\n 'min_samples_leaf': 190,\n 'min_samples_split': 605,\n 'n_estimators': 15}"
     },
     "execution_count": 18,
     "metadata": {},
     "output_type": "execute_result"
    }
   ],
   "source": [
    "grid_clf.best_params_"
   ],
   "metadata": {
    "collapsed": false,
    "pycharm": {
     "name": "#%%\n"
    }
   }
  },
  {
   "cell_type": "code",
   "execution_count": 295,
   "outputs": [],
   "source": [
    "pd.DataFrame(grid_clf.cv_results_).to_excel('cv_all.xlsx')"
   ],
   "metadata": {
    "collapsed": false,
    "pycharm": {
     "name": "#%%\n"
    }
   }
  },
  {
   "cell_type": "code",
   "execution_count": 290,
   "outputs": [
    {
     "data": {
      "text/plain": "0.6817513426448942"
     },
     "execution_count": 290,
     "metadata": {},
     "output_type": "execute_result"
    }
   ],
   "source": [
    "roc_auc_score(y_train, grid_clf.predict(X_train))"
   ],
   "metadata": {
    "collapsed": false,
    "pycharm": {
     "name": "#%%\n"
    }
   }
  },
  {
   "cell_type": "code",
   "execution_count": 291,
   "outputs": [
    {
     "data": {
      "text/plain": "0.6536458981191"
     },
     "execution_count": 291,
     "metadata": {},
     "output_type": "execute_result"
    }
   ],
   "source": [
    "roc_auc_score(y_test, grid_clf.predict(X_test))"
   ],
   "metadata": {
    "collapsed": false,
    "pycharm": {
     "name": "#%%\n"
    }
   }
  },
  {
   "cell_type": "markdown",
   "source": [],
   "metadata": {
    "collapsed": false,
    "pycharm": {
     "name": "#%% md\n"
    }
   }
  },
  {
   "cell_type": "markdown",
   "source": [
    "## Light GBM"
   ],
   "metadata": {
    "collapsed": false,
    "pycharm": {
     "name": "#%% md\n"
    }
   }
  },
  {
   "cell_type": "code",
   "execution_count": 44,
   "outputs": [],
   "source": [
    "import lightgbm\n",
    "import pandas as pd\n",
    "import numpy as np\n",
    "\n",
    "from sklearn.model_selection import train_test_split, KFold\n",
    "from sklearn.metrics import roc_auc_score, recall_score, precision_score, confusion_matrix, accuracy_score, roc_curve, plot_confusion_matrix, plot_roc_curve"
   ],
   "metadata": {
    "collapsed": false,
    "pycharm": {
     "name": "#%%\n"
    }
   }
  },
  {
   "cell_type": "code",
   "execution_count": null,
   "outputs": [],
   "source": [
    "import matplotlib as mpl\n",
    "font_common = {'family': 'Liberation Sans',\n",
    "               'weight': 'bold',\n",
    "               'size': 25}\n",
    "mpl.rc('font', **font_common)"
   ],
   "metadata": {
    "collapsed": false,
    "pycharm": {
     "name": "#%%\n"
    }
   }
  },
  {
   "cell_type": "code",
   "execution_count": 2,
   "outputs": [],
   "source": [
    "X_train = pd.read_pickle('X_train.pickle')\n",
    "y_train = pd.read_pickle('y_train.pickle')\n",
    "\n",
    "X_test = pd.read_pickle('X_test.pickle')\n",
    "y_test = pd.read_pickle('y_test.pickle')"
   ],
   "metadata": {
    "collapsed": false,
    "pycharm": {
     "name": "#%%\n"
    }
   }
  },
  {
   "cell_type": "code",
   "execution_count": 3,
   "outputs": [],
   "source": [
    "X_train_data, X_train_valid, y_train_data, y_train_valid = train_test_split(X_train, y_train, test_size=0.2, random_state=222)"
   ],
   "metadata": {
    "collapsed": false,
    "pycharm": {
     "name": "#%%\n"
    }
   }
  },
  {
   "cell_type": "code",
   "execution_count": 4,
   "outputs": [
    {
     "data": {
      "text/plain": "(205625, 1207)"
     },
     "execution_count": 4,
     "metadata": {},
     "output_type": "execute_result"
    }
   ],
   "source": [
    "X_train.shape"
   ],
   "metadata": {
    "collapsed": false,
    "pycharm": {
     "name": "#%%\n"
    }
   }
  },
  {
   "cell_type": "code",
   "execution_count": 5,
   "outputs": [
    {
     "data": {
      "text/plain": "(164500, 1207)"
     },
     "execution_count": 5,
     "metadata": {},
     "output_type": "execute_result"
    }
   ],
   "source": [
    "X_train_data.shape"
   ],
   "metadata": {
    "collapsed": false,
    "pycharm": {
     "name": "#%%\n"
    }
   }
  },
  {
   "cell_type": "code",
   "execution_count": 6,
   "outputs": [
    {
     "data": {
      "text/plain": "(41125, 1207)"
     },
     "execution_count": 6,
     "metadata": {},
     "output_type": "execute_result"
    }
   ],
   "source": [
    "X_train_valid.shape"
   ],
   "metadata": {
    "collapsed": false,
    "pycharm": {
     "name": "#%%\n"
    }
   }
  },
  {
   "cell_type": "code",
   "execution_count": 7,
   "outputs": [],
   "source": [
    "train_data = lightgbm.Dataset(X_train_data, label=y_train_data)\n",
    "test_data = lightgbm.Dataset(X_train_valid, label=y_train_valid)"
   ],
   "metadata": {
    "collapsed": false,
    "pycharm": {
     "name": "#%%\n"
    }
   }
  },
  {
   "cell_type": "code",
   "execution_count": 8,
   "outputs": [
    {
     "name": "stderr",
     "output_type": "stream",
     "text": [
      "/home/matematik/.local/lib/python3.10/site-packages/lightgbm/engine.py:181: UserWarning: 'early_stopping_rounds' argument is deprecated and will be removed in a future release of LightGBM. Pass 'early_stopping()' callback via 'callbacks' argument instead.\n",
      "  _log_warning(\"'early_stopping_rounds' argument is deprecated and will be removed in a future release of LightGBM. \"\n"
     ]
    },
    {
     "name": "stdout",
     "output_type": "stream",
     "text": [
      "[1]\tvalid_0's auc: 0.621352\n",
      "Training until validation scores don't improve for 25 rounds\n",
      "[2]\tvalid_0's auc: 0.634508\n",
      "[3]\tvalid_0's auc: 0.638629\n",
      "[4]\tvalid_0's auc: 0.640613\n",
      "[5]\tvalid_0's auc: 0.641569\n",
      "[6]\tvalid_0's auc: 0.644586\n",
      "[7]\tvalid_0's auc: 0.644582\n",
      "[8]\tvalid_0's auc: 0.644874\n",
      "[9]\tvalid_0's auc: 0.645986\n",
      "[10]\tvalid_0's auc: 0.646157\n",
      "[11]\tvalid_0's auc: 0.649447\n",
      "[12]\tvalid_0's auc: 0.651166\n",
      "[13]\tvalid_0's auc: 0.651734\n",
      "[14]\tvalid_0's auc: 0.652398\n",
      "[15]\tvalid_0's auc: 0.652841\n",
      "[16]\tvalid_0's auc: 0.653225\n",
      "[17]\tvalid_0's auc: 0.655038\n",
      "[18]\tvalid_0's auc: 0.656602\n",
      "[19]\tvalid_0's auc: 0.657684\n",
      "[20]\tvalid_0's auc: 0.658284\n",
      "[21]\tvalid_0's auc: 0.658952\n",
      "[22]\tvalid_0's auc: 0.659276\n",
      "[23]\tvalid_0's auc: 0.660009\n",
      "[24]\tvalid_0's auc: 0.660216\n",
      "[25]\tvalid_0's auc: 0.660252\n",
      "[26]\tvalid_0's auc: 0.660606\n",
      "[27]\tvalid_0's auc: 0.661081\n",
      "[28]\tvalid_0's auc: 0.661009\n",
      "[29]\tvalid_0's auc: 0.661178\n",
      "[30]\tvalid_0's auc: 0.661619\n",
      "[31]\tvalid_0's auc: 0.662889\n",
      "[32]\tvalid_0's auc: 0.663277\n",
      "[33]\tvalid_0's auc: 0.663526\n",
      "[34]\tvalid_0's auc: 0.664333\n",
      "[35]\tvalid_0's auc: 0.664686\n",
      "[36]\tvalid_0's auc: 0.664933\n",
      "[37]\tvalid_0's auc: 0.665201\n",
      "[38]\tvalid_0's auc: 0.665281\n",
      "[39]\tvalid_0's auc: 0.665607\n",
      "[40]\tvalid_0's auc: 0.665607\n",
      "[41]\tvalid_0's auc: 0.665828\n",
      "[42]\tvalid_0's auc: 0.666222\n",
      "[43]\tvalid_0's auc: 0.666374\n",
      "[44]\tvalid_0's auc: 0.666625\n",
      "[45]\tvalid_0's auc: 0.666663\n",
      "[46]\tvalid_0's auc: 0.666845\n",
      "[47]\tvalid_0's auc: 0.667105\n",
      "[48]\tvalid_0's auc: 0.667832\n",
      "[49]\tvalid_0's auc: 0.66793\n",
      "[50]\tvalid_0's auc: 0.668514\n",
      "[51]\tvalid_0's auc: 0.668794\n",
      "[52]\tvalid_0's auc: 0.669032\n",
      "[53]\tvalid_0's auc: 0.669258\n",
      "[54]\tvalid_0's auc: 0.669517\n",
      "[55]\tvalid_0's auc: 0.669895\n",
      "[56]\tvalid_0's auc: 0.670067\n",
      "[57]\tvalid_0's auc: 0.670367\n",
      "[58]\tvalid_0's auc: 0.67077\n",
      "[59]\tvalid_0's auc: 0.671014\n",
      "[60]\tvalid_0's auc: 0.67119\n",
      "[61]\tvalid_0's auc: 0.671266\n",
      "[62]\tvalid_0's auc: 0.671216\n",
      "[63]\tvalid_0's auc: 0.671174\n",
      "[64]\tvalid_0's auc: 0.671331\n",
      "[65]\tvalid_0's auc: 0.671215\n",
      "[66]\tvalid_0's auc: 0.671168\n",
      "[67]\tvalid_0's auc: 0.671294\n",
      "[68]\tvalid_0's auc: 0.671211\n",
      "[69]\tvalid_0's auc: 0.671414\n",
      "[70]\tvalid_0's auc: 0.671674\n",
      "[71]\tvalid_0's auc: 0.67199\n",
      "[72]\tvalid_0's auc: 0.672345\n",
      "[73]\tvalid_0's auc: 0.672435\n",
      "[74]\tvalid_0's auc: 0.672639\n",
      "[75]\tvalid_0's auc: 0.672809\n",
      "[76]\tvalid_0's auc: 0.673078\n",
      "[77]\tvalid_0's auc: 0.673325\n",
      "[78]\tvalid_0's auc: 0.673489\n",
      "[79]\tvalid_0's auc: 0.673665\n",
      "[80]\tvalid_0's auc: 0.673778\n",
      "[81]\tvalid_0's auc: 0.674148\n",
      "[82]\tvalid_0's auc: 0.674409\n",
      "[83]\tvalid_0's auc: 0.674759\n",
      "[84]\tvalid_0's auc: 0.674921\n",
      "[85]\tvalid_0's auc: 0.675174\n",
      "[86]\tvalid_0's auc: 0.675479\n",
      "[87]\tvalid_0's auc: 0.675764\n",
      "[88]\tvalid_0's auc: 0.675962\n",
      "[89]\tvalid_0's auc: 0.67627\n",
      "[90]\tvalid_0's auc: 0.676487\n",
      "[91]\tvalid_0's auc: 0.676486\n",
      "[92]\tvalid_0's auc: 0.676725\n",
      "[93]\tvalid_0's auc: 0.676984\n",
      "[94]\tvalid_0's auc: 0.677254\n",
      "[95]\tvalid_0's auc: 0.677544\n",
      "[96]\tvalid_0's auc: 0.67769\n",
      "[97]\tvalid_0's auc: 0.677877\n",
      "[98]\tvalid_0's auc: 0.678081\n",
      "[99]\tvalid_0's auc: 0.678202\n",
      "[100]\tvalid_0's auc: 0.678265\n",
      "[101]\tvalid_0's auc: 0.678368\n",
      "[102]\tvalid_0's auc: 0.678484\n",
      "[103]\tvalid_0's auc: 0.678584\n",
      "[104]\tvalid_0's auc: 0.678707\n",
      "[105]\tvalid_0's auc: 0.678868\n",
      "[106]\tvalid_0's auc: 0.679006\n",
      "[107]\tvalid_0's auc: 0.679045\n",
      "[108]\tvalid_0's auc: 0.679161\n",
      "[109]\tvalid_0's auc: 0.679331\n",
      "[110]\tvalid_0's auc: 0.679401\n",
      "[111]\tvalid_0's auc: 0.67962\n",
      "[112]\tvalid_0's auc: 0.679779\n",
      "[113]\tvalid_0's auc: 0.679862\n",
      "[114]\tvalid_0's auc: 0.679962\n",
      "[115]\tvalid_0's auc: 0.680072\n",
      "[116]\tvalid_0's auc: 0.680284\n",
      "[117]\tvalid_0's auc: 0.680414\n",
      "[118]\tvalid_0's auc: 0.680617\n",
      "[119]\tvalid_0's auc: 0.680744\n",
      "[120]\tvalid_0's auc: 0.680883\n",
      "[121]\tvalid_0's auc: 0.681039\n",
      "[122]\tvalid_0's auc: 0.681184\n",
      "[123]\tvalid_0's auc: 0.681286\n",
      "[124]\tvalid_0's auc: 0.681392\n",
      "[125]\tvalid_0's auc: 0.681474\n",
      "[126]\tvalid_0's auc: 0.681604\n",
      "[127]\tvalid_0's auc: 0.681699\n",
      "[128]\tvalid_0's auc: 0.681798\n",
      "[129]\tvalid_0's auc: 0.681888\n",
      "[130]\tvalid_0's auc: 0.682049\n",
      "[131]\tvalid_0's auc: 0.68222\n",
      "[132]\tvalid_0's auc: 0.682386\n",
      "[133]\tvalid_0's auc: 0.682512\n",
      "[134]\tvalid_0's auc: 0.682669\n",
      "[135]\tvalid_0's auc: 0.682871\n",
      "[136]\tvalid_0's auc: 0.682995\n",
      "[137]\tvalid_0's auc: 0.683081\n",
      "[138]\tvalid_0's auc: 0.683251\n",
      "[139]\tvalid_0's auc: 0.683375\n",
      "[140]\tvalid_0's auc: 0.683472\n",
      "[141]\tvalid_0's auc: 0.683554\n",
      "[142]\tvalid_0's auc: 0.683589\n",
      "[143]\tvalid_0's auc: 0.683653\n",
      "[144]\tvalid_0's auc: 0.683724\n",
      "[145]\tvalid_0's auc: 0.683786\n",
      "[146]\tvalid_0's auc: 0.683864\n",
      "[147]\tvalid_0's auc: 0.683987\n",
      "[148]\tvalid_0's auc: 0.684115\n",
      "[149]\tvalid_0's auc: 0.684154\n",
      "[150]\tvalid_0's auc: 0.684257\n",
      "[151]\tvalid_0's auc: 0.684353\n",
      "[152]\tvalid_0's auc: 0.684457\n",
      "[153]\tvalid_0's auc: 0.684586\n",
      "[154]\tvalid_0's auc: 0.684635\n",
      "[155]\tvalid_0's auc: 0.684759\n",
      "[156]\tvalid_0's auc: 0.684887\n",
      "[157]\tvalid_0's auc: 0.68495\n",
      "[158]\tvalid_0's auc: 0.685011\n",
      "[159]\tvalid_0's auc: 0.685064\n",
      "[160]\tvalid_0's auc: 0.685143\n",
      "[161]\tvalid_0's auc: 0.685196\n",
      "[162]\tvalid_0's auc: 0.685269\n",
      "[163]\tvalid_0's auc: 0.685277\n",
      "[164]\tvalid_0's auc: 0.685308\n",
      "[165]\tvalid_0's auc: 0.685403\n",
      "[166]\tvalid_0's auc: 0.685463\n",
      "[167]\tvalid_0's auc: 0.685523\n",
      "[168]\tvalid_0's auc: 0.685637\n",
      "[169]\tvalid_0's auc: 0.685705\n",
      "[170]\tvalid_0's auc: 0.685703\n",
      "[171]\tvalid_0's auc: 0.68585\n",
      "[172]\tvalid_0's auc: 0.686003\n",
      "[173]\tvalid_0's auc: 0.686111\n",
      "[174]\tvalid_0's auc: 0.686222\n",
      "[175]\tvalid_0's auc: 0.686336\n",
      "[176]\tvalid_0's auc: 0.686378\n",
      "[177]\tvalid_0's auc: 0.686468\n",
      "[178]\tvalid_0's auc: 0.68657\n",
      "[179]\tvalid_0's auc: 0.686721\n",
      "[180]\tvalid_0's auc: 0.686864\n",
      "[181]\tvalid_0's auc: 0.686937\n",
      "[182]\tvalid_0's auc: 0.686975\n",
      "[183]\tvalid_0's auc: 0.687042\n",
      "[184]\tvalid_0's auc: 0.687112\n",
      "[185]\tvalid_0's auc: 0.68717\n",
      "[186]\tvalid_0's auc: 0.687328\n",
      "[187]\tvalid_0's auc: 0.687417\n",
      "[188]\tvalid_0's auc: 0.687473\n",
      "[189]\tvalid_0's auc: 0.687523\n",
      "[190]\tvalid_0's auc: 0.687579\n",
      "[191]\tvalid_0's auc: 0.687653\n",
      "[192]\tvalid_0's auc: 0.687676\n",
      "[193]\tvalid_0's auc: 0.687744\n",
      "[194]\tvalid_0's auc: 0.687796\n",
      "[195]\tvalid_0's auc: 0.68781\n",
      "[196]\tvalid_0's auc: 0.687881\n",
      "[197]\tvalid_0's auc: 0.687945\n",
      "[198]\tvalid_0's auc: 0.688021\n",
      "[199]\tvalid_0's auc: 0.688093\n",
      "[200]\tvalid_0's auc: 0.688153\n",
      "[201]\tvalid_0's auc: 0.688242\n",
      "[202]\tvalid_0's auc: 0.688272\n",
      "[203]\tvalid_0's auc: 0.688326\n",
      "[204]\tvalid_0's auc: 0.688349\n",
      "[205]\tvalid_0's auc: 0.688356\n",
      "[206]\tvalid_0's auc: 0.688458\n",
      "[207]\tvalid_0's auc: 0.688519\n",
      "[208]\tvalid_0's auc: 0.688692\n",
      "[209]\tvalid_0's auc: 0.688729\n",
      "[210]\tvalid_0's auc: 0.688828\n",
      "[211]\tvalid_0's auc: 0.688885\n",
      "[212]\tvalid_0's auc: 0.688998\n",
      "[213]\tvalid_0's auc: 0.689015\n",
      "[214]\tvalid_0's auc: 0.689082\n",
      "[215]\tvalid_0's auc: 0.689143\n",
      "[216]\tvalid_0's auc: 0.689239\n",
      "[217]\tvalid_0's auc: 0.689316\n",
      "[218]\tvalid_0's auc: 0.689431\n",
      "[219]\tvalid_0's auc: 0.689473\n",
      "[220]\tvalid_0's auc: 0.689586\n",
      "[221]\tvalid_0's auc: 0.689624\n",
      "[222]\tvalid_0's auc: 0.689786\n",
      "[223]\tvalid_0's auc: 0.689801\n",
      "[224]\tvalid_0's auc: 0.689893\n",
      "[225]\tvalid_0's auc: 0.68998\n",
      "[226]\tvalid_0's auc: 0.690065\n",
      "[227]\tvalid_0's auc: 0.690167\n",
      "[228]\tvalid_0's auc: 0.690197\n",
      "[229]\tvalid_0's auc: 0.690274\n",
      "[230]\tvalid_0's auc: 0.690385\n",
      "[231]\tvalid_0's auc: 0.690461\n",
      "[232]\tvalid_0's auc: 0.690537\n",
      "[233]\tvalid_0's auc: 0.690605\n",
      "[234]\tvalid_0's auc: 0.690658\n",
      "[235]\tvalid_0's auc: 0.690706\n",
      "[236]\tvalid_0's auc: 0.690781\n",
      "[237]\tvalid_0's auc: 0.690828\n",
      "[238]\tvalid_0's auc: 0.69086\n",
      "[239]\tvalid_0's auc: 0.690917\n",
      "[240]\tvalid_0's auc: 0.690941\n",
      "[241]\tvalid_0's auc: 0.69101\n",
      "[242]\tvalid_0's auc: 0.691066\n",
      "[243]\tvalid_0's auc: 0.691116\n",
      "[244]\tvalid_0's auc: 0.691158\n",
      "[245]\tvalid_0's auc: 0.691209\n",
      "[246]\tvalid_0's auc: 0.691268\n",
      "[247]\tvalid_0's auc: 0.691375\n",
      "[248]\tvalid_0's auc: 0.691411\n",
      "[249]\tvalid_0's auc: 0.69149\n",
      "[250]\tvalid_0's auc: 0.691538\n",
      "[251]\tvalid_0's auc: 0.691598\n",
      "[252]\tvalid_0's auc: 0.691652\n",
      "[253]\tvalid_0's auc: 0.691705\n",
      "[254]\tvalid_0's auc: 0.691751\n",
      "[255]\tvalid_0's auc: 0.691792\n",
      "[256]\tvalid_0's auc: 0.691809\n",
      "[257]\tvalid_0's auc: 0.691831\n",
      "[258]\tvalid_0's auc: 0.69188\n",
      "[259]\tvalid_0's auc: 0.691921\n",
      "[260]\tvalid_0's auc: 0.69196\n",
      "[261]\tvalid_0's auc: 0.692045\n",
      "[262]\tvalid_0's auc: 0.692094\n",
      "[263]\tvalid_0's auc: 0.692155\n",
      "[264]\tvalid_0's auc: 0.692249\n",
      "[265]\tvalid_0's auc: 0.692305\n",
      "[266]\tvalid_0's auc: 0.69234\n",
      "[267]\tvalid_0's auc: 0.692373\n",
      "[268]\tvalid_0's auc: 0.692398\n",
      "[269]\tvalid_0's auc: 0.692407\n",
      "[270]\tvalid_0's auc: 0.692472\n",
      "[271]\tvalid_0's auc: 0.692535\n",
      "[272]\tvalid_0's auc: 0.692583\n",
      "[273]\tvalid_0's auc: 0.692606\n",
      "[274]\tvalid_0's auc: 0.692663\n",
      "[275]\tvalid_0's auc: 0.692694\n",
      "[276]\tvalid_0's auc: 0.692752\n",
      "[277]\tvalid_0's auc: 0.692792\n",
      "[278]\tvalid_0's auc: 0.692847\n",
      "[279]\tvalid_0's auc: 0.692866\n",
      "[280]\tvalid_0's auc: 0.692866\n",
      "[281]\tvalid_0's auc: 0.692879\n",
      "[282]\tvalid_0's auc: 0.692937\n",
      "[283]\tvalid_0's auc: 0.692995\n",
      "[284]\tvalid_0's auc: 0.693042\n",
      "[285]\tvalid_0's auc: 0.693048\n",
      "[286]\tvalid_0's auc: 0.693106\n",
      "[287]\tvalid_0's auc: 0.693132\n",
      "[288]\tvalid_0's auc: 0.693153\n",
      "[289]\tvalid_0's auc: 0.693198\n",
      "[290]\tvalid_0's auc: 0.69325\n",
      "[291]\tvalid_0's auc: 0.693291\n",
      "[292]\tvalid_0's auc: 0.69333\n",
      "[293]\tvalid_0's auc: 0.693363\n",
      "[294]\tvalid_0's auc: 0.69338\n",
      "[295]\tvalid_0's auc: 0.693392\n",
      "[296]\tvalid_0's auc: 0.693421\n",
      "[297]\tvalid_0's auc: 0.693478\n",
      "[298]\tvalid_0's auc: 0.693522\n",
      "[299]\tvalid_0's auc: 0.693551\n",
      "[300]\tvalid_0's auc: 0.6936\n",
      "[301]\tvalid_0's auc: 0.693635\n",
      "[302]\tvalid_0's auc: 0.693693\n",
      "[303]\tvalid_0's auc: 0.693731\n",
      "[304]\tvalid_0's auc: 0.693751\n",
      "[305]\tvalid_0's auc: 0.693783\n",
      "[306]\tvalid_0's auc: 0.693814\n",
      "[307]\tvalid_0's auc: 0.693847\n",
      "[308]\tvalid_0's auc: 0.693859\n",
      "[309]\tvalid_0's auc: 0.693888\n",
      "[310]\tvalid_0's auc: 0.693911\n",
      "[311]\tvalid_0's auc: 0.693926\n",
      "[312]\tvalid_0's auc: 0.694022\n",
      "[313]\tvalid_0's auc: 0.694055\n",
      "[314]\tvalid_0's auc: 0.694118\n",
      "[315]\tvalid_0's auc: 0.694195\n",
      "[316]\tvalid_0's auc: 0.694251\n",
      "[317]\tvalid_0's auc: 0.694353\n",
      "[318]\tvalid_0's auc: 0.694399\n",
      "[319]\tvalid_0's auc: 0.694473\n",
      "[320]\tvalid_0's auc: 0.694508\n",
      "[321]\tvalid_0's auc: 0.694528\n",
      "[322]\tvalid_0's auc: 0.694556\n",
      "[323]\tvalid_0's auc: 0.694565\n",
      "[324]\tvalid_0's auc: 0.69462\n",
      "[325]\tvalid_0's auc: 0.694633\n",
      "[326]\tvalid_0's auc: 0.694646\n",
      "[327]\tvalid_0's auc: 0.694722\n",
      "[328]\tvalid_0's auc: 0.694734\n",
      "[329]\tvalid_0's auc: 0.694753\n",
      "[330]\tvalid_0's auc: 0.694798\n",
      "[331]\tvalid_0's auc: 0.694821\n",
      "[332]\tvalid_0's auc: 0.694882\n",
      "[333]\tvalid_0's auc: 0.69492\n",
      "[334]\tvalid_0's auc: 0.694942\n",
      "[335]\tvalid_0's auc: 0.69497\n",
      "[336]\tvalid_0's auc: 0.695012\n",
      "[337]\tvalid_0's auc: 0.695077\n",
      "[338]\tvalid_0's auc: 0.695055\n",
      "[339]\tvalid_0's auc: 0.695089\n",
      "[340]\tvalid_0's auc: 0.695122\n",
      "[341]\tvalid_0's auc: 0.695133\n",
      "[342]\tvalid_0's auc: 0.695128\n",
      "[343]\tvalid_0's auc: 0.695139\n",
      "[344]\tvalid_0's auc: 0.695161\n",
      "[345]\tvalid_0's auc: 0.695188\n",
      "[346]\tvalid_0's auc: 0.69521\n",
      "[347]\tvalid_0's auc: 0.695223\n",
      "[348]\tvalid_0's auc: 0.695257\n",
      "[349]\tvalid_0's auc: 0.695262\n",
      "[350]\tvalid_0's auc: 0.695291\n",
      "[351]\tvalid_0's auc: 0.695379\n",
      "[352]\tvalid_0's auc: 0.695472\n",
      "[353]\tvalid_0's auc: 0.695569\n",
      "[354]\tvalid_0's auc: 0.695604\n",
      "[355]\tvalid_0's auc: 0.695626\n",
      "[356]\tvalid_0's auc: 0.695643\n",
      "[357]\tvalid_0's auc: 0.695729\n",
      "[358]\tvalid_0's auc: 0.695762\n",
      "[359]\tvalid_0's auc: 0.695799\n",
      "[360]\tvalid_0's auc: 0.695882\n",
      "[361]\tvalid_0's auc: 0.69593\n",
      "[362]\tvalid_0's auc: 0.695942\n",
      "[363]\tvalid_0's auc: 0.695981\n",
      "[364]\tvalid_0's auc: 0.695992\n",
      "[365]\tvalid_0's auc: 0.696026\n",
      "[366]\tvalid_0's auc: 0.696038\n",
      "[367]\tvalid_0's auc: 0.696051\n",
      "[368]\tvalid_0's auc: 0.696057\n",
      "[369]\tvalid_0's auc: 0.696056\n",
      "[370]\tvalid_0's auc: 0.696092\n",
      "[371]\tvalid_0's auc: 0.696123\n",
      "[372]\tvalid_0's auc: 0.696141\n",
      "[373]\tvalid_0's auc: 0.696187\n",
      "[374]\tvalid_0's auc: 0.696236\n",
      "[375]\tvalid_0's auc: 0.696278\n",
      "[376]\tvalid_0's auc: 0.696336\n",
      "[377]\tvalid_0's auc: 0.696374\n",
      "[378]\tvalid_0's auc: 0.696413\n",
      "[379]\tvalid_0's auc: 0.696447\n",
      "[380]\tvalid_0's auc: 0.696502\n",
      "Did not meet early stopping. Best iteration is:\n",
      "[380]\tvalid_0's auc: 0.696502\n",
      "Train_fit : 0.7176\n",
      "Train_val : 0.6965\n",
      "Test      : 0.6711\n",
      "\n",
      "Diff 1    : 4.65\n",
      "Diff 2    : 2.11\n",
      "Diff-Diff : 2.54\n"
     ]
    }
   ],
   "source": [
    "parameters = {\n",
    "    'objective': 'binary',\n",
    "    'metric': 'auc',\n",
    "    'is_unbalance': 'true',\n",
    "    'boosting': 'gbdt',\n",
    "\n",
    "    'num_leaves': 90,\n",
    "    'min_data_in_leaf': 1220,\n",
    "    'max_depth': -1,\n",
    "\n",
    "    'feature_fraction': 0.8,\n",
    "    'bagging_fraction': 0.45,\n",
    "    'bagging_freq': 10,\n",
    "\n",
    "    'learning_rate': 0.01,\n",
    "    'verbose': -1\n",
    "}\n",
    "model_lgbm = lightgbm.train(parameters,\n",
    "                            train_data,\n",
    "                            valid_sets=test_data,\n",
    "                            num_boost_round=380,\n",
    "                            early_stopping_rounds=25)\n",
    "\n",
    "real_ra = round(roc_auc_score(y_test, model_lgbm.predict(X_test)), 4)\n",
    "train_ra = round(roc_auc_score(y_train_data, model_lgbm.predict(X_train_data)), 4)\n",
    "train_val_ra = round(roc_auc_score(y_train_valid, model_lgbm.predict(X_train_valid)), 4)\n",
    "diff = round((train_ra - real_ra)*100, 2)\n",
    "diff2 = round((train_ra - train_val_ra)*100, 2)\n",
    "diff_diff = round((diff - diff2), 2)\n",
    "print(f'Train_fit : {train_ra}\\nTrain_val : {train_val_ra}\\nTest      : {real_ra}\\n'\n",
    "      f'\\nDiff 1    : {diff}'\n",
    "      f'\\nDiff 2    : {diff2}'\n",
    "      f'\\nDiff-Diff : {diff_diff}')"
   ],
   "metadata": {
    "collapsed": false,
    "pycharm": {
     "name": "#%%\n"
    }
   }
  },
  {
   "cell_type": "code",
   "execution_count": 11,
   "outputs": [
    {
     "data": {
      "text/plain": "device_id                  442\nBalance_uah                101\nTM_ID                       83\nlt                         486\nloc_cnt_events              44\n                          ... \nbaby_unique_services         0\nbaby_cnt_sms_in              0\npay_sys_cat_present          0\npay_sys_unique_services      0\npay_sys_cnt_sms_in           0\nLength: 1207, dtype: int32"
     },
     "execution_count": 11,
     "metadata": {},
     "output_type": "execute_result"
    }
   ],
   "source": [
    "imp_vals = model_lgbm.feature_importance()\n",
    "imp_names = X_train.columns.tolist()\n",
    "impot_fea = pd.Series(index=imp_names, data=imp_vals)\n",
    "impot_fea"
   ],
   "metadata": {
    "collapsed": false,
    "pycharm": {
     "name": "#%%\n"
    }
   }
  },
  {
   "cell_type": "code",
   "execution_count": 13,
   "outputs": [],
   "source": [
    "pred = model_lgbm.predict(X_test)"
   ],
   "metadata": {
    "collapsed": false,
    "pycharm": {
     "name": "#%%\n"
    }
   }
  },
  {
   "cell_type": "code",
   "execution_count": 59,
   "outputs": [
    {
     "data": {
      "text/plain": "<Figure size 432x288 with 2 Axes>",
      "image/png": "[encoded data removed]"
     },
     "metadata": {
      "needs_background": "light"
     },
     "output_type": "display_data"
    }
   ],
   "source": [
    "import matplotlib.pyplot as plt\n",
    "import seaborn as sns\n",
    "from sklearn.metrics import confusion_matrix, ConfusionMatrixDisplay\n",
    "\n",
    "cm = confusion_matrix(y_test, pred.round())\n",
    "disp = ConfusionMatrixDisplay(confusion_matrix=cm)\n",
    "disp.plot(cmap=plt.cm.Blues,values_format='g')\n",
    "plt.show()"
   ],
   "metadata": {
    "collapsed": false,
    "pycharm": {
     "name": "#%%\n"
    }
   }
  },
  {
   "cell_type": "code",
   "execution_count": 57,
   "outputs": [
    {
     "data": {
      "text/plain": "<Figure size 432x288 with 2 Axes>",
      "image/png": "[encoded data removed]"
     },
     "metadata": {
      "needs_background": "light"
     },
     "output_type": "display_data"
    }
   ],
   "source": [
    "disp = ConfusionMatrixDisplay(np.array([[59.7, 40.3], [34.8, 65.2]]))\n",
    "disp.plot(cmap=plt.cm.cividis,values_format='g')\n",
    "plt.show()"
   ],
   "metadata": {
    "collapsed": false,
    "pycharm": {
     "name": "#%%\n"
    }
   }
  },
  {
   "cell_type": "code",
   "execution_count": 145,
   "outputs": [
    {
     "data": {
      "text/plain": "array([[92981, 62681],\n       [ 5018,  9421]])"
     },
     "execution_count": 145,
     "metadata": {},
     "output_type": "execute_result"
    }
   ],
   "source": [
    "cm"
   ],
   "metadata": {
    "collapsed": false,
    "pycharm": {
     "name": "#%%\n"
    }
   }
  },
  {
   "cell_type": "code",
   "execution_count": 92,
   "outputs": [
    {
     "name": "stdout",
     "output_type": "stream",
     "text": [
      "5 folds testing:\n",
      "\n",
      "ROC-AUC:\n",
      "\tMean :0.671\n",
      "\tMin  :0.663\n",
      "\tMax  :0.681\n",
      "\tDiff :0.018\n",
      "\n",
      "Precision:\n",
      "\tMean :0.131\n",
      "\tMin  :0.125\n",
      "\tMax  :0.136\n",
      "\tDiff :0.011\n",
      "\n",
      "Recall:\n",
      "\tMean :0.652\n",
      "\tMin  :0.64\n",
      "\tMax  :0.661\n",
      "\tDiff :0.021\n",
      "\n",
      "Accuracy:\n",
      "\tMean :0.602\n",
      "\tMin  :0.6\n",
      "\tMax  :0.606\n",
      "\tDiff :0.006\n",
      "\n"
     ]
    }
   ],
   "source": [
    "folds = 5\n",
    "\n",
    "kf = KFold(n_splits=folds, shuffle=True, random_state=22)\n",
    "roc_auc_kf = []\n",
    "precision_kf = []\n",
    "recall_kf = []\n",
    "accuracy_kf = []\n",
    "\n",
    "for bigger_part, smaller_part in kf.split(X_test):\n",
    "    cur_true = y_test.iloc[smaller_part]\n",
    "    cur_pred = model_lgbm.predict(X_test.iloc[smaller_part]).round()\n",
    "    roc_auc_kf.append(roc_auc_score(cur_true, model_lgbm.predict(X_test.iloc[smaller_part])))\n",
    "    precision_kf.append(precision_score(cur_true, cur_pred))\n",
    "    recall_kf.append(recall_score(cur_true, cur_pred))\n",
    "    accuracy_kf.append(accuracy_score(cur_true, cur_pred))\n",
    "\n",
    "print('5 folds testing:')\n",
    "print()\n",
    "print(\"ROC-AUC:\")\n",
    "print(f'\\tMean :{round(sum(roc_auc_kf)/folds, 3)}')\n",
    "print(f'\\tMin  :{round(min(roc_auc_kf), 3)}')\n",
    "print(f'\\tMax  :{round(max(roc_auc_kf), 3)}')\n",
    "print(f'\\tDiff :{round(max(roc_auc_kf) - min(roc_auc_kf), 3)}')\n",
    "print()\n",
    "print('Precision:')\n",
    "print(f'\\tMean :{round(sum(precision_kf)/folds, 3)}')\n",
    "print(f'\\tMin  :{round(min(precision_kf), 3)}')\n",
    "print(f'\\tMax  :{round(max(precision_kf), 3)}')\n",
    "print(f'\\tDiff :{round(max(precision_kf) - min(precision_kf), 3)}')\n",
    "print()\n",
    "print('Recall:')\n",
    "print(f'\\tMean :{round(sum(recall_kf)/folds, 3)}')\n",
    "print(f'\\tMin  :{round(min(recall_kf), 3)}')\n",
    "print(f'\\tMax  :{round(max(recall_kf), 3)}')\n",
    "print(f'\\tDiff :{round(max(recall_kf) - min(recall_kf), 3)}')\n",
    "print()\n",
    "print('Accuracy:')\n",
    "print(f'\\tMean :{round(sum(accuracy_kf)/folds, 3)}')\n",
    "print(f'\\tMin  :{round(min(accuracy_kf), 3)}')\n",
    "print(f'\\tMax  :{round(max(accuracy_kf), 3)}')\n",
    "print(f'\\tDiff :{round(max(accuracy_kf) - min(accuracy_kf), 3)}')\n",
    "print()"
   ],
   "metadata": {
    "collapsed": false,
    "pycharm": {
     "name": "#%%\n"
    }
   }
  },
  {
   "cell_type": "code",
   "execution_count": 74,
   "outputs": [
    {
     "data": {
      "text/plain": "1.5"
     },
     "execution_count": 74,
     "metadata": {},
     "output_type": "execute_result"
    }
   ],
   "source": [
    "sum([1, 2])/2"
   ],
   "metadata": {
    "collapsed": false,
    "pycharm": {
     "name": "#%%\n"
    }
   }
  },
  {
   "cell_type": "code",
   "execution_count": 33,
   "outputs": [
    {
     "name": "stdout",
     "output_type": "stream",
     "text": [
      "[92981 62681]\n",
      "[5018 9421]\n"
     ]
    }
   ],
   "source": [
    "for i in cm:\n",
    "    print(i)"
   ],
   "metadata": {
    "collapsed": false,
    "pycharm": {
     "name": "#%%\n"
    }
   }
  },
  {
   "cell_type": "code",
   "execution_count": 29,
   "outputs": [],
   "source": [
    "def tune_weight(pred, true_border=0.5):\n",
    "    res = []\n",
    "    for num in pred:\n",
    "        int_num = 1 if num >= true_border else 0\n",
    "        res.append(int_num)\n",
    "    return res"
   ],
   "metadata": {
    "collapsed": false,
    "pycharm": {
     "name": "#%%\n"
    }
   }
  },
  {
   "cell_type": "code",
   "execution_count": 136,
   "outputs": [
    {
     "data": {
      "text/plain": "<Figure size 1080x504 with 1 Axes>",
      "image/png": "[encoded data removed]"
     },
     "metadata": {
      "needs_background": "light"
     },
     "output_type": "display_data"
    }
   ],
   "source": [
    "plt.figure(figsize=(15,7))\n",
    "plt.hist(pred[y_test==0], bins=50, label='Не придбали')\n",
    "plt.hist(pred[y_test==1], bins=50, label='Придбали', alpha=0.7, color='r')\n",
    "plt.xlabel('Вірогідність моделі (test)', fontsize=25)\n",
    "plt.ylabel('Кількість у кожному біні', fontsize=25)\n",
    "plt.legend(fontsize=15)\n",
    "plt.axvline(0.5, linewidth=5., color='r')\n",
    "plt.tick_params(axis='both', labelsize=25, pad=5)\n",
    "plt.show()"
   ],
   "metadata": {
    "collapsed": false,
    "pycharm": {
     "name": "#%%\n"
    }
   }
  },
  {
   "cell_type": "code",
   "execution_count": 119,
   "outputs": [
    {
     "data": {
      "text/plain": "<matplotlib.lines.Line2D at 0x7f4ff15a34f0>"
     },
     "execution_count": 119,
     "metadata": {},
     "output_type": "execute_result"
    },
    {
     "data": {
      "text/plain": "<Figure size 432x288 with 1 Axes>",
      "image/png": "[encoded data removed]"
     },
     "metadata": {
      "needs_background": "light"
     },
     "output_type": "display_data"
    }
   ],
   "source": [
    "y_test.value_counts()\n",
    "plt.axvline(0.5)"
   ],
   "metadata": {
    "collapsed": false,
    "pycharm": {
     "name": "#%%\n"
    }
   }
  },
  {
   "cell_type": "code",
   "execution_count": 135,
   "outputs": [
    {
     "data": {
      "text/plain": "<Figure size 1080x504 with 1 Axes>",
      "image/png": "[encoded data removed]"
     },
     "metadata": {
      "needs_background": "light"
     },
     "output_type": "display_data"
    }
   ],
   "source": [
    "plt.figure(figsize=(15,7))\n",
    "plt.hist(model_lgbm.predict(X_train)[y_train==0], bins=50, label='Не придбали')\n",
    "plt.hist(model_lgbm.predict(X_train)[y_train==1], bins=50, label='Придбали', alpha=0.7, color='r')\n",
    "plt.xlabel('Вірогідність моделі (train)', fontsize=25)\n",
    "plt.ylabel('Кількість у кожному біні', fontsize=25)\n",
    "plt.legend(fontsize=15)\n",
    "plt.axvline(0.5, linewidth=5., color='r')\n",
    "plt.tick_params(axis='both', labelsize=25, pad=5)\n",
    "plt.show()"
   ],
   "metadata": {
    "collapsed": false,
    "pycharm": {
     "name": "#%%\n"
    }
   }
  },
  {
   "cell_type": "code",
   "execution_count": 110,
   "outputs": [],
   "source": [
    "from imblearn.under_sampling import RandomUnderSampler\n",
    "us = RandomUnderSampler()\n",
    "X_us_test, y_us_test = us.fit_resample(X_test, y_test)"
   ],
   "metadata": {
    "collapsed": false,
    "pycharm": {
     "name": "#%%\n"
    }
   }
  },
  {
   "cell_type": "code",
   "execution_count": 133,
   "outputs": [
    {
     "data": {
      "text/plain": "<Figure size 1080x504 with 1 Axes>",
      "image/png": "[encoded data removed]"
     },
     "metadata": {
      "needs_background": "light"
     },
     "output_type": "display_data"
    }
   ],
   "source": [
    "plt.figure(figsize=(15,7))\n",
    "plt.hist(model_lgbm.predict(X_us_test)[y_us_test==0], bins=50, label='Не придбали')\n",
    "plt.hist(model_lgbm.predict(X_us_test)[y_us_test==1], bins=50, label='Придбали', alpha=0.7, color='r')\n",
    "plt.xlabel('Вірогідність моделі (test - undersampled)', fontsize=25)\n",
    "plt.ylabel('Кількість у кожному біні', fontsize=25)\n",
    "plt.legend(fontsize=15)\n",
    "plt.axvline(0.5, linewidth=5., color='g')\n",
    "plt.tick_params(axis='both', labelsize=25, pad=5)\n",
    "plt.show()"
   ],
   "metadata": {
    "collapsed": false,
    "pycharm": {
     "name": "#%%\n"
    }
   }
  },
  {
   "cell_type": "code",
   "execution_count": 132,
   "outputs": [
    {
     "data": {
      "text/plain": "<Figure size 1080x504 with 1 Axes>",
      "image/png": "[encoded data removed]"
     },
     "metadata": {
      "needs_background": "light"
     },
     "output_type": "display_data"
    }
   ],
   "source": [
    "X_us_train, y_us_train = us.fit_resample(X_train, y_train)\n",
    "plt.figure(figsize=(15,7))\n",
    "plt.hist(model_lgbm.predict(X_us_train)[y_us_train==0], bins=50, label='Не придбали')\n",
    "plt.hist(model_lgbm.predict(X_us_train)[y_us_train==1], bins=50, label='Придбали', alpha=0.7, color='r')\n",
    "plt.xlabel('Вірогідність моделі (train - undersampled)', fontsize=25)\n",
    "plt.ylabel('Кількість у кожному біні', fontsize=25)\n",
    "plt.axvline(0.5, linewidth=5., color='g')\n",
    "plt.legend(fontsize=15)\n",
    "plt.tick_params(axis='both', labelsize=25, pad=5)\n",
    "plt.show()"
   ],
   "metadata": {
    "collapsed": false,
    "pycharm": {
     "name": "#%%\n"
    }
   }
  },
  {
   "cell_type": "code",
   "execution_count": 138,
   "outputs": [],
   "source": [
    "pred_un = model_lgbm.predict(X_us_test)"
   ],
   "metadata": {
    "collapsed": false,
    "pycharm": {
     "name": "#%%\n"
    }
   }
  },
  {
   "cell_type": "code",
   "execution_count": 144,
   "outputs": [
    {
     "data": {
      "text/plain": "array([[8667, 5772],\n       [5018, 9421]])"
     },
     "execution_count": 144,
     "metadata": {},
     "output_type": "execute_result"
    }
   ],
   "source": [
    "confusion_matrix(y_us_test, pred_un.round())"
   ],
   "metadata": {
    "collapsed": false,
    "pycharm": {
     "name": "#%%\n"
    }
   }
  },
  {
   "cell_type": "code",
   "execution_count": 142,
   "outputs": [
    {
     "data": {
      "text/plain": "0.0    14439\n1.0    14439\nName: target, dtype: int64"
     },
     "execution_count": 142,
     "metadata": {},
     "output_type": "execute_result"
    }
   ],
   "source": [
    "y_us_test.value_counts()"
   ],
   "metadata": {
    "collapsed": false,
    "pycharm": {
     "name": "#%%\n"
    }
   }
  },
  {
   "cell_type": "code",
   "execution_count": 210,
   "outputs": [],
   "source": [
    "values_total = 14439\n",
    "x_pos = []\n",
    "another_val = []\n",
    "target_val = []\n",
    "\n",
    "for tresh in np.arange(0, 1, 0.01):\n",
    "    cur_pred = tune_weight(pred_un, true_border=tresh)\n",
    "    another = confusion_matrix(y_us_test, cur_pred)[0][1]\n",
    "    target = confusion_matrix(y_us_test, cur_pred)[1][1]\n",
    "    x_pos.append(tresh)\n",
    "    another_val.append((another/values_total)*100)\n",
    "    target_val.append((target/values_total)*100)"
   ],
   "metadata": {
    "collapsed": false,
    "pycharm": {
     "name": "#%%\n"
    }
   }
  },
  {
   "cell_type": "code",
   "execution_count": 216,
   "outputs": [
    {
     "data": {
      "text/plain": "0.8619710506267747"
     },
     "execution_count": 216,
     "metadata": {},
     "output_type": "execute_result"
    }
   ],
   "source": [
    "cur_pred = tune_weight(pred_un, true_border=0.4)\n",
    "#confusion_matrix(y_us_test, cur_pred)[1][0]\n",
    "confusion_matrix(y_us_test, cur_pred)[1][1]/values_total"
   ],
   "metadata": {
    "collapsed": false,
    "pycharm": {
     "name": "#%%\n"
    }
   }
  },
  {
   "cell_type": "code",
   "execution_count": 212,
   "outputs": [
    {
     "data": {
      "text/plain": "(0.2, 0.8)"
     },
     "execution_count": 212,
     "metadata": {},
     "output_type": "execute_result"
    },
    {
     "data": {
      "text/plain": "<Figure size 1080x504 with 1 Axes>",
      "image/png": "[encoded data removed]"
     },
     "metadata": {
      "needs_background": "light"
     },
     "output_type": "display_data"
    }
   ],
   "source": [
    "plt.figure(figsize=(15,7))\n",
    "plt.plot(x_pos,target_val, color='r')\n",
    "plt.plot(x_pos,another_val, color='b')\n",
    "plt.axvline(0.5, color='g', linewidth=5.)\n",
    "plt.axvline(0.4, color='y', linestyle='dashed', linewidth=5.)\n",
    "plt.xlabel(\"Зміщення ваги передбачення до 0.4\")\n",
    "plt.ylabel(\"Відсоток від усіх осіб\")\n",
    "plt.xlim(0.2, 0.8)\n",
    "\n"
   ],
   "metadata": {
    "collapsed": false,
    "pycharm": {
     "name": "#%%\n"
    }
   }
  }
 ],
 "metadata": {
  "kernelspec": {
   "display_name": "Python 3",
   "language": "python",
   "name": "python3"
  },
  "language_info": {
   "codemirror_mode": {
    "name": "ipython",
    "version": 2
   },
   "file_extension": ".py",
   "mimetype": "text/x-python",
   "name": "python",
   "nbconvert_exporter": "python",
   "pygments_lexer": "ipython2",
   "version": "2.7.6"
  }
 },
 "nbformat": 4,
 "nbformat_minor": 0
}